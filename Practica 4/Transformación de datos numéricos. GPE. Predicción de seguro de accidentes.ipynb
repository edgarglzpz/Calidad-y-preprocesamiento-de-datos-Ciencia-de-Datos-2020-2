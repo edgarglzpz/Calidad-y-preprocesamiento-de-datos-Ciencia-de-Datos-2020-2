{
 "cells": [
  {
   "cell_type": "markdown",
   "metadata": {},
   "source": [
    "# Práctica 4\n",
    "\n",
    "# Dataset 1\n",
    "\n",
    "Consultado en: https://www.kaggle.com/c/porto-seguro-safe-driver-prediction/data\n",
    "\n",
    "# Tranformación de datos numéricos\n",
    "\n",
    "## Recipe\n",
    "\n",
    "La transformación de datos es una forma de hacer que los datos funcionen mejor al encontrar un modelo con métodos de aprendizaje automático. Las variables o características pueden ser de dos tipos: variable numérica y variable categórica, y su transformación debe tener diferentes enfoques."
   ]
  },
  {
   "cell_type": "markdown",
   "metadata": {},
   "source": [
    "![alt text](0.png \"Title\")"
   ]
  },
  {
   "cell_type": "markdown",
   "metadata": {},
   "source": [
    "## Transformación de variables numéricas\n",
    "\n",
    "Convertir una variable numérica en otra variable numérica. Típicamente, su objetivo es cambiar la escala de valores y/o ajustar la distribución sesgada de los datos a una distribución tal vez de tipo gaussiano mediante alguna \"transformación monótona\". Por ejemplo, los métodos basados en árboles de decisión (decision trees, random forest) son menos sensibles a la escala de valores y a los datos atípicos, caso contrario para otros métodos (por ejemplo, red neuronal, SVM, modelo lineal, etc.), donde se tienen que garantizar ciertos valores en los datos, o en algunos casos incluso de manera obligatoria utilizar alguna regularización, por ejemplo con la norma L1 o L2.\n",
    "\n",
    "## Información general sobre la transformación de datos\n",
    "\n",
    "Existen muchas técnicas de transformación de datos, entre ellas, hay muchas que utilizan parámetros, como la media y la desviación estándar de la normalización o una tabla de conversión en la codificación de categorías. Un error común en el uso de la transformación variable es transformar el conjunto de entrenamiento y el conjunto de pruebas por separado utilizando parámetros diferentes. La transformación de los datos de entrenamiento y los datos de prueba debe hacerse utilizando los mismos parámetros, y normalmente se obtienen del conjunto de entrenamiento; de lo contrario, no podemos comparar los resultados justamente."
   ]
  },
  {
   "cell_type": "markdown",
   "metadata": {},
   "source": [
    "![alt text](1.png \"Title\")"
   ]
  },
  {
   "cell_type": "markdown",
   "metadata": {},
   "source": [
    "Algunos dirán más estrictamente que cuando se trabaje con validación cruzada, los parámetros de transformación se derivarán sólo del volúmen de entrenamiento (k-fold), entonces los datos del volúmen de validación se transformarán por esos parámetros, en lugar de transformar todos los datos de entrenamiento antes de la validación cruzada. Ese enfoque podría ser necesario cuando se prevé que hay enormes diferencias en la distribución de los datos entre los volúmen. La presencia de valores atípicos es una posible razón para dar parámetros diferentes, en particular en las técnicas de transformación sensibles a los valores atípicos, como la escala mín-máx.\n",
    "\n",
    "De cualquier manera, los científicos de datos siempre tienen que preguntarse cuál es el enfoque más razonable para los datos a los que se enfrentan.\n",
    "\n",
    "### Estandarización\n",
    "\n",
    "La transformación más típica de una variable numérica es la transformación de los valores de la variable a otro conjunto de valores con media $\\mu=0$ y desviación estándar $\\sigma=1$ utilizando la resta y la división de tal manera que:\n",
    "\n",
    "\\begin{equation}\n",
    "x_{i}^{'} = \\frac{x_{i} - \\overline{x}_{n}}{s}\n",
    "\\end{equation}\n",
    "\n",
    "Donde $ \\overline{x}_{n} = \\frac{\\sum_{i=1}^{n} x_{i}}{n}$ es la media y $ s= \\sqrt{\\frac{\\sum_{i=1}^{n} (x_{i} - \\overline{x}_{n})^{2}}{n}} $"
   ]
  },
  {
   "cell_type": "code",
   "execution_count": 2,
   "metadata": {},
   "outputs": [],
   "source": [
    "import pandas as pd\n",
    "from sklearn.preprocessing import StandardScaler\n",
    "\n",
    "train = pd.read_csv('train.csv')\n",
    "test = pd.read_csv('test.csv')"
   ]
  },
  {
   "cell_type": "code",
   "execution_count": 2,
   "metadata": {},
   "outputs": [],
   "source": [
    "train_data = train[['ps_ind_03']]\n",
    "test_data = test[['ps_ind_03']]"
   ]
  },
  {
   "cell_type": "code",
   "execution_count": 3,
   "metadata": {},
   "outputs": [
    {
     "name": "stdout",
     "output_type": "stream",
     "text": [
      "train:\n",
      "    ps_ind_03\n",
      "0          5\n",
      "1          7\n",
      "2          9\n",
      "3          2\n",
      "4          0\n",
      "5          4\n",
      "6          3\n",
      "7          4\n",
      "8          3\n",
      "9          2\n",
      "\n",
      "test:\n",
      "    ps_ind_03\n",
      "0          8\n",
      "1          5\n",
      "2          3\n",
      "3          6\n",
      "4          7\n",
      "5          6\n",
      "6          3\n",
      "7          0\n",
      "8          7\n",
      "9          6\n",
      "Transformación train:\n",
      "           0\n",
      "0  0.213594\n",
      "1  0.954362\n",
      "2  1.695130\n",
      "3 -0.897559\n",
      "4 -1.638327\n",
      "5 -0.156790\n",
      "6 -0.527174\n",
      "7 -0.156790\n",
      "8 -0.527174\n",
      "9 -0.897559\n",
      "\n",
      "Transformación test:\n",
      "           0\n",
      "0  1.324746\n",
      "1  0.213594\n",
      "2 -0.527174\n",
      "3  0.583978\n",
      "4  0.954362\n",
      "5  0.583978\n",
      "6 -0.527174\n",
      "7 -1.638327\n",
      "8  0.954362\n",
      "9  0.583978\n",
      "\n",
      "Media: [4.42331808]\n",
      "\n",
      "Desviación Estándar: [7.28945835]\n"
     ]
    }
   ],
   "source": [
    "scaler = StandardScaler()\n",
    "scaler.fit(train_data)\n",
    "\n",
    "print(\"train:\\n\", train_data.head(10))\n",
    "print(\"\\ntest:\\n\", test_data.head(10))\n",
    "\n",
    "print(\"Transformación train:\\n\", pd.DataFrame(scaler.transform(train_data)).head(10))\n",
    "print(\"\\nTransformación test:\\n\", pd.DataFrame(scaler.transform(test_data)).head(10))\n",
    "\n",
    "print(\"\\nMedia:\", scaler.mean_)\n",
    "print(\"\\nDesviación Estándar:\", scaler.var_)"
   ]
  },
  {
   "cell_type": "markdown",
   "metadata": {},
   "source": [
    "### Escala min-max\n",
    "La escala mín-máx es otra de las simples transformaciones de las variables numéricas. Con la escala mín-máx, los valores deben ser convertidos a los valores dentro de $[0,1]$.\n",
    "\n",
    "\\begin{equation}\n",
    "x_{i}^{'} = \\frac{x_{i} - {x}_{max}}{x_{max} - x_{min}}\n",
    "\\end{equation}\n",
    "\n",
    "Donde $x_{max}$ es el valor máximo, y $x_{min}$ es el valor mínimo.\n",
    "\n",
    "Esta transformación depende en gran medida del número máximo y del número mínimo y, por lo tanto, es particularmente sensible a los valores atípicos. Si los valores pueden ser extremadamente grandes mientras que muchos no lo son, la estandarización es más común. La escala mín-máx es más común en el caso de que los valores oscilen en el intervalo fijo y sea menos probable que los datos se agrupen en un subrango específico en el intervalo; por ejemplo en los datos de una imagen los elementos tiende a tener el valor entre 0 y 255 para su color RGB."
   ]
  },
  {
   "cell_type": "code",
   "execution_count": 4,
   "metadata": {
    "scrolled": false
   },
   "outputs": [
    {
     "name": "stdout",
     "output_type": "stream",
     "text": [
      "train:\n",
      "    ps_ind_03\n",
      "0          5\n",
      "1          7\n",
      "2          9\n",
      "3          2\n",
      "4          0\n",
      "5          4\n",
      "6          3\n",
      "7          4\n",
      "8          3\n",
      "9          2\n",
      "test:\n",
      "    ps_ind_03\n",
      "0          8\n",
      "1          5\n",
      "2          3\n",
      "3          6\n",
      "4          7\n",
      "5          6\n",
      "6          3\n",
      "7          0\n",
      "8          7\n",
      "9          6\n",
      "\n",
      "Transformación train:\n",
      "           0\n",
      "0  0.454545\n",
      "1  0.636364\n",
      "2  0.818182\n",
      "3  0.181818\n",
      "4  0.000000\n",
      "5  0.363636\n",
      "6  0.272727\n",
      "7  0.363636\n",
      "8  0.272727\n",
      "9  0.181818\n",
      "\n",
      "Transformación test:\n",
      "           0\n",
      "0  0.727273\n",
      "1  0.454545\n",
      "2  0.272727\n",
      "3  0.545455\n",
      "4  0.636364\n",
      "5  0.545455\n",
      "6  0.272727\n",
      "7  0.000000\n",
      "8  0.636364\n",
      "9  0.545455\n"
     ]
    }
   ],
   "source": [
    "from sklearn.preprocessing import MinMaxScaler\n",
    "\n",
    "print(\"train:\\n\", train_data.head(10))\n",
    "print(\"test:\\n\", test_data.head(10))\n",
    "\n",
    "scaler = MinMaxScaler()\n",
    "scaler.fit(train_data)\n",
    "print(\"\\nTransformación train:\\n\", pd.DataFrame(scaler.transform(train_data)).head(10))\n",
    "print(\"\\nTransformación test:\\n\", pd.DataFrame(scaler.transform(test_data)).head(10))"
   ]
  },
  {
   "cell_type": "markdown",
   "metadata": {},
   "source": [
    "Consideramos un atributo que tiene un outlier. En este caso, es ps_reg_01."
   ]
  },
  {
   "cell_type": "code",
   "execution_count": 5,
   "metadata": {},
   "outputs": [
    {
     "data": {
      "image/png": "[encoded data removed]",
      "text/plain": [
       "<Figure size 432x288 with 1 Axes>"
      ]
     },
     "metadata": {
      "needs_background": "light"
     },
     "output_type": "display_data"
    }
   ],
   "source": [
    "import matplotlib.pylab as plt\n",
    "%matplotlib inline\n",
    "\n",
    "train.ps_reg_01.hist()\n",
    "plt.show()"
   ]
  },
  {
   "cell_type": "code",
   "execution_count": 6,
   "metadata": {},
   "outputs": [
    {
     "name": "stdout",
     "output_type": "stream",
     "text": [
      "\n",
      "Transformación train:\n",
      "           0\n",
      "0  0.777778\n",
      "1  0.888889\n",
      "2  0.000000\n",
      "3  1.000000\n",
      "4  0.777778\n"
     ]
    }
   ],
   "source": [
    "train_data = train[['ps_reg_01']] # Data including outlier.\n",
    "scaler = MinMaxScaler()\n",
    "scaler.fit(train_data)\n",
    "print(\"\\nTransformación train:\\n\", pd.DataFrame(scaler.transform(train_data)).head())"
   ]
  },
  {
   "cell_type": "markdown",
   "metadata": {},
   "source": [
    "### Transformación logarítmica\n",
    "\n",
    "Cuando la distribución de la variable tiene una distribución de larga duración (long-tailed distribution) (por ejemplo, ingresos individuales, gastos médicos individuales, etc.), las transformaciones logarítmicas pueden ajustar la distribución de los datos a una distribución menos sesgada, por ejemplo, de tipo gaussiano."
   ]
  },
  {
   "cell_type": "markdown",
   "metadata": {},
   "source": [
    "![alt text](2.jpg \"Title2\")"
   ]
  },
  {
   "cell_type": "markdown",
   "metadata": {},
   "source": [
    "![alt text](3.png \"Title\")"
   ]
  },
  {
   "cell_type": "code",
   "execution_count": 7,
   "metadata": {},
   "outputs": [
    {
     "data": {
      "image/png": "[encoded data removed]",
      "text/plain": [
       "<Figure size 432x288 with 1 Axes>"
      ]
     },
     "metadata": {
      "needs_background": "light"
     },
     "output_type": "display_data"
    }
   ],
   "source": [
    "train.ps_car_15.hist()\n",
    "plt.show()"
   ]
  },
  {
   "cell_type": "code",
   "execution_count": 8,
   "metadata": {},
   "outputs": [
    {
     "name": "stdout",
     "output_type": "stream",
     "text": [
      "Train:\n",
      "    ps_car_15\n",
      "0   3.605551\n",
      "1   2.449490\n",
      "2   3.316625\n",
      "3   2.000000\n",
      "4   2.000000\n",
      "5   3.000000\n",
      "6   3.162278\n",
      "7   3.316625\n",
      "8   2.828427\n",
      "9   3.605551\n",
      "\n",
      "Transformación train:\n",
      "    ps_car_15\n",
      "0   1.527262\n",
      "1   1.238226\n",
      "2   1.462474\n",
      "3   1.098612\n",
      "4   1.098612\n",
      "5   1.386294\n",
      "6   1.426062\n",
      "7   1.462474\n",
      "8   1.342454\n",
      "9   1.527262\n"
     ]
    }
   ],
   "source": [
    "import numpy as np\n",
    "\n",
    "train_data = train[['ps_car_15']]\n",
    "test_data = test[['ps_car_15']]\n",
    "\n",
    "print(\"Train:\\n\", train_data.head(10))\n",
    "print(\"\\nTransformación train:\\n\", pd.DataFrame(np.log1p(train_data)).head(10))"
   ]
  },
  {
   "cell_type": "code",
   "execution_count": 9,
   "metadata": {},
   "outputs": [
    {
     "data": {
      "image/png": "[encoded data removed]",
      "text/plain": [
       "<Figure size 432x288 with 1 Axes>"
      ]
     },
     "metadata": {
      "needs_background": "light"
     },
     "output_type": "display_data"
    }
   ],
   "source": [
    "pd.DataFrame(np.log1p(train_data)).hist()\n",
    "plt.show()"
   ]
  },
  {
   "cell_type": "markdown",
   "metadata": {},
   "source": [
    "### Transformación de Box-Cox\n",
    "\n",
    "La transformación de Box-Cox es una función compuesta con la transformación log(xi) y una transformación x−1 dependiendo del valor de lambda.\n",
    "\n",
    "\\begin{equation}\n",
    "x_{i}^{' \\lambda} = \\left\\{\n",
    "                \\begin{array}{ll}\n",
    "              \\frac{x_{i}^{ \\lambda} -1}{\\lambda} \\hspace{0.2cm} if \\hspace{0.2cm} \\lambda \\neq 0 \\\\\n",
    "                  log x_{i} \n",
    "\\hspace{0.2cm} \\lambda = 0\n",
    "                \\end{array}\n",
    "              \\right.\n",
    "              \\end{equation}\n",
    "              \n",
    "La función PowerTransformer de la librería scikit-learn puede manejar esta transformación y seleccionar automáticamente lambda para hacer que los datos sean lo más parecido a una distribución Gaussiana."
   ]
  },
  {
   "cell_type": "markdown",
   "metadata": {},
   "source": [
    "![alt text](4.png \"Title\")"
   ]
  },
  {
   "cell_type": "markdown",
   "metadata": {},
   "source": [
    "![alt text](5.png \"Title\")"
   ]
  },
  {
   "cell_type": "code",
   "execution_count": 24,
   "metadata": {},
   "outputs": [
    {
     "data": {
      "image/png": "[encoded data removed]",
      "text/plain": [
       "<Figure size 432x288 with 1 Axes>"
      ]
     },
     "metadata": {
      "needs_background": "light"
     },
     "output_type": "display_data"
    }
   ],
   "source": [
    "train.ps_car_11.hist()\n",
    "plt.show()"
   ]
  },
  {
   "cell_type": "code",
   "execution_count": 11,
   "metadata": {},
   "outputs": [
    {
     "name": "stdout",
     "output_type": "stream",
     "text": [
      "Train:\n",
      "    ps_car_11_cat\n",
      "0             12\n",
      "1             19\n",
      "2             60\n",
      "3            104\n",
      "4             82\n",
      "5            104\n",
      "6             99\n",
      "7             30\n",
      "8             68\n",
      "9            104\n",
      "\n",
      "Transformación train:\n",
      "           0\n",
      "0 -1.566740\n",
      "1 -1.314441\n",
      "2 -0.018238\n",
      "3  1.222892\n",
      "4  0.614768\n",
      "5  1.222892\n",
      "6  1.086506\n",
      "7 -0.943869\n",
      "8  0.215364\n",
      "9  1.222892\n",
      "\n",
      "Lambda: [0.85248972]\n",
      "\n",
      "Media: -9.245762880450603e-16\n",
      "\n",
      "Desviación Estándar: 1.0\n"
     ]
    }
   ],
   "source": [
    "import pandas as pd\n",
    "import numpy as np\n",
    "from sklearn.preprocessing import PowerTransformer\n",
    "\n",
    "train_data = train[['ps_car_11_cat']]\n",
    "\n",
    "pt = PowerTransformer(method='box-cox')\n",
    "pt.fit(train_data)\n",
    "train_data_trans = pt.transform(train_data)\n",
    "print(\"Train:\\n\", train_data.head(10))\n",
    "print(\"\\nTransformación train:\\n\", pd.DataFrame(train_data_trans).head(10))\n",
    "\n",
    "print(\"\\nLambda:\", pt.lambdas_) # Automatically selected \n",
    "print(\"\\nMedia:\", np.mean(train_data_trans)) \n",
    "print(\"\\nDesviación Estándar:\", np.std(train_data_trans)) "
   ]
  },
  {
   "cell_type": "code",
   "execution_count": 25,
   "metadata": {},
   "outputs": [
    {
     "data": {
      "image/png": "[encoded data removed]",
      "text/plain": [
       "<Figure size 432x288 with 1 Axes>"
      ]
     },
     "metadata": {
      "needs_background": "light"
     },
     "output_type": "display_data"
    }
   ],
   "source": [
    "pd.DataFrame(train_data_trans).hist()\n",
    "plt.show()"
   ]
  },
  {
   "cell_type": "markdown",
   "metadata": {},
   "source": [
    "### Transformación Yeo-Johnson\n",
    "\n",
    "La transformación de Yeo-Johnson es una función compuesta de transformación que permite valores negativos, a diferencia de la transformación de Box-Cox."
   ]
  },
  {
   "cell_type": "markdown",
   "metadata": {},
   "source": [
    "![alt text](6.png \"Title\")"
   ]
  },
  {
   "cell_type": "markdown",
   "metadata": {},
   "source": [
    "Con lambda=1, la transformación es una transformación casi de identidad. El cambio en lambda afecta al valor transformado como se muestra en el siguiente gráfico."
   ]
  },
  {
   "cell_type": "markdown",
   "metadata": {},
   "source": [
    "![alt text](7.png \"Title\")"
   ]
  },
  {
   "cell_type": "code",
   "execution_count": 13,
   "metadata": {},
   "outputs": [
    {
     "data": {
      "image/png": "[encoded data removed]",
      "text/plain": [
       "<Figure size 432x288 with 1 Axes>"
      ]
     },
     "metadata": {
      "needs_background": "light"
     },
     "output_type": "display_data"
    }
   ],
   "source": [
    "train.ps_car_13.hist()\n",
    "plt.show()"
   ]
  },
  {
   "cell_type": "code",
   "execution_count": 14,
   "metadata": {},
   "outputs": [
    {
     "name": "stdout",
     "output_type": "stream",
     "text": [
      "train:\n",
      "    ps_car_13\n",
      "0   0.883679\n",
      "1   0.618817\n",
      "2   0.641586\n",
      "3   0.542949\n",
      "4   0.565832\n",
      "5   0.879049\n",
      "6   0.639683\n",
      "7   0.900574\n",
      "8   0.780641\n",
      "9   1.458184\n",
      "\n",
      "Transformación train:\n",
      "           0\n",
      "0  0.543054\n",
      "1 -0.995801\n",
      "2 -0.828050\n",
      "3 -1.619590\n",
      "4 -1.420169\n",
      "5  0.522479\n",
      "6 -0.841755\n",
      "7  0.616643\n",
      "8  0.039232\n",
      "9  2.158117\n",
      "\n",
      "Lambdas: [-2.52693778]\n",
      "\n",
      "Media: 3.372407544500108e-15\n",
      "\n",
      "Desviación estándar: 1.0\n"
     ]
    }
   ],
   "source": [
    "import pandas as pd\n",
    "import numpy as np\n",
    "from sklearn.preprocessing import PowerTransformer\n",
    "\n",
    "train_data = train[['ps_car_13']]\n",
    "\n",
    "pt = PowerTransformer(method='yeo-johnson')\n",
    "pt.fit(train_data)\n",
    "train_data_trans = pt.transform(train_data)\n",
    "print(\"train:\\n\", train_data.head(10))\n",
    "print(\"\\nTransformación train:\\n\", pd.DataFrame(train_data_trans).head(10))\n",
    "\n",
    "print(\"\\nLambdas:\",pt.lambdas_) # Automatically selected \n",
    "print(\"\\nMedia:\", np.mean(train_data_trans)) \n",
    "print(\"\\nDesviación estándar:\", np.std(train_data_trans)) "
   ]
  },
  {
   "cell_type": "code",
   "execution_count": 15,
   "metadata": {},
   "outputs": [
    {
     "data": {
      "image/png": "[encoded data removed]",
      "text/plain": [
       "<Figure size 432x288 with 1 Axes>"
      ]
     },
     "metadata": {
      "needs_background": "light"
     },
     "output_type": "display_data"
    }
   ],
   "source": [
    "pd.DataFrame(train_data_trans).hist()\n",
    "plt.show()"
   ]
  },
  {
   "cell_type": "markdown",
   "metadata": {},
   "source": [
    "### Recorte\n",
    "\n",
    "El recorte (clipping) es un enfoque para limitar o reducir los valores en puntos de valor específicos. Esto puede eliminar los valores atípicos, a costa de una posible pérdida de información de datos. El recorte se puede hacer fácilmente por medio de la función de clip de pandas o numpy. El siguiente código recorta los valores en el 1% y el 99% de los datos."
   ]
  },
  {
   "cell_type": "code",
   "execution_count": 16,
   "metadata": {},
   "outputs": [
    {
     "name": "stdout",
     "output_type": "stream",
     "text": [
      "p25:\n",
      " ps_ind_01    0.0\n",
      "ps_ind_03    2.0\n",
      "Name: 0.25, dtype: float64\n",
      "p75:\n",
      " ps_ind_01    3.0\n",
      "ps_ind_03    6.0\n",
      "Name: 0.75, dtype: float64\n"
     ]
    }
   ],
   "source": [
    "# Multiple columns can be clipped at once.\n",
    "\n",
    "df= train[['ps_ind_01', 'ps_ind_03']]\n",
    "\n",
    "p25 = df.quantile(0.25)\n",
    "p75 = df.quantile(0.75)\n",
    "print(\"p25:\\n\", p25)\n",
    "print(\"p75:\\n\", p75)"
   ]
  },
  {
   "cell_type": "code",
   "execution_count": 27,
   "metadata": {},
   "outputs": [
    {
     "data": {
      "text/html": [
       "<div>\n",
       "<style scoped>\n",
       "    .dataframe tbody tr th:only-of-type {\n",
       "        vertical-align: middle;\n",
       "    }\n",
       "\n",
       "    .dataframe tbody tr th {\n",
       "        vertical-align: top;\n",
       "    }\n",
       "\n",
       "    .dataframe thead th {\n",
       "        text-align: right;\n",
       "    }\n",
       "</style>\n",
       "<table border=\"1\" class=\"dataframe\">\n",
       "  <thead>\n",
       "    <tr style=\"text-align: right;\">\n",
       "      <th></th>\n",
       "      <th>ps_ind_01</th>\n",
       "      <th>ps_ind_03</th>\n",
       "    </tr>\n",
       "  </thead>\n",
       "  <tbody>\n",
       "    <tr>\n",
       "      <th>0</th>\n",
       "      <td>2</td>\n",
       "      <td>5</td>\n",
       "    </tr>\n",
       "    <tr>\n",
       "      <th>1</th>\n",
       "      <td>1</td>\n",
       "      <td>6</td>\n",
       "    </tr>\n",
       "    <tr>\n",
       "      <th>2</th>\n",
       "      <td>3</td>\n",
       "      <td>6</td>\n",
       "    </tr>\n",
       "    <tr>\n",
       "      <th>3</th>\n",
       "      <td>0</td>\n",
       "      <td>2</td>\n",
       "    </tr>\n",
       "    <tr>\n",
       "      <th>4</th>\n",
       "      <td>0</td>\n",
       "      <td>2</td>\n",
       "    </tr>\n",
       "    <tr>\n",
       "      <th>5</th>\n",
       "      <td>3</td>\n",
       "      <td>4</td>\n",
       "    </tr>\n",
       "    <tr>\n",
       "      <th>6</th>\n",
       "      <td>2</td>\n",
       "      <td>3</td>\n",
       "    </tr>\n",
       "    <tr>\n",
       "      <th>7</th>\n",
       "      <td>3</td>\n",
       "      <td>4</td>\n",
       "    </tr>\n",
       "    <tr>\n",
       "      <th>8</th>\n",
       "      <td>3</td>\n",
       "      <td>3</td>\n",
       "    </tr>\n",
       "    <tr>\n",
       "      <th>9</th>\n",
       "      <td>1</td>\n",
       "      <td>2</td>\n",
       "    </tr>\n",
       "  </tbody>\n",
       "</table>\n",
       "</div>"
      ],
      "text/plain": [
       "   ps_ind_01  ps_ind_03\n",
       "0          2          5\n",
       "1          1          6\n",
       "2          3          6\n",
       "3          0          2\n",
       "4          0          2\n",
       "5          3          4\n",
       "6          2          3\n",
       "7          3          4\n",
       "8          3          3\n",
       "9          1          2"
      ]
     },
     "execution_count": 27,
     "metadata": {},
     "output_type": "execute_result"
    }
   ],
   "source": [
    "data = {'ps_ind_01': train['ps_ind_01'], 'ps_ind_03': train['ps_ind_03']}\n",
    "df = pd.DataFrame(data)\n",
    "\n",
    "df[['ps_ind_01', 'ps_ind_03']] = df[['ps_ind_01', 'ps_ind_03']].clip(p25,p75,axis=1).astype('int')\n",
    "df.head(10)"
   ]
  },
  {
   "cell_type": "markdown",
   "metadata": {},
   "source": [
    "### Binning\n",
    "\n",
    "En Binning se agrupan los valores a intervalos distintos, y se utiliza un índice de grupo representativa de cada intervalo como una variable categórica. Se puede usar como una variable categórica ordinal o una variable numérica discreta tipo rango (discretizada). Como variable categórica también se puede trasnformar a numérica, mediante una codificación de un solo golpe (one-hot encoding) u otras transformaciones de variables categóricas.\n",
    "\n",
    "La determinación de los intervalos es el parámetro del método, y puede ser por intervalos regulares, puntos de percentil, u otra configuración manual basada en el conocimiento del dominio sobre los datos. El binning puede hacerse mediante la función de cut de pandas o la función de digitize de numpy."
   ]
  },
  {
   "cell_type": "code",
   "execution_count": 18,
   "metadata": {},
   "outputs": [
    {
     "data": {
      "text/html": [
       "<div>\n",
       "<style scoped>\n",
       "    .dataframe tbody tr th:only-of-type {\n",
       "        vertical-align: middle;\n",
       "    }\n",
       "\n",
       "    .dataframe tbody tr th {\n",
       "        vertical-align: top;\n",
       "    }\n",
       "\n",
       "    .dataframe thead th {\n",
       "        text-align: right;\n",
       "    }\n",
       "</style>\n",
       "<table border=\"1\" class=\"dataframe\">\n",
       "  <thead>\n",
       "    <tr style=\"text-align: right;\">\n",
       "      <th></th>\n",
       "      <th>ps_reg_02</th>\n",
       "      <th>ps_reg_02_binned</th>\n",
       "    </tr>\n",
       "  </thead>\n",
       "  <tbody>\n",
       "    <tr>\n",
       "      <th>0</th>\n",
       "      <td>0.2</td>\n",
       "      <td>1</td>\n",
       "    </tr>\n",
       "    <tr>\n",
       "      <th>1</th>\n",
       "      <td>0.4</td>\n",
       "      <td>2</td>\n",
       "    </tr>\n",
       "    <tr>\n",
       "      <th>2</th>\n",
       "      <td>0.0</td>\n",
       "      <td>0</td>\n",
       "    </tr>\n",
       "    <tr>\n",
       "      <th>3</th>\n",
       "      <td>0.2</td>\n",
       "      <td>1</td>\n",
       "    </tr>\n",
       "    <tr>\n",
       "      <th>4</th>\n",
       "      <td>0.6</td>\n",
       "      <td>3</td>\n",
       "    </tr>\n",
       "    <tr>\n",
       "      <th>5</th>\n",
       "      <td>1.8</td>\n",
       "      <td>9</td>\n",
       "    </tr>\n",
       "    <tr>\n",
       "      <th>6</th>\n",
       "      <td>0.1</td>\n",
       "      <td>0</td>\n",
       "    </tr>\n",
       "    <tr>\n",
       "      <th>7</th>\n",
       "      <td>0.4</td>\n",
       "      <td>2</td>\n",
       "    </tr>\n",
       "    <tr>\n",
       "      <th>8</th>\n",
       "      <td>0.7</td>\n",
       "      <td>3</td>\n",
       "    </tr>\n",
       "    <tr>\n",
       "      <th>9</th>\n",
       "      <td>1.4</td>\n",
       "      <td>7</td>\n",
       "    </tr>\n",
       "  </tbody>\n",
       "</table>\n",
       "</div>"
      ],
      "text/plain": [
       "   ps_reg_02  ps_reg_02_binned\n",
       "0        0.2                 1\n",
       "1        0.4                 2\n",
       "2        0.0                 0\n",
       "3        0.2                 1\n",
       "4        0.6                 3\n",
       "5        1.8                 9\n",
       "6        0.1                 0\n",
       "7        0.4                 2\n",
       "8        0.7                 3\n",
       "9        1.4                 7"
      ]
     },
     "execution_count": 18,
     "metadata": {},
     "output_type": "execute_result"
    }
   ],
   "source": [
    "#when bins is integer, it will be the number of bins and bin widths are to be equal.\n",
    "\n",
    "df= pd.DataFrame(train['ps_reg_02'], columns=['ps_reg_02'])\n",
    "\n",
    "df['ps_reg_02_binned'] = pd.cut(df['ps_reg_02'], bins=10, labels=False) \n",
    "df[['ps_reg_02','ps_reg_02_binned']].head(10)"
   ]
  },
  {
   "cell_type": "markdown",
   "metadata": {},
   "source": [
    "### Rango\n",
    "\n",
    "Este método funciona convirtiendo los valores numéricos en rangos de valores. Cuando se analiza el número de clientes en una tienda, es probable que el número de clientes en días festivos sea mucho mayor que el de los días de semana. Cambiar los números a rangos puede neutralizar el impacto del número absoluto de clientes.\n",
    "\n",
    "La función rank de pandas o la función argsortde numpy puede manejar esta transformación."
   ]
  },
  {
   "cell_type": "code",
   "execution_count": 19,
   "metadata": {},
   "outputs": [
    {
     "data": {
      "text/html": [
       "<div>\n",
       "<style scoped>\n",
       "    .dataframe tbody tr th:only-of-type {\n",
       "        vertical-align: middle;\n",
       "    }\n",
       "\n",
       "    .dataframe tbody tr th {\n",
       "        vertical-align: top;\n",
       "    }\n",
       "\n",
       "    .dataframe thead th {\n",
       "        text-align: right;\n",
       "    }\n",
       "</style>\n",
       "<table border=\"1\" class=\"dataframe\">\n",
       "  <thead>\n",
       "    <tr style=\"text-align: right;\">\n",
       "      <th></th>\n",
       "      <th>ps_ind_15</th>\n",
       "      <th>ps_ind_15_rank</th>\n",
       "    </tr>\n",
       "  </thead>\n",
       "  <tbody>\n",
       "    <tr>\n",
       "      <th>0</th>\n",
       "      <td>11</td>\n",
       "      <td>488498</td>\n",
       "    </tr>\n",
       "    <tr>\n",
       "      <th>1</th>\n",
       "      <td>3</td>\n",
       "      <td>78252</td>\n",
       "    </tr>\n",
       "    <tr>\n",
       "      <th>2</th>\n",
       "      <td>12</td>\n",
       "      <td>537531</td>\n",
       "    </tr>\n",
       "    <tr>\n",
       "      <th>3</th>\n",
       "      <td>8</td>\n",
       "      <td>332252</td>\n",
       "    </tr>\n",
       "    <tr>\n",
       "      <th>4</th>\n",
       "      <td>9</td>\n",
       "      <td>384801</td>\n",
       "    </tr>\n",
       "    <tr>\n",
       "      <th>5</th>\n",
       "      <td>6</td>\n",
       "      <td>207912</td>\n",
       "    </tr>\n",
       "    <tr>\n",
       "      <th>6</th>\n",
       "      <td>8</td>\n",
       "      <td>332252</td>\n",
       "    </tr>\n",
       "    <tr>\n",
       "      <th>7</th>\n",
       "      <td>13</td>\n",
       "      <td>577584</td>\n",
       "    </tr>\n",
       "    <tr>\n",
       "      <th>8</th>\n",
       "      <td>6</td>\n",
       "      <td>207912</td>\n",
       "    </tr>\n",
       "    <tr>\n",
       "      <th>9</th>\n",
       "      <td>4</td>\n",
       "      <td>115270</td>\n",
       "    </tr>\n",
       "  </tbody>\n",
       "</table>\n",
       "</div>"
      ],
      "text/plain": [
       "   ps_ind_15  ps_ind_15_rank\n",
       "0         11          488498\n",
       "1          3           78252\n",
       "2         12          537531\n",
       "3          8          332252\n",
       "4          9          384801\n",
       "5          6          207912\n",
       "6          8          332252\n",
       "7         13          577584\n",
       "8          6          207912\n",
       "9          4          115270"
      ]
     },
     "execution_count": 19,
     "metadata": {},
     "output_type": "execute_result"
    }
   ],
   "source": [
    "df = pd.DataFrame(train['ps_ind_15'], columns=['ps_ind_15'])\n",
    "df['ps_ind_15_rank'] = df.ps_ind_15.rank().astype('int')  #the rank of values starting from 1\n",
    "df.head(10)"
   ]
  },
  {
   "cell_type": "markdown",
   "metadata": {},
   "source": [
    "### RankGauss\n",
    "\n",
    "RankGauss es un enfoque para convertir los valores a rangos, y después convierte estos rangos a otro valor numérico siguiendo una distribución Gaussiana (ver el gráfico a continuación.)"
   ]
  },
  {
   "cell_type": "markdown",
   "metadata": {},
   "source": [
    "![alt text](8.png \"Title\")"
   ]
  },
  {
   "cell_type": "markdown",
   "metadata": {},
   "source": [
    "Esto se utilizó en la solución de primer lugar de la Predicción de Conductores Seguros de Porto Segro Porto Segro’s Safe Driver Prediction first place solution para su modelo de red neural. El ganador del primer lugar, Michael Jahrer, afirmó que funcionaba mejor que la estandarización o el escalamiento mín-máx para su modelo de red neuronal.\n",
    "\n",
    "La función QuantileTransformer en sklearn.preprocessing puede manejar esta transformación estableciendo los parámetros n_quantiles (se recomiendan valores grandes) y output_distribution = 'normal'."
   ]
  },
  {
   "cell_type": "code",
   "execution_count": 22,
   "metadata": {},
   "outputs": [
    {
     "data": {
      "text/html": [
       "<div>\n",
       "<style scoped>\n",
       "    .dataframe tbody tr th:only-of-type {\n",
       "        vertical-align: middle;\n",
       "    }\n",
       "\n",
       "    .dataframe tbody tr th {\n",
       "        vertical-align: top;\n",
       "    }\n",
       "\n",
       "    .dataframe thead th {\n",
       "        text-align: right;\n",
       "    }\n",
       "</style>\n",
       "<table border=\"1\" class=\"dataframe\">\n",
       "  <thead>\n",
       "    <tr style=\"text-align: right;\">\n",
       "      <th></th>\n",
       "      <th>ps_ind_15</th>\n",
       "      <th>ps_ind_15_RankGauss</th>\n",
       "    </tr>\n",
       "  </thead>\n",
       "  <tbody>\n",
       "    <tr>\n",
       "      <th>0</th>\n",
       "      <td>11</td>\n",
       "      <td>0.967422</td>\n",
       "    </tr>\n",
       "    <tr>\n",
       "      <th>1</th>\n",
       "      <td>3</td>\n",
       "      <td>-1.220640</td>\n",
       "    </tr>\n",
       "    <tr>\n",
       "      <th>2</th>\n",
       "      <td>12</td>\n",
       "      <td>1.220640</td>\n",
       "    </tr>\n",
       "    <tr>\n",
       "      <th>3</th>\n",
       "      <td>8</td>\n",
       "      <td>0.139710</td>\n",
       "    </tr>\n",
       "    <tr>\n",
       "      <th>4</th>\n",
       "      <td>9</td>\n",
       "      <td>0.430727</td>\n",
       "    </tr>\n",
       "    <tr>\n",
       "      <th>5</th>\n",
       "      <td>6</td>\n",
       "      <td>-0.430727</td>\n",
       "    </tr>\n",
       "    <tr>\n",
       "      <th>6</th>\n",
       "      <td>8</td>\n",
       "      <td>0.139710</td>\n",
       "    </tr>\n",
       "    <tr>\n",
       "      <th>7</th>\n",
       "      <td>13</td>\n",
       "      <td>5.199338</td>\n",
       "    </tr>\n",
       "    <tr>\n",
       "      <th>8</th>\n",
       "      <td>6</td>\n",
       "      <td>-0.430727</td>\n",
       "    </tr>\n",
       "    <tr>\n",
       "      <th>9</th>\n",
       "      <td>4</td>\n",
       "      <td>-0.764710</td>\n",
       "    </tr>\n",
       "  </tbody>\n",
       "</table>\n",
       "</div>"
      ],
      "text/plain": [
       "   ps_ind_15  ps_ind_15_RankGauss\n",
       "0         11             0.967422\n",
       "1          3            -1.220640\n",
       "2         12             1.220640\n",
       "3          8             0.139710\n",
       "4          9             0.430727\n",
       "5          6            -0.430727\n",
       "6          8             0.139710\n",
       "7         13             5.199338\n",
       "8          6            -0.430727\n",
       "9          4            -0.764710"
      ]
     },
     "execution_count": 22,
     "metadata": {},
     "output_type": "execute_result"
    }
   ],
   "source": [
    "from sklearn.preprocessing import QuantileTransformer\n",
    "\n",
    "data = {'ps_ind_15': train['ps_ind_15'], 'ps_reg_02': train['ps_reg_02']}\n",
    "df = pd.DataFrame(data)\n",
    "    \n",
    "transformer = QuantileTransformer(n_quantiles=10, random_state=1111, output_distribution='normal')\n",
    "transformer.fit(df[['ps_ind_15']])\n",
    "df['ps_ind_15_RankGauss'] = transformer.transform(df[['ps_ind_15']])\n",
    "df[['ps_ind_15','ps_ind_15_RankGauss']].head(10)"
   ]
  },
  {
   "cell_type": "code",
   "execution_count": 23,
   "metadata": {
    "scrolled": true
   },
   "outputs": [
    {
     "data": {
      "image/png": "[encoded data removed]",
      "text/plain": [
       "<Figure size 864x360 with 2 Axes>"
      ]
     },
     "metadata": {
      "needs_background": "light"
     },
     "output_type": "display_data"
    }
   ],
   "source": [
    "fig, (ax1, ax2) = plt.subplots(1,2, figsize=[12,5])\n",
    "ax1.hist(df['ps_ind_15'],bins=100)\n",
    "ax1.title.set_text('Original Data')\n",
    "ax2.hist(df['ps_ind_15_RankGauss'],bins=100)\n",
    "ax2.title.set_text('RankGauss-ed Data')\n",
    "plt.show()"
   ]
  }
 ],
 "metadata": {
  "kernelspec": {
   "display_name": "Python 3",
   "language": "python",
   "name": "python3"
  },
  "language_info": {
   "codemirror_mode": {
    "name": "ipython",
    "version": 3
   },
   "file_extension": ".py",
   "mimetype": "text/x-python",
   "name": "python",
   "nbconvert_exporter": "python",
   "pygments_lexer": "ipython3",
   "version": "3.7.3"
  }
 },
 "nbformat": 4,
 "nbformat_minor": 2
}
