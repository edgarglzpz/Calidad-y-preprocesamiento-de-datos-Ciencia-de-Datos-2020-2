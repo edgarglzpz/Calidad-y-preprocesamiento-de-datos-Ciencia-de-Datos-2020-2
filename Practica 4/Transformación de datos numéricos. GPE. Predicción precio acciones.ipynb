{
 "cells": [
  {
   "cell_type": "markdown",
   "metadata": {},
   "source": [
    "# Práctica 4\n",
    "\n",
    "# Dataset 2\n",
    "\n",
    "Consultado en: https://www.kaggle.com/daiearth22/uniqlo-fastretailing-stock-price-prediction\n",
    "\n",
    "# Tranformación de datos numéricos\n",
    "\n",
    "## Recipe\n",
    "\n",
    "La transformación de datos es una forma de hacer que los datos funcionen mejor al encontrar un modelo con métodos de aprendizaje automático. Las variables o características pueden ser de dos tipos: variable numérica y variable categórica, y su transformación debe tener diferentes enfoques."
   ]
  },
  {
   "cell_type": "markdown",
   "metadata": {},
   "source": [
    "![alt text](0.png \"Title\")"
   ]
  },
  {
   "cell_type": "markdown",
   "metadata": {},
   "source": [
    "## Transformación de variables numéricas\n",
    "\n",
    "Convertir una variable numérica en otra variable numérica. Típicamente, su objetivo es cambiar la escala de valores y/o ajustar la distribución sesgada de los datos a una distribución tal vez de tipo gaussiano mediante alguna \"transformación monótona\". Por ejemplo, los métodos basados en árboles de decisión (decision trees, random forest) son menos sensibles a la escala de valores y a los datos atípicos, caso contrario para otros métodos (por ejemplo, red neuronal, SVM, modelo lineal, etc.), donde se tienen que garantizar ciertos valores en los datos, o en algunos casos incluso de manera obligatoria utilizar alguna regularización, por ejemplo con la norma L1 o L2.\n",
    "\n",
    "## Información general sobre la transformación de datos\n",
    "\n",
    "Existen muchas técnicas de transformación de datos, entre ellas, hay muchas que utilizan parámetros, como la media y la desviación estándar de la normalización o una tabla de conversión en la codificación de categorías. Un error común en el uso de la transformación variable es transformar el conjunto de entrenamiento y el conjunto de pruebas por separado utilizando parámetros diferentes. La transformación de los datos de entrenamiento y los datos de prueba debe hacerse utilizando los mismos parámetros, y normalmente se obtienen del conjunto de entrenamiento; de lo contrario, no podemos comparar los resultados justamente."
   ]
  },
  {
   "cell_type": "markdown",
   "metadata": {},
   "source": [
    "![alt text](1.png \"Title\")"
   ]
  },
  {
   "cell_type": "markdown",
   "metadata": {},
   "source": [
    "Algunos dirán más estrictamente que cuando se trabaje con validación cruzada, los parámetros de transformación se derivarán sólo del volúmen de entrenamiento (k-fold), entonces los datos del volúmen de validación se transformarán por esos parámetros, en lugar de transformar todos los datos de entrenamiento antes de la validación cruzada. Ese enfoque podría ser necesario cuando se prevé que hay enormes diferencias en la distribución de los datos entre los volúmen. La presencia de valores atípicos es una posible razón para dar parámetros diferentes, en particular en las técnicas de transformación sensibles a los valores atípicos, como la escala mín-máx.\n",
    "\n",
    "De cualquier manera, los científicos de datos siempre tienen que preguntarse cuál es el enfoque más razonable para los datos a los que se enfrentan.\n",
    "\n",
    "### Estandarización\n",
    "\n",
    "La transformación más típica de una variable numérica es la transformación de los valores de la variable a otro conjunto de valores con media $\\mu=0$ y desviación estándar $\\sigma=1$ utilizando la resta y la división de tal manera que:\n",
    "\n",
    "\\begin{equation}\n",
    "x_{i}^{'} = \\frac{x_{i} - \\overline{x}_{n}}{s}\n",
    "\\end{equation}\n",
    "\n",
    "Donde $ \\overline{x}_{n} = \\frac{\\sum_{i=1}^{n} x_{i}}{n}$ es la media y $ s= \\sqrt{\\frac{\\sum_{i=1}^{n} (x_{i} - \\overline{x}_{n})^{2}}{n}} $\n",
    "$$"
   ]
  },
  {
   "cell_type": "code",
   "execution_count": 1,
   "metadata": {},
   "outputs": [],
   "source": [
    "import pandas as pd\n",
    "from sklearn.preprocessing import StandardScaler\n",
    "\n",
    "train = pd.read_csv('Uniqlo(FastRetailing) 2012-2016 Training - stocks2012-2016.csv')\n",
    "test = pd.read_csv('Uniqlo(FastRetailing) 2017 Test - stocks2017.csv')"
   ]
  },
  {
   "cell_type": "code",
   "execution_count": 2,
   "metadata": {},
   "outputs": [],
   "source": [
    "train_data = train[['High']]\n",
    "test_data = test[['High']]"
   ]
  },
  {
   "cell_type": "code",
   "execution_count": 3,
   "metadata": {},
   "outputs": [
    {
     "name": "stdout",
     "output_type": "stream",
     "text": [
      "train:\n",
      "     High\n",
      "0  42330\n",
      "1  43220\n",
      "2  43970\n",
      "3  43700\n",
      "4  43660\n",
      "5  43840\n",
      "6  44370\n",
      "7  43630\n",
      "8  43150\n",
      "9  43550\n",
      "\n",
      "test:\n",
      "     High\n",
      "0  39380\n",
      "1  38450\n",
      "2  38880\n",
      "3  38850\n",
      "4  41030\n",
      "5  43330\n",
      "6  43330\n",
      "Transformación train:\n",
      "           0\n",
      "0  0.745638\n",
      "1  0.827051\n",
      "2  0.895658\n",
      "3  0.870960\n",
      "4  0.867301\n",
      "5  0.883766\n",
      "6  0.932248\n",
      "7  0.864556\n",
      "8  0.820648\n",
      "9  0.857238\n",
      "\n",
      "Transformación test:\n",
      "           0\n",
      "0  0.475785\n",
      "1  0.390712\n",
      "2  0.430047\n",
      "3  0.427303\n",
      "4  0.626720\n",
      "5  0.837114\n",
      "6  0.837114\n",
      "\n",
      "Media: [34178.78466558]\n",
      "\n",
      "Desviación Estándar: [1.19505688e+08]\n"
     ]
    }
   ],
   "source": [
    "scaler = StandardScaler()\n",
    "scaler.fit(train_data)\n",
    "\n",
    "print(\"train:\\n\", train_data.head(10))\n",
    "print(\"\\ntest:\\n\", test_data.head(10))\n",
    "\n",
    "print(\"Transformación train:\\n\", pd.DataFrame(scaler.transform(train_data)).head(10))\n",
    "print(\"\\nTransformación test:\\n\", pd.DataFrame(scaler.transform(test_data)).head(10))\n",
    "\n",
    "print(\"\\nMedia:\", scaler.mean_)\n",
    "print(\"\\nDesviación Estándar:\", scaler.var_)"
   ]
  },
  {
   "cell_type": "markdown",
   "metadata": {},
   "source": [
    "### Escala min-max\n",
    "La escala mín-máx es otra de las simples transformaciones de las variables numéricas. Con la escala mín-máx, los valores deben ser convertidos a los valores dentro de $[0,1]$.\n",
    "\n",
    "\\begin{equation}\n",
    "x_{i}^{'} = \\frac{x_{i} - {x}_{max}}{x_{max} - x_{min}}\n",
    "\\end{equation}\n",
    "\n",
    "Donde $x_{max}$ es el valor máximo, y $x_{min}$ es el valor mínimo.\n",
    "\n",
    "Esta transformación depende en gran medida del número máximo y del número mínimo y, por lo tanto, es particularmente sensible a los valores atípicos. Si los valores pueden ser extremadamente grandes mientras que muchos no lo son, la estandarización es más común. La escala mín-máx es más común en el caso de que los valores oscilen en el intervalo fijo y sea menos probable que los datos se agrupen en un subrango específico en el intervalo; por ejemplo en los datos de una imagen los elementos tiende a tener el valor entre 0 y 255 para su color RGB."
   ]
  },
  {
   "cell_type": "code",
   "execution_count": 4,
   "metadata": {
    "scrolled": false
   },
   "outputs": [
    {
     "name": "stdout",
     "output_type": "stream",
     "text": [
      "train:\n",
      "     High\n",
      "0  42330\n",
      "1  43220\n",
      "2  43970\n",
      "3  43700\n",
      "4  43660\n",
      "5  43840\n",
      "6  44370\n",
      "7  43630\n",
      "8  43150\n",
      "9  43550\n",
      "test:\n",
      "     High\n",
      "0  39380\n",
      "1  38450\n",
      "2  38880\n",
      "3  38850\n",
      "4  41030\n",
      "5  43330\n",
      "6  43330\n",
      "\n",
      "Transformación train:\n",
      "           0\n",
      "0  0.591938\n",
      "1  0.610430\n",
      "2  0.626013\n",
      "3  0.620403\n",
      "4  0.619572\n",
      "5  0.623312\n",
      "6  0.634324\n",
      "7  0.618949\n",
      "8  0.608976\n",
      "9  0.617287\n",
      "\n",
      "Transformación test:\n",
      "           0\n",
      "0  0.530646\n",
      "1  0.511323\n",
      "2  0.520258\n",
      "3  0.519634\n",
      "4  0.564928\n",
      "5  0.612716\n",
      "6  0.612716\n"
     ]
    }
   ],
   "source": [
    "from sklearn.preprocessing import MinMaxScaler\n",
    "\n",
    "print(\"train:\\n\", train_data.head(10))\n",
    "print(\"test:\\n\", test_data.head(10))\n",
    "\n",
    "scaler = MinMaxScaler()\n",
    "scaler.fit(train_data)\n",
    "print(\"\\nTransformación train:\\n\", pd.DataFrame(scaler.transform(train_data)).head(10))\n",
    "print(\"\\nTransformación test:\\n\", pd.DataFrame(scaler.transform(test_data)).head(10))"
   ]
  },
  {
   "cell_type": "markdown",
   "metadata": {},
   "source": [
    "Consideramos un atributo que tiene un outlier. En este caso, es Stock Trading."
   ]
  },
  {
   "cell_type": "code",
   "execution_count": 5,
   "metadata": {},
   "outputs": [
    {
     "data": {
      "image/png": "[encoded data removed]",
      "text/plain": [
       "<Figure size 432x288 with 1 Axes>"
      ]
     },
     "metadata": {
      "needs_background": "light"
     },
     "output_type": "display_data"
    }
   ],
   "source": [
    "import matplotlib.pylab as plt\n",
    "%matplotlib inline\n",
    "\n",
    "train['Stock Trading'].hist()\n",
    "plt.show()"
   ]
  },
  {
   "cell_type": "code",
   "execution_count": 6,
   "metadata": {},
   "outputs": [
    {
     "name": "stdout",
     "output_type": "stream",
     "text": [
      "\n",
      "Transformación train:\n",
      "           0\n",
      "0  0.152464\n",
      "1  0.107138\n",
      "2  0.076116\n",
      "3  0.094749\n",
      "4  0.081516\n",
      "5  0.088826\n",
      "6  0.176157\n",
      "7  0.124156\n",
      "8  0.080676\n",
      "9  0.136646\n"
     ]
    }
   ],
   "source": [
    "train_data = train[['Stock Trading']] # Data including outlier.\n",
    "scaler = MinMaxScaler()\n",
    "scaler.fit(train_data)\n",
    "print(\"\\nTransformación train:\\n\", pd.DataFrame(scaler.transform(train_data)).head(10))"
   ]
  },
  {
   "cell_type": "markdown",
   "metadata": {},
   "source": [
    "### Transformación logarítmica\n",
    "\n",
    "Cuando la distribución de la variable tiene una distribución de larga duración (long-tailed distribution) (por ejemplo, ingresos individuales, gastos médicos individuales, etc.), las transformaciones logarítmicas pueden ajustar la distribución de los datos a una distribución menos sesgada, por ejemplo, de tipo gaussiano."
   ]
  },
  {
   "cell_type": "markdown",
   "metadata": {},
   "source": [
    "![alt text](2.jpg \"Title2\")"
   ]
  },
  {
   "cell_type": "markdown",
   "metadata": {},
   "source": [
    "![alt text](3.png \"Title\")"
   ]
  },
  {
   "cell_type": "code",
   "execution_count": 7,
   "metadata": {},
   "outputs": [
    {
     "data": {
      "image/png": "[encoded data removed]",
      "text/plain": [
       "<Figure size 432x288 with 1 Axes>"
      ]
     },
     "metadata": {
      "needs_background": "light"
     },
     "output_type": "display_data"
    }
   ],
   "source": [
    "train.Volume.hist()\n",
    "plt.show()"
   ]
  },
  {
   "cell_type": "code",
   "execution_count": 8,
   "metadata": {},
   "outputs": [
    {
     "name": "stdout",
     "output_type": "stream",
     "text": [
      "Train:\n",
      "    Volume\n",
      "0  610000\n",
      "1  448400\n",
      "2  339900\n",
      "3  400100\n",
      "4  358200\n",
      "5  381600\n",
      "6  658900\n",
      "7  499400\n",
      "8  358700\n",
      "9  542000\n",
      "\n",
      "Transformación train:\n",
      "       Volume\n",
      "0  13.321216\n",
      "1  13.013443\n",
      "2  12.736410\n",
      "3  12.899472\n",
      "4  12.788850\n",
      "5  12.852131\n",
      "6  13.398329\n",
      "7  13.121165\n",
      "8  12.790244\n",
      "9  13.203023\n"
     ]
    }
   ],
   "source": [
    "import numpy as np\n",
    "\n",
    "train_data = train[['Volume']]\n",
    "test_data = test[['Volume']]\n",
    "\n",
    "print(\"Train:\\n\", train_data.head(10))\n",
    "print(\"\\nTransformación train:\\n\", pd.DataFrame(np.log1p(train_data)).head(10))"
   ]
  },
  {
   "cell_type": "code",
   "execution_count": 9,
   "metadata": {},
   "outputs": [
    {
     "data": {
      "image/png": "[encoded data removed]",
      "text/plain": [
       "<Figure size 432x288 with 1 Axes>"
      ]
     },
     "metadata": {
      "needs_background": "light"
     },
     "output_type": "display_data"
    }
   ],
   "source": [
    "pd.DataFrame(np.log1p(train_data)).hist()\n",
    "plt.show()"
   ]
  },
  {
   "cell_type": "markdown",
   "metadata": {},
   "source": [
    "### Transformación de Box-Cox\n",
    "\n",
    "La transformación de Box-Cox es una función compuesta con la transformación log(xi) y una transformación x−1 dependiendo del valor de lambda.\n",
    "\n",
    "\\begin{equation}\n",
    "x_{i}^{' \\lambda} = \\left\\{\n",
    "                \\begin{array}{ll}\n",
    "              \\frac{x_{i}^{ \\lambda} -1}{\\lambda} \\hspace{0.2cm} if \\hspace{0.2cm} \\lambda \\neq 0 \\\\\n",
    "                  log x_{i} \n",
    "\\hspace{0.2cm} \\lambda = 0\n",
    "                \\end{array}\n",
    "              \\right.\n",
    "              \\end{equation}\n",
    "              \n",
    "La función PowerTransformer de la librería scikit-learn puede manejar esta transformación y seleccionar automáticamente lambda para hacer que los datos sean lo más parecido a una distribución Gaussiana."
   ]
  },
  {
   "cell_type": "markdown",
   "metadata": {},
   "source": [
    "![alt text](4.png \"Title\")"
   ]
  },
  {
   "cell_type": "markdown",
   "metadata": {},
   "source": [
    "![alt text](5.png \"Title\")"
   ]
  },
  {
   "cell_type": "code",
   "execution_count": 10,
   "metadata": {},
   "outputs": [
    {
     "data": {
      "image/png": "[encoded data removed]",
      "text/plain": [
       "<Figure size 432x288 with 1 Axes>"
      ]
     },
     "metadata": {
      "needs_background": "light"
     },
     "output_type": "display_data"
    }
   ],
   "source": [
    "train.Close.hist()\n",
    "plt.show()"
   ]
  },
  {
   "cell_type": "code",
   "execution_count": 11,
   "metadata": {},
   "outputs": [
    {
     "name": "stdout",
     "output_type": "stream",
     "text": [
      "Train:\n",
      "    Close\n",
      "0  41830\n",
      "1  42660\n",
      "2  43270\n",
      "3  43620\n",
      "4  43340\n",
      "5  43480\n",
      "6  44000\n",
      "7  43620\n",
      "8  43130\n",
      "9  43130\n",
      "\n",
      "Transformación train:\n",
      "           0\n",
      "0  0.747894\n",
      "1  0.823922\n",
      "2  0.879765\n",
      "3  0.911794\n",
      "4  0.886171\n",
      "5  0.898983\n",
      "6  0.946558\n",
      "7  0.911794\n",
      "8  0.866951\n",
      "9  0.866951\n",
      "\n",
      "Lambda: [0.96540329]\n",
      "\n",
      "Media: -4.1728447777102133e-16\n",
      "\n",
      "Desviación Estándar: 1.0\n"
     ]
    }
   ],
   "source": [
    "import pandas as pd\n",
    "import numpy as np\n",
    "from sklearn.preprocessing import PowerTransformer\n",
    "\n",
    "train_data = train[['Close']]\n",
    "\n",
    "pt = PowerTransformer(method='box-cox')\n",
    "pt.fit(train_data)\n",
    "train_data_trans = pt.transform(train_data)\n",
    "print(\"Train:\\n\", train_data.head(10))\n",
    "print(\"\\nTransformación train:\\n\", pd.DataFrame(train_data_trans).head(10))\n",
    "\n",
    "print(\"\\nLambda:\", pt.lambdas_) # Automatically selected \n",
    "print(\"\\nMedia:\", np.mean(train_data_trans)) \n",
    "print(\"\\nDesviación Estándar:\", np.std(train_data_trans)) "
   ]
  },
  {
   "cell_type": "code",
   "execution_count": 12,
   "metadata": {},
   "outputs": [
    {
     "data": {
      "image/png": "[encoded data removed]",
      "text/plain": [
       "<Figure size 432x288 with 1 Axes>"
      ]
     },
     "metadata": {
      "needs_background": "light"
     },
     "output_type": "display_data"
    }
   ],
   "source": [
    "pd.DataFrame(train_data_trans).hist()\n",
    "plt.show()"
   ]
  },
  {
   "cell_type": "markdown",
   "metadata": {},
   "source": [
    "### Transformación Yeo-Johnson\n",
    "\n",
    "La transformación de Yeo-Johnson es una función compuesta de transformación que permite valores negativos, a diferencia de la transformación de Box-Cox."
   ]
  },
  {
   "cell_type": "markdown",
   "metadata": {},
   "source": [
    "![alt text](6.png \"Title\")"
   ]
  },
  {
   "cell_type": "markdown",
   "metadata": {},
   "source": [
    "Con lambda=1, la transformación es una transformación casi de identidad. El cambio en lambda afecta al valor transformado como se muestra en el siguiente gráfico."
   ]
  },
  {
   "cell_type": "markdown",
   "metadata": {},
   "source": [
    "![alt text](7.png \"Title\")"
   ]
  },
  {
   "cell_type": "code",
   "execution_count": 16,
   "metadata": {},
   "outputs": [
    {
     "data": {
      "image/png": "[encoded data removed]",
      "text/plain": [
       "<Figure size 432x288 with 1 Axes>"
      ]
     },
     "metadata": {
      "needs_background": "light"
     },
     "output_type": "display_data"
    }
   ],
   "source": [
    "train.Low.hist()\n",
    "plt.show()"
   ]
  },
  {
   "cell_type": "code",
   "execution_count": 18,
   "metadata": {},
   "outputs": [
    {
     "name": "stdout",
     "output_type": "stream",
     "text": [
      "train:\n",
      "      Low\n",
      "0  41700\n",
      "1  42540\n",
      "2  43270\n",
      "3  43140\n",
      "4  43090\n",
      "5  43190\n",
      "6  43610\n",
      "7  42860\n",
      "8  42740\n",
      "9  42810\n",
      "\n",
      "Transformación train:\n",
      "           0\n",
      "0  0.782895\n",
      "1  0.860363\n",
      "2  0.927625\n",
      "3  0.915651\n",
      "4  0.911045\n",
      "5  0.920256\n",
      "6  0.958933\n",
      "7  0.889854\n",
      "8  0.878796\n",
      "9  0.885247\n",
      "\n",
      "Lambdas: [0.95130578]\n",
      "\n",
      "Media: -4.636494197455792e-16\n",
      "\n",
      "Desviación estándar: 1.0\n"
     ]
    }
   ],
   "source": [
    "import pandas as pd\n",
    "import numpy as np\n",
    "from sklearn.preprocessing import PowerTransformer\n",
    "\n",
    "train_data = train[['Low']]\n",
    "\n",
    "pt = PowerTransformer(method='yeo-johnson')\n",
    "pt.fit(train_data)\n",
    "train_data_trans = pt.transform(train_data)\n",
    "print(\"train:\\n\", train_data.head(10))\n",
    "print(\"\\nTransformación train:\\n\", pd.DataFrame(train_data_trans).head(10))\n",
    "\n",
    "print(\"\\nLambdas:\",pt.lambdas_) # Automatically selected \n",
    "print(\"\\nMedia:\", np.mean(train_data_trans)) \n",
    "print(\"\\nDesviación estándar:\", np.std(train_data_trans)) "
   ]
  },
  {
   "cell_type": "code",
   "execution_count": 20,
   "metadata": {},
   "outputs": [
    {
     "data": {
      "image/png": "[encoded data removed]",
      "text/plain": [
       "<Figure size 432x288 with 1 Axes>"
      ]
     },
     "metadata": {
      "needs_background": "light"
     },
     "output_type": "display_data"
    }
   ],
   "source": [
    "pd.DataFrame(train_data_trans).hist()\n",
    "plt.show()"
   ]
  },
  {
   "cell_type": "markdown",
   "metadata": {},
   "source": [
    "### Recorte\n",
    "\n",
    "El recorte (clipping) es un enfoque para limitar o reducir los valores en puntos de valor específicos. Esto puede eliminar los valores atípicos, a costa de una posible pérdida de información de datos. El recorte se puede hacer fácilmente por medio de la función de clip de pandas o numpy. El siguiente código recorta los valores en el 1% y el 99% de los datos."
   ]
  },
  {
   "cell_type": "code",
   "execution_count": 23,
   "metadata": {},
   "outputs": [
    {
     "name": "stdout",
     "output_type": "stream",
     "text": [
      "p25:\n",
      " Low     27401.25\n",
      "High    28091.25\n",
      "Name: 0.25, dtype: float64\n",
      "p75:\n",
      " Low     40810.0\n",
      "High    41900.0\n",
      "Name: 0.75, dtype: float64\n"
     ]
    }
   ],
   "source": [
    "# Multiple columns can be clipped at once.\n",
    "\n",
    "df= train[['Low', 'High']]\n",
    "\n",
    "p25 = df.quantile(0.25)\n",
    "p75 = df.quantile(0.75)\n",
    "print(\"p25:\\n\", p25)\n",
    "print(\"p75:\\n\", p75)"
   ]
  },
  {
   "cell_type": "code",
   "execution_count": 24,
   "metadata": {},
   "outputs": [
    {
     "data": {
      "text/html": [
       "<div>\n",
       "<style scoped>\n",
       "    .dataframe tbody tr th:only-of-type {\n",
       "        vertical-align: middle;\n",
       "    }\n",
       "\n",
       "    .dataframe tbody tr th {\n",
       "        vertical-align: top;\n",
       "    }\n",
       "\n",
       "    .dataframe thead th {\n",
       "        text-align: right;\n",
       "    }\n",
       "</style>\n",
       "<table border=\"1\" class=\"dataframe\">\n",
       "  <thead>\n",
       "    <tr style=\"text-align: right;\">\n",
       "      <th></th>\n",
       "      <th>Low</th>\n",
       "      <th>High</th>\n",
       "    </tr>\n",
       "  </thead>\n",
       "  <tbody>\n",
       "    <tr>\n",
       "      <th>0</th>\n",
       "      <td>41700</td>\n",
       "      <td>42330</td>\n",
       "    </tr>\n",
       "    <tr>\n",
       "      <th>1</th>\n",
       "      <td>42540</td>\n",
       "      <td>43220</td>\n",
       "    </tr>\n",
       "    <tr>\n",
       "      <th>2</th>\n",
       "      <td>43270</td>\n",
       "      <td>43970</td>\n",
       "    </tr>\n",
       "    <tr>\n",
       "      <th>3</th>\n",
       "      <td>43140</td>\n",
       "      <td>43700</td>\n",
       "    </tr>\n",
       "    <tr>\n",
       "      <th>4</th>\n",
       "      <td>43090</td>\n",
       "      <td>43660</td>\n",
       "    </tr>\n",
       "    <tr>\n",
       "      <th>5</th>\n",
       "      <td>43190</td>\n",
       "      <td>43840</td>\n",
       "    </tr>\n",
       "    <tr>\n",
       "      <th>6</th>\n",
       "      <td>43610</td>\n",
       "      <td>44370</td>\n",
       "    </tr>\n",
       "    <tr>\n",
       "      <th>7</th>\n",
       "      <td>42860</td>\n",
       "      <td>43630</td>\n",
       "    </tr>\n",
       "    <tr>\n",
       "      <th>8</th>\n",
       "      <td>42740</td>\n",
       "      <td>43150</td>\n",
       "    </tr>\n",
       "    <tr>\n",
       "      <th>9</th>\n",
       "      <td>42810</td>\n",
       "      <td>43550</td>\n",
       "    </tr>\n",
       "  </tbody>\n",
       "</table>\n",
       "</div>"
      ],
      "text/plain": [
       "     Low   High\n",
       "0  41700  42330\n",
       "1  42540  43220\n",
       "2  43270  43970\n",
       "3  43140  43700\n",
       "4  43090  43660\n",
       "5  43190  43840\n",
       "6  43610  44370\n",
       "7  42860  43630\n",
       "8  42740  43150\n",
       "9  42810  43550"
      ]
     },
     "execution_count": 24,
     "metadata": {},
     "output_type": "execute_result"
    }
   ],
   "source": [
    "df.head(10)"
   ]
  },
  {
   "cell_type": "code",
   "execution_count": 22,
   "metadata": {},
   "outputs": [
    {
     "data": {
      "text/html": [
       "<div>\n",
       "<style scoped>\n",
       "    .dataframe tbody tr th:only-of-type {\n",
       "        vertical-align: middle;\n",
       "    }\n",
       "\n",
       "    .dataframe tbody tr th {\n",
       "        vertical-align: top;\n",
       "    }\n",
       "\n",
       "    .dataframe thead th {\n",
       "        text-align: right;\n",
       "    }\n",
       "</style>\n",
       "<table border=\"1\" class=\"dataframe\">\n",
       "  <thead>\n",
       "    <tr style=\"text-align: right;\">\n",
       "      <th></th>\n",
       "      <th>Low</th>\n",
       "      <th>High</th>\n",
       "    </tr>\n",
       "  </thead>\n",
       "  <tbody>\n",
       "    <tr>\n",
       "      <th>0</th>\n",
       "      <td>40810</td>\n",
       "      <td>41900</td>\n",
       "    </tr>\n",
       "    <tr>\n",
       "      <th>1</th>\n",
       "      <td>40810</td>\n",
       "      <td>41900</td>\n",
       "    </tr>\n",
       "    <tr>\n",
       "      <th>2</th>\n",
       "      <td>40810</td>\n",
       "      <td>41900</td>\n",
       "    </tr>\n",
       "    <tr>\n",
       "      <th>3</th>\n",
       "      <td>40810</td>\n",
       "      <td>41900</td>\n",
       "    </tr>\n",
       "    <tr>\n",
       "      <th>4</th>\n",
       "      <td>40810</td>\n",
       "      <td>41900</td>\n",
       "    </tr>\n",
       "    <tr>\n",
       "      <th>5</th>\n",
       "      <td>40810</td>\n",
       "      <td>41900</td>\n",
       "    </tr>\n",
       "    <tr>\n",
       "      <th>6</th>\n",
       "      <td>40810</td>\n",
       "      <td>41900</td>\n",
       "    </tr>\n",
       "    <tr>\n",
       "      <th>7</th>\n",
       "      <td>40810</td>\n",
       "      <td>41900</td>\n",
       "    </tr>\n",
       "    <tr>\n",
       "      <th>8</th>\n",
       "      <td>40810</td>\n",
       "      <td>41900</td>\n",
       "    </tr>\n",
       "    <tr>\n",
       "      <th>9</th>\n",
       "      <td>40810</td>\n",
       "      <td>41900</td>\n",
       "    </tr>\n",
       "  </tbody>\n",
       "</table>\n",
       "</div>"
      ],
      "text/plain": [
       "     Low   High\n",
       "0  40810  41900\n",
       "1  40810  41900\n",
       "2  40810  41900\n",
       "3  40810  41900\n",
       "4  40810  41900\n",
       "5  40810  41900\n",
       "6  40810  41900\n",
       "7  40810  41900\n",
       "8  40810  41900\n",
       "9  40810  41900"
      ]
     },
     "execution_count": 22,
     "metadata": {},
     "output_type": "execute_result"
    }
   ],
   "source": [
    "data = {'Low': train['Low'], 'High': train['High']}\n",
    "df = pd.DataFrame(data)\n",
    "\n",
    "df[['Low', 'High']] = df[['Low', 'High']].clip(p25,p75,axis=1).astype('int')\n",
    "df.head(10)"
   ]
  },
  {
   "cell_type": "markdown",
   "metadata": {},
   "source": [
    "### Binning\n",
    "\n",
    "En Binning se agrupan los valores a intervalos distintos, y se utiliza un índice de grupo representativa de cada intervalo como una variable categórica. Se puede usar como una variable categórica ordinal o una variable numérica discreta tipo rango (discretizada). Como variable categórica también se puede trasnformar a numérica, mediante una codificación de un solo golpe (one-hot encoding) u otras transformaciones de variables categóricas.\n",
    "\n",
    "La determinación de los intervalos es el parámetro del método, y puede ser por intervalos regulares, puntos de percentil, u otra configuración manual basada en el conocimiento del dominio sobre los datos. El binning puede hacerse mediante la función de cut de pandas o la función de digitize de numpy."
   ]
  },
  {
   "cell_type": "code",
   "execution_count": 26,
   "metadata": {},
   "outputs": [
    {
     "data": {
      "text/html": [
       "<div>\n",
       "<style scoped>\n",
       "    .dataframe tbody tr th:only-of-type {\n",
       "        vertical-align: middle;\n",
       "    }\n",
       "\n",
       "    .dataframe tbody tr th {\n",
       "        vertical-align: top;\n",
       "    }\n",
       "\n",
       "    .dataframe thead th {\n",
       "        text-align: right;\n",
       "    }\n",
       "</style>\n",
       "<table border=\"1\" class=\"dataframe\">\n",
       "  <thead>\n",
       "    <tr style=\"text-align: right;\">\n",
       "      <th></th>\n",
       "      <th>Open</th>\n",
       "      <th>Open_binned</th>\n",
       "    </tr>\n",
       "  </thead>\n",
       "  <tbody>\n",
       "    <tr>\n",
       "      <th>0</th>\n",
       "      <td>42120</td>\n",
       "      <td>5</td>\n",
       "    </tr>\n",
       "    <tr>\n",
       "      <th>1</th>\n",
       "      <td>43000</td>\n",
       "      <td>6</td>\n",
       "    </tr>\n",
       "    <tr>\n",
       "      <th>2</th>\n",
       "      <td>43940</td>\n",
       "      <td>6</td>\n",
       "    </tr>\n",
       "    <tr>\n",
       "      <th>3</th>\n",
       "      <td>43140</td>\n",
       "      <td>6</td>\n",
       "    </tr>\n",
       "    <tr>\n",
       "      <th>4</th>\n",
       "      <td>43310</td>\n",
       "      <td>6</td>\n",
       "    </tr>\n",
       "    <tr>\n",
       "      <th>5</th>\n",
       "      <td>43660</td>\n",
       "      <td>6</td>\n",
       "    </tr>\n",
       "    <tr>\n",
       "      <th>6</th>\n",
       "      <td>43900</td>\n",
       "      <td>6</td>\n",
       "    </tr>\n",
       "    <tr>\n",
       "      <th>7</th>\n",
       "      <td>42910</td>\n",
       "      <td>6</td>\n",
       "    </tr>\n",
       "    <tr>\n",
       "      <th>8</th>\n",
       "      <td>42790</td>\n",
       "      <td>6</td>\n",
       "    </tr>\n",
       "    <tr>\n",
       "      <th>9</th>\n",
       "      <td>43350</td>\n",
       "      <td>6</td>\n",
       "    </tr>\n",
       "  </tbody>\n",
       "</table>\n",
       "</div>"
      ],
      "text/plain": [
       "    Open  Open_binned\n",
       "0  42120            5\n",
       "1  43000            6\n",
       "2  43940            6\n",
       "3  43140            6\n",
       "4  43310            6\n",
       "5  43660            6\n",
       "6  43900            6\n",
       "7  42910            6\n",
       "8  42790            6\n",
       "9  43350            6"
      ]
     },
     "execution_count": 26,
     "metadata": {},
     "output_type": "execute_result"
    }
   ],
   "source": [
    "#when bins is integer, it will be the number of bins and bin widths are to be equal.\n",
    "\n",
    "df= pd.DataFrame(train['Open'], columns=['Open'])\n",
    "\n",
    "df['Open_binned'] = pd.cut(df['Open'], bins=10, labels=False) \n",
    "df[['Open','Open_binned']].head(10)"
   ]
  },
  {
   "cell_type": "markdown",
   "metadata": {},
   "source": [
    "### Rango\n",
    "\n",
    "Este método funciona convirtiendo los valores numéricos en rangos de valores. Cuando se analiza el número de clientes en una tienda, es probable que el número de clientes en días festivos sea mucho mayor que el de los días de semana. Cambiar los números a rangos puede neutralizar el impacto del número absoluto de clientes.\n",
    "\n",
    "La función rank de pandas o la función argsort de numpy puede manejar esta transformación."
   ]
  },
  {
   "cell_type": "code",
   "execution_count": 28,
   "metadata": {},
   "outputs": [
    {
     "data": {
      "text/html": [
       "<div>\n",
       "<style scoped>\n",
       "    .dataframe tbody tr th:only-of-type {\n",
       "        vertical-align: middle;\n",
       "    }\n",
       "\n",
       "    .dataframe tbody tr th {\n",
       "        vertical-align: top;\n",
       "    }\n",
       "\n",
       "    .dataframe thead th {\n",
       "        text-align: right;\n",
       "    }\n",
       "</style>\n",
       "<table border=\"1\" class=\"dataframe\">\n",
       "  <thead>\n",
       "    <tr style=\"text-align: right;\">\n",
       "      <th></th>\n",
       "      <th>Open</th>\n",
       "      <th>Open_rank</th>\n",
       "    </tr>\n",
       "  </thead>\n",
       "  <tbody>\n",
       "    <tr>\n",
       "      <th>0</th>\n",
       "      <td>42120</td>\n",
       "      <td>937</td>\n",
       "    </tr>\n",
       "    <tr>\n",
       "      <th>1</th>\n",
       "      <td>43000</td>\n",
       "      <td>964</td>\n",
       "    </tr>\n",
       "    <tr>\n",
       "      <th>2</th>\n",
       "      <td>43940</td>\n",
       "      <td>1015</td>\n",
       "    </tr>\n",
       "    <tr>\n",
       "      <th>3</th>\n",
       "      <td>43140</td>\n",
       "      <td>973</td>\n",
       "    </tr>\n",
       "    <tr>\n",
       "      <th>4</th>\n",
       "      <td>43310</td>\n",
       "      <td>984</td>\n",
       "    </tr>\n",
       "    <tr>\n",
       "      <th>5</th>\n",
       "      <td>43660</td>\n",
       "      <td>1004</td>\n",
       "    </tr>\n",
       "    <tr>\n",
       "      <th>6</th>\n",
       "      <td>43900</td>\n",
       "      <td>1010</td>\n",
       "    </tr>\n",
       "    <tr>\n",
       "      <th>7</th>\n",
       "      <td>42910</td>\n",
       "      <td>960</td>\n",
       "    </tr>\n",
       "    <tr>\n",
       "      <th>8</th>\n",
       "      <td>42790</td>\n",
       "      <td>952</td>\n",
       "    </tr>\n",
       "    <tr>\n",
       "      <th>9</th>\n",
       "      <td>43350</td>\n",
       "      <td>987</td>\n",
       "    </tr>\n",
       "  </tbody>\n",
       "</table>\n",
       "</div>"
      ],
      "text/plain": [
       "    Open  Open_rank\n",
       "0  42120        937\n",
       "1  43000        964\n",
       "2  43940       1015\n",
       "3  43140        973\n",
       "4  43310        984\n",
       "5  43660       1004\n",
       "6  43900       1010\n",
       "7  42910        960\n",
       "8  42790        952\n",
       "9  43350        987"
      ]
     },
     "execution_count": 28,
     "metadata": {},
     "output_type": "execute_result"
    }
   ],
   "source": [
    "df = pd.DataFrame(train['Open'], columns=['Open'])\n",
    "df['Open_rank'] = df.Open.rank().astype('int')  #the rank of values starting from 1\n",
    "df.head(10)"
   ]
  },
  {
   "cell_type": "markdown",
   "metadata": {},
   "source": [
    "### RankGauss\n",
    "\n",
    "RankGauss es un enfoque para convertir los valores a rangos, y después convierte estos rangos a otro valor numérico siguiendo una distribución Gaussiana (ver el gráfico a continuación.)"
   ]
  },
  {
   "cell_type": "markdown",
   "metadata": {},
   "source": [
    "![alt text](8.png \"Title\")"
   ]
  },
  {
   "cell_type": "markdown",
   "metadata": {},
   "source": [
    "Esto se utilizó en la solución de primer lugar de la Predicción de Conductores Seguros de Porto Segro Porto Segro’s Safe Driver Prediction first place solution para su modelo de red neural. El ganador del primer lugar, Michael Jahrer, afirmó que funcionaba mejor que la estandarización o el escalamiento mín-máx para su modelo de red neuronal.\n",
    "\n",
    "La función QuantileTransformer en sklearn.preprocessing puede manejar esta transformación estableciendo los parámetros n_quantiles (se recomiendan valores grandes) y output_distribution = 'normal'."
   ]
  },
  {
   "cell_type": "code",
   "execution_count": 29,
   "metadata": {},
   "outputs": [
    {
     "data": {
      "text/html": [
       "<div>\n",
       "<style scoped>\n",
       "    .dataframe tbody tr th:only-of-type {\n",
       "        vertical-align: middle;\n",
       "    }\n",
       "\n",
       "    .dataframe tbody tr th {\n",
       "        vertical-align: top;\n",
       "    }\n",
       "\n",
       "    .dataframe thead th {\n",
       "        text-align: right;\n",
       "    }\n",
       "</style>\n",
       "<table border=\"1\" class=\"dataframe\">\n",
       "  <thead>\n",
       "    <tr style=\"text-align: right;\">\n",
       "      <th></th>\n",
       "      <th>Low</th>\n",
       "      <th>Low_RankGauss</th>\n",
       "    </tr>\n",
       "  </thead>\n",
       "  <tbody>\n",
       "    <tr>\n",
       "      <th>0</th>\n",
       "      <td>41700</td>\n",
       "      <td>0.730235</td>\n",
       "    </tr>\n",
       "    <tr>\n",
       "      <th>1</th>\n",
       "      <td>42540</td>\n",
       "      <td>0.794594</td>\n",
       "    </tr>\n",
       "    <tr>\n",
       "      <th>2</th>\n",
       "      <td>43270</td>\n",
       "      <td>0.861412</td>\n",
       "    </tr>\n",
       "    <tr>\n",
       "      <th>3</th>\n",
       "      <td>43140</td>\n",
       "      <td>0.849237</td>\n",
       "    </tr>\n",
       "    <tr>\n",
       "      <th>4</th>\n",
       "      <td>43090</td>\n",
       "      <td>0.844587</td>\n",
       "    </tr>\n",
       "    <tr>\n",
       "      <th>5</th>\n",
       "      <td>43190</td>\n",
       "      <td>0.853904</td>\n",
       "    </tr>\n",
       "    <tr>\n",
       "      <th>6</th>\n",
       "      <td>43610</td>\n",
       "      <td>0.893877</td>\n",
       "    </tr>\n",
       "    <tr>\n",
       "      <th>7</th>\n",
       "      <td>42860</td>\n",
       "      <td>0.823431</td>\n",
       "    </tr>\n",
       "    <tr>\n",
       "      <th>8</th>\n",
       "      <td>42740</td>\n",
       "      <td>0.812538</td>\n",
       "    </tr>\n",
       "    <tr>\n",
       "      <th>9</th>\n",
       "      <td>42810</td>\n",
       "      <td>0.818880</td>\n",
       "    </tr>\n",
       "  </tbody>\n",
       "</table>\n",
       "</div>"
      ],
      "text/plain": [
       "     Low  Low_RankGauss\n",
       "0  41700       0.730235\n",
       "1  42540       0.794594\n",
       "2  43270       0.861412\n",
       "3  43140       0.849237\n",
       "4  43090       0.844587\n",
       "5  43190       0.853904\n",
       "6  43610       0.893877\n",
       "7  42860       0.823431\n",
       "8  42740       0.812538\n",
       "9  42810       0.818880"
      ]
     },
     "execution_count": 29,
     "metadata": {},
     "output_type": "execute_result"
    }
   ],
   "source": [
    "from sklearn.preprocessing import QuantileTransformer\n",
    "\n",
    "data = {'Low': train['Low'], 'High': train['High']}\n",
    "df = pd.DataFrame(data)\n",
    "    \n",
    "transformer = QuantileTransformer(n_quantiles=10, random_state=1111, output_distribution='normal')\n",
    "transformer.fit(df[['Low']])\n",
    "df['Low_RankGauss'] = transformer.transform(df[['Low']])\n",
    "df[['Low','Low_RankGauss']].head(10)"
   ]
  },
  {
   "cell_type": "code",
   "execution_count": 31,
   "metadata": {
    "scrolled": true
   },
   "outputs": [
    {
     "data": {
      "image/png": "[encoded data removed]",
      "text/plain": [
       "<Figure size 864x360 with 2 Axes>"
      ]
     },
     "metadata": {
      "needs_background": "light"
     },
     "output_type": "display_data"
    }
   ],
   "source": [
    "fig, (ax1, ax2) = plt.subplots(1,2, figsize=[12,5])\n",
    "ax1.hist(df['Low'],bins=100)\n",
    "ax1.title.set_text('Original Data')\n",
    "ax2.hist(df['Low_RankGauss'],bins=100)\n",
    "ax2.title.set_text('RankGauss-ed Data')\n",
    "plt.show()"
   ]
  }
 ],
 "metadata": {
  "kernelspec": {
   "display_name": "Python 3",
   "language": "python",
   "name": "python3"
  },
  "language_info": {
   "codemirror_mode": {
    "name": "ipython",
    "version": 3
   },
   "file_extension": ".py",
   "mimetype": "text/x-python",
   "name": "python",
   "nbconvert_exporter": "python",
   "pygments_lexer": "ipython3",
   "version": "3.7.3"
  }
 },
 "nbformat": 4,
 "nbformat_minor": 2
}
