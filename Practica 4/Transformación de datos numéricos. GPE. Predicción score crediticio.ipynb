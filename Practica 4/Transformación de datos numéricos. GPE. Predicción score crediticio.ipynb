{
 "cells": [
  {
   "cell_type": "markdown",
   "metadata": {},
   "source": [
    "# Práctica 4\n",
    "\n",
    "# Dataset 3\n",
    "\n",
    "Consultado en: https://www.kaggle.com/prasy46/credit-score-prediction\n",
    "\n",
    "# Tranformación de datos numéricos\n",
    "\n",
    "## Recipe\n",
    "\n",
    "La transformación de datos es una forma de hacer que los datos funcionen mejor al encontrar un modelo con métodos de aprendizaje automático. Las variables o características pueden ser de dos tipos: variable numérica y variable categórica, y su transformación debe tener diferentes enfoques."
   ]
  },
  {
   "cell_type": "markdown",
   "metadata": {},
   "source": [
    "![alt text](0.png \"Title\")"
   ]
  },
  {
   "cell_type": "markdown",
   "metadata": {},
   "source": [
    "## Transformación de variables numéricas\n",
    "\n",
    "Convertir una variable numérica en otra variable numérica. Típicamente, su objetivo es cambiar la escala de valores y/o ajustar la distribución sesgada de los datos a una distribución tal vez de tipo gaussiano mediante alguna \"transformación monótona\". Por ejemplo, los métodos basados en árboles de decisión (decision trees, random forest) son menos sensibles a la escala de valores y a los datos atípicos, caso contrario para otros métodos (por ejemplo, red neuronal, SVM, modelo lineal, etc.), donde se tienen que garantizar ciertos valores en los datos, o en algunos casos incluso de manera obligatoria utilizar alguna regularización, por ejemplo con la norma L1 o L2.\n",
    "\n",
    "## Información general sobre la transformación de datos\n",
    "\n",
    "Existen muchas técnicas de transformación de datos, entre ellas, hay muchas que utilizan parámetros, como la media y la desviación estándar de la normalización o una tabla de conversión en la codificación de categorías. Un error común en el uso de la transformación variable es transformar el conjunto de entrenamiento y el conjunto de pruebas por separado utilizando parámetros diferentes. La transformación de los datos de entrenamiento y los datos de prueba debe hacerse utilizando los mismos parámetros, y normalmente se obtienen del conjunto de entrenamiento; de lo contrario, no podemos comparar los resultados justamente."
   ]
  },
  {
   "cell_type": "markdown",
   "metadata": {},
   "source": [
    "![alt text](1.png \"Title\")"
   ]
  },
  {
   "cell_type": "markdown",
   "metadata": {},
   "source": [
    "Algunos dirán más estrictamente que cuando se trabaje con validación cruzada, los parámetros de transformación se derivarán sólo del volúmen de entrenamiento (k-fold), entonces los datos del volúmen de validación se transformarán por esos parámetros, en lugar de transformar todos los datos de entrenamiento antes de la validación cruzada. Ese enfoque podría ser necesario cuando se prevé que hay enormes diferencias en la distribución de los datos entre los volúmen. La presencia de valores atípicos es una posible razón para dar parámetros diferentes, en particular en las técnicas de transformación sensibles a los valores atípicos, como la escala mín-máx.\n",
    "\n",
    "De cualquier manera, los científicos de datos siempre tienen que preguntarse cuál es el enfoque más razonable para los datos a los que se enfrentan.\n",
    "\n",
    "### Estandarización\n",
    "\n",
    "La transformación más típica de una variable numérica es la transformación de los valores de la variable a otro conjunto de valores con media $\\mu=0$ y desviación estándar $\\sigma=1$ utilizando la resta y la división de tal manera que:\n",
    "\n",
    "\\begin{equation}\n",
    "x_{i}^{'} = \\frac{x_{i} - \\overline{x}_{n}}{s}\n",
    "\\end{equation}\n",
    "\n",
    "Donde $ \\overline{x}_{n} = \\frac{\\sum_{i=1}^{n} x_{i}}{n}$ es la media y $ s= \\sqrt{\\frac{\\sum_{i=1}^{n} (x_{i} - \\overline{x}_{n})^{2}}{n}} $"
   ]
  },
  {
   "cell_type": "code",
   "execution_count": 1,
   "metadata": {},
   "outputs": [],
   "source": [
    "import pandas as pd\n",
    "from sklearn.preprocessing import StandardScaler\n",
    "\n",
    "train = pd.read_csv('CreditScore_test.csv')\n",
    "test = pd.read_csv('CreditScore_train.csv')"
   ]
  },
  {
   "cell_type": "code",
   "execution_count": 2,
   "metadata": {},
   "outputs": [],
   "source": [
    "train_data = train[['x001']]\n",
    "test_data = test[['x001']]"
   ]
  },
  {
   "cell_type": "code",
   "execution_count": 3,
   "metadata": {},
   "outputs": [
    {
     "name": "stdout",
     "output_type": "stream",
     "text": [
      "train:\n",
      "       x001\n",
      "0  1566464\n",
      "1   925102\n",
      "2  1273974\n",
      "3  1456723\n",
      "4   798267\n",
      "5  1364485\n",
      "6  1281082\n",
      "7   827770\n",
      "8  1329775\n",
      "9  1405170\n",
      "\n",
      "test:\n",
      "       x001\n",
      "0  1084094\n",
      "1  1287777\n",
      "2  1483016\n",
      "3   959054\n",
      "4  1342113\n",
      "5   807817\n",
      "6   906658\n",
      "7  1202685\n",
      "8  1547270\n",
      "9  1163310\n",
      "Transformación train:\n",
      "           0\n",
      "0  1.279307\n",
      "1 -1.074924\n",
      "2  0.205671\n",
      "3  0.876483\n",
      "4 -1.540494\n",
      "5  0.537908\n",
      "6  0.231763\n",
      "7 -1.432198\n",
      "8  0.410499\n",
      "9  0.687249\n",
      "\n",
      "Transformación test:\n",
      "           0\n",
      "0 -0.491316\n",
      "1  0.256338\n",
      "2  0.972996\n",
      "3 -0.950297\n",
      "4  0.455787\n",
      "5 -1.505439\n",
      "6 -1.142626\n",
      "7 -0.056007\n",
      "8  1.208852\n",
      "9 -0.200540\n",
      "\n",
      "Media: [1217943.0455]\n",
      "\n",
      "Desviación Estándar: [7.42178588e+10]\n"
     ]
    }
   ],
   "source": [
    "scaler = StandardScaler()\n",
    "scaler.fit(train_data)\n",
    "\n",
    "print(\"train:\\n\", train_data.head(10))\n",
    "print(\"\\ntest:\\n\", test_data.head(10))\n",
    "\n",
    "print(\"Transformación train:\\n\", pd.DataFrame(scaler.transform(train_data)).head(10))\n",
    "print(\"\\nTransformación test:\\n\", pd.DataFrame(scaler.transform(test_data)).head(10))\n",
    "\n",
    "print(\"\\nMedia:\", scaler.mean_)\n",
    "print(\"\\nDesviación Estándar:\", scaler.var_)"
   ]
  },
  {
   "cell_type": "markdown",
   "metadata": {},
   "source": [
    "### Escala min-max\n",
    "La escala mín-máx es otra de las simples transformaciones de las variables numéricas. Con la escala mín-máx, los valores deben ser convertidos a los valores dentro de $[0,1]$.\n",
    "\n",
    "\\begin{equation}\n",
    "x_{i}^{'} = \\frac{x_{i} - {x}_{max}}{x_{max} - x_{min}}\n",
    "\\end{equation}\n",
    "\n",
    "Donde $x_{max}$ es el valor máximo, y $x_{min}$ es el valor mínimo.\n",
    "\n",
    "Esta transformación depende en gran medida del número máximo y del número mínimo y, por lo tanto, es particularmente sensible a los valores atípicos. Si los valores pueden ser extremadamente grandes mientras que muchos no lo son, la estandarización es más común. La escala mín-máx es más común en el caso de que los valores oscilen en el intervalo fijo y sea menos probable que los datos se agrupen en un subrango específico en el intervalo; por ejemplo en los datos de una imagen los elementos tiende a tener el valor entre 0 y 255 para su color RGB."
   ]
  },
  {
   "cell_type": "code",
   "execution_count": 4,
   "metadata": {
    "scrolled": false
   },
   "outputs": [
    {
     "name": "stdout",
     "output_type": "stream",
     "text": [
      "train:\n",
      "       x001\n",
      "0  1566464\n",
      "1   925102\n",
      "2  1273974\n",
      "3  1456723\n",
      "4   798267\n",
      "5  1364485\n",
      "6  1281082\n",
      "7   827770\n",
      "8  1329775\n",
      "9  1405170\n",
      "test:\n",
      "       x001\n",
      "0  1084094\n",
      "1  1287777\n",
      "2  1483016\n",
      "3   959054\n",
      "4  1342113\n",
      "5   807817\n",
      "6   906658\n",
      "7  1202685\n",
      "8  1547270\n",
      "9  1163310\n",
      "\n",
      "Transformación train:\n",
      "           0\n",
      "0  0.933886\n",
      "1  0.550924\n",
      "2  0.759238\n",
      "3  0.868359\n",
      "4  0.475190\n",
      "5  0.813283\n",
      "6  0.763482\n",
      "7  0.492806\n",
      "8  0.792557\n",
      "9  0.837576\n",
      "\n",
      "Transformación test:\n",
      "           0\n",
      "0  0.645859\n",
      "1  0.767480\n",
      "2  0.884058\n",
      "3  0.571197\n",
      "4  0.799924\n",
      "5  0.480892\n",
      "6  0.539911\n",
      "7  0.716671\n",
      "8  0.922425\n",
      "9  0.693160\n"
     ]
    }
   ],
   "source": [
    "from sklearn.preprocessing import MinMaxScaler\n",
    "\n",
    "print(\"train:\\n\", train_data.head(10))\n",
    "print(\"test:\\n\", test_data.head(10))\n",
    "\n",
    "scaler = MinMaxScaler()\n",
    "scaler.fit(train_data)\n",
    "print(\"\\nTransformación train:\\n\", pd.DataFrame(scaler.transform(train_data)).head(10))\n",
    "print(\"\\nTransformación test:\\n\", pd.DataFrame(scaler.transform(test_data)).head(10))"
   ]
  },
  {
   "cell_type": "markdown",
   "metadata": {},
   "source": [
    "Consideramos un atributo que tiene un outlier. En este caso, es Stock Trading."
   ]
  },
  {
   "cell_type": "code",
   "execution_count": 5,
   "metadata": {},
   "outputs": [
    {
     "data": {
      "image/png": "[encoded data removed]",
      "text/plain": [
       "<Figure size 432x288 with 1 Axes>"
      ]
     },
     "metadata": {
      "needs_background": "light"
     },
     "output_type": "display_data"
    }
   ],
   "source": [
    "import matplotlib.pylab as plt\n",
    "%matplotlib inline\n",
    "\n",
    "train['x003'].hist()\n",
    "plt.show()"
   ]
  },
  {
   "cell_type": "code",
   "execution_count": 6,
   "metadata": {},
   "outputs": [
    {
     "name": "stdout",
     "output_type": "stream",
     "text": [
      "\n",
      "Transformación train:\n",
      "           0\n",
      "0  0.036649\n",
      "1  0.003490\n",
      "2  0.111693\n",
      "3       NaN\n",
      "4  0.000000\n",
      "5  0.003490\n",
      "6       NaN\n",
      "7  0.029668\n",
      "8  0.167539\n",
      "9       NaN\n"
     ]
    }
   ],
   "source": [
    "train_data = train[['x003']] # Data including outlier.\n",
    "scaler = MinMaxScaler()\n",
    "scaler.fit(train_data)\n",
    "print(\"\\nTransformación train:\\n\", pd.DataFrame(scaler.transform(train_data)).head(10))"
   ]
  },
  {
   "cell_type": "markdown",
   "metadata": {},
   "source": [
    "### Transformación logarítmica\n",
    "\n",
    "Cuando la distribución de la variable tiene una distribución de larga duración (long-tailed distribution) (por ejemplo, ingresos individuales, gastos médicos individuales, etc.), las transformaciones logarítmicas pueden ajustar la distribución de los datos a una distribución menos sesgada, por ejemplo, de tipo gaussiano."
   ]
  },
  {
   "cell_type": "markdown",
   "metadata": {},
   "source": [
    "![alt text](2.jpg \"Title2\")"
   ]
  },
  {
   "cell_type": "markdown",
   "metadata": {},
   "source": [
    "![alt text](3.png \"Title\")"
   ]
  },
  {
   "cell_type": "code",
   "execution_count": 7,
   "metadata": {},
   "outputs": [
    {
     "data": {
      "image/png": "[encoded data removed]",
      "text/plain": [
       "<Figure size 432x288 with 1 Axes>"
      ]
     },
     "metadata": {
      "needs_background": "light"
     },
     "output_type": "display_data"
    }
   ],
   "source": [
    "train.x004.hist()\n",
    "plt.show()"
   ]
  },
  {
   "cell_type": "code",
   "execution_count": 8,
   "metadata": {},
   "outputs": [
    {
     "name": "stdout",
     "output_type": "stream",
     "text": [
      "Train:\n",
      "    x013\n",
      "0     0\n",
      "1     2\n",
      "2     0\n",
      "3     0\n",
      "4     0\n",
      "5     0\n",
      "6     0\n",
      "7     1\n",
      "8     2\n",
      "9     0\n",
      "\n",
      "Transformación train:\n",
      "        x013\n",
      "0  0.000000\n",
      "1  1.098612\n",
      "2  0.000000\n",
      "3  0.000000\n",
      "4  0.000000\n",
      "5  0.000000\n",
      "6  0.000000\n",
      "7  0.693147\n",
      "8  1.098612\n",
      "9  0.000000\n"
     ]
    }
   ],
   "source": [
    "import numpy as np\n",
    "\n",
    "train_data = train[['x013']]\n",
    "test_data = test[['x013']]\n",
    "\n",
    "print(\"Train:\\n\", train_data.head(10))\n",
    "print(\"\\nTransformación train:\\n\", pd.DataFrame(np.log1p(train_data)).head(10))"
   ]
  },
  {
   "cell_type": "code",
   "execution_count": 9,
   "metadata": {},
   "outputs": [
    {
     "data": {
      "image/png": "[encoded data removed]",
      "text/plain": [
       "<Figure size 432x288 with 1 Axes>"
      ]
     },
     "metadata": {
      "needs_background": "light"
     },
     "output_type": "display_data"
    }
   ],
   "source": [
    "pd.DataFrame(np.log1p(train_data)).hist()\n",
    "plt.show()"
   ]
  },
  {
   "cell_type": "markdown",
   "metadata": {},
   "source": [
    "### Transformación de Box-Cox\n",
    "\n",
    "La transformación de Box-Cox es una función compuesta con la transformación log(xi) y una transformación x−1 dependiendo del valor de lambda.\n",
    "\n",
    "\\begin{equation}\n",
    "x_{i}^{' \\lambda} = \\left\\{\n",
    "                \\begin{array}{ll}\n",
    "              \\frac{x_{i}^{ \\lambda} -1}{\\lambda} \\hspace{0.2cm} if \\hspace{0.2cm} \\lambda \\neq 0 \\\\\n",
    "                  log x_{i} \n",
    "\\hspace{0.2cm} \\lambda = 0\n",
    "                \\end{array}\n",
    "              \\right.\n",
    "              \\end{equation}\n",
    "              \n",
    "La función PowerTransformer de la librería scikit-learn puede manejar esta transformación y seleccionar automáticamente lambda para hacer que los datos sean lo más parecido a una distribución Gaussiana."
   ]
  },
  {
   "cell_type": "markdown",
   "metadata": {},
   "source": [
    "![alt text](4.png \"Title\")"
   ]
  },
  {
   "cell_type": "markdown",
   "metadata": {},
   "source": [
    "![alt text](5.png \"Title\")"
   ]
  },
  {
   "cell_type": "code",
   "execution_count": 10,
   "metadata": {},
   "outputs": [
    {
     "data": {
      "image/png": "[encoded data removed]",
      "text/plain": [
       "<Figure size 432x288 with 1 Axes>"
      ]
     },
     "metadata": {
      "needs_background": "light"
     },
     "output_type": "display_data"
    }
   ],
   "source": [
    "train.x001.hist()\n",
    "plt.show()"
   ]
  },
  {
   "cell_type": "code",
   "execution_count": 11,
   "metadata": {},
   "outputs": [
    {
     "name": "stdout",
     "output_type": "stream",
     "text": [
      "Train:\n",
      "       x001\n",
      "0  1566464\n",
      "1   925102\n",
      "2  1273974\n",
      "3  1456723\n",
      "4   798267\n",
      "5  1364485\n",
      "6  1281082\n",
      "7   827770\n",
      "8  1329775\n",
      "9  1405170\n",
      "\n",
      "Transformación train:\n",
      "           0\n",
      "0  1.338449\n",
      "1 -1.092213\n",
      "2  0.159383\n",
      "3  0.883215\n",
      "4 -1.499988\n",
      "5  0.512388\n",
      "6  0.186706\n",
      "7 -1.407583\n",
      "8  0.375718\n",
      "9  0.674600\n",
      "\n",
      "Lambda: [1.4531574]\n",
      "\n",
      "Media: -2.6005864128819667e-16\n",
      "\n",
      "Desviación Estándar: 1.0\n"
     ]
    }
   ],
   "source": [
    "import pandas as pd\n",
    "import numpy as np\n",
    "from sklearn.preprocessing import PowerTransformer\n",
    "\n",
    "train_data = train[['x001']]\n",
    "\n",
    "pt = PowerTransformer(method='box-cox')\n",
    "pt.fit(train_data)\n",
    "train_data_trans = pt.transform(train_data)\n",
    "print(\"Train:\\n\", train_data.head(10))\n",
    "print(\"\\nTransformación train:\\n\", pd.DataFrame(train_data_trans).head(10))\n",
    "\n",
    "print(\"\\nLambda:\", pt.lambdas_) # Automatically selected \n",
    "print(\"\\nMedia:\", np.mean(train_data_trans)) \n",
    "print(\"\\nDesviación Estándar:\", np.std(train_data_trans)) "
   ]
  },
  {
   "cell_type": "code",
   "execution_count": 12,
   "metadata": {},
   "outputs": [
    {
     "data": {
      "image/png": "[encoded data removed]",
      "text/plain": [
       "<Figure size 432x288 with 1 Axes>"
      ]
     },
     "metadata": {
      "needs_background": "light"
     },
     "output_type": "display_data"
    }
   ],
   "source": [
    "pd.DataFrame(train_data_trans).hist()\n",
    "plt.show()"
   ]
  },
  {
   "cell_type": "markdown",
   "metadata": {},
   "source": [
    "### Transformación Yeo-Johnson\n",
    "\n",
    "La transformación de Yeo-Johnson es una función compuesta de transformación que permite valores negativos, a diferencia de la transformación de Box-Cox."
   ]
  },
  {
   "cell_type": "markdown",
   "metadata": {},
   "source": [
    "![alt text](6.png \"Title\")"
   ]
  },
  {
   "cell_type": "markdown",
   "metadata": {},
   "source": [
    "Con lambda=1, la transformación es una transformación casi de identidad. El cambio en lambda afecta al valor transformado como se muestra en el siguiente gráfico."
   ]
  },
  {
   "cell_type": "markdown",
   "metadata": {},
   "source": [
    "![alt text](7.png \"Title\")"
   ]
  },
  {
   "cell_type": "code",
   "execution_count": 13,
   "metadata": {},
   "outputs": [
    {
     "data": {
      "image/png": "[encoded data removed]",
      "text/plain": [
       "<Figure size 432x288 with 1 Axes>"
      ]
     },
     "metadata": {
      "needs_background": "light"
     },
     "output_type": "display_data"
    }
   ],
   "source": [
    "train.x005.hist()\n",
    "plt.show()"
   ]
  },
  {
   "cell_type": "code",
   "execution_count": 14,
   "metadata": {},
   "outputs": [
    {
     "name": "stdout",
     "output_type": "stream",
     "text": [
      "train:\n",
      "     x005\n",
      "0   44.0\n",
      "1  156.0\n",
      "2  218.0\n",
      "3  146.0\n",
      "4  230.0\n",
      "5   23.0\n",
      "6    NaN\n",
      "7   85.0\n",
      "8  279.0\n",
      "9   58.0\n",
      "\n",
      "Transformación train:\n",
      "           0\n",
      "0 -1.240140\n",
      "1  0.023249\n",
      "2  0.491518\n",
      "3 -0.061640\n",
      "4  0.573032\n",
      "5 -1.659997\n",
      "6       NaN\n",
      "7 -0.670171\n",
      "8  0.883078\n",
      "9 -1.020983\n",
      "\n",
      "Lambdas: [0.43184731]\n",
      "\n",
      "Media: nan\n",
      "\n",
      "Desviación estándar: nan\n"
     ]
    }
   ],
   "source": [
    "import pandas as pd\n",
    "import numpy as np\n",
    "from sklearn.preprocessing import PowerTransformer\n",
    "\n",
    "train_data = train[['x005']]\n",
    "\n",
    "pt = PowerTransformer(method='yeo-johnson')\n",
    "pt.fit(train_data)\n",
    "train_data_trans = pt.transform(train_data)\n",
    "print(\"train:\\n\", train_data.head(10))\n",
    "print(\"\\nTransformación train:\\n\", pd.DataFrame(train_data_trans).head(10))\n",
    "\n",
    "print(\"\\nLambdas:\",pt.lambdas_) # Automatically selected \n",
    "print(\"\\nMedia:\", np.mean(train_data_trans)) \n",
    "print(\"\\nDesviación estándar:\", np.std(train_data_trans)) "
   ]
  },
  {
   "cell_type": "code",
   "execution_count": 15,
   "metadata": {},
   "outputs": [
    {
     "data": {
      "image/png": "[encoded data removed]",
      "text/plain": [
       "<Figure size 432x288 with 1 Axes>"
      ]
     },
     "metadata": {
      "needs_background": "light"
     },
     "output_type": "display_data"
    }
   ],
   "source": [
    "pd.DataFrame(train_data_trans).hist()\n",
    "plt.show()"
   ]
  },
  {
   "cell_type": "markdown",
   "metadata": {},
   "source": [
    "### Recorte\n",
    "\n",
    "El recorte (clipping) es un enfoque para limitar o reducir los valores en puntos de valor específicos. Esto puede eliminar los valores atípicos, a costa de una posible pérdida de información de datos. El recorte se puede hacer fácilmente por medio de la función de clip de pandas o numpy. El siguiente código recorta los valores en el 1% y el 99% de los datos."
   ]
  },
  {
   "cell_type": "code",
   "execution_count": 16,
   "metadata": {},
   "outputs": [
    {
     "name": "stdout",
     "output_type": "stream",
     "text": [
      "p25:\n",
      " x013    0.0\n",
      "x025    0.0\n",
      "Name: 0.25, dtype: float64\n",
      "p75:\n",
      " x013    2.0\n",
      "x025    1.0\n",
      "Name: 0.75, dtype: float64\n"
     ]
    }
   ],
   "source": [
    "# Multiple columns can be clipped at once.\n",
    "\n",
    "df= train[['x013', 'x025']]\n",
    "\n",
    "p25 = df.quantile(0.25)\n",
    "p75 = df.quantile(0.75)\n",
    "print(\"p25:\\n\", p25)\n",
    "print(\"p75:\\n\", p75)"
   ]
  },
  {
   "cell_type": "code",
   "execution_count": 17,
   "metadata": {},
   "outputs": [
    {
     "data": {
      "text/html": [
       "<div>\n",
       "<style scoped>\n",
       "    .dataframe tbody tr th:only-of-type {\n",
       "        vertical-align: middle;\n",
       "    }\n",
       "\n",
       "    .dataframe tbody tr th {\n",
       "        vertical-align: top;\n",
       "    }\n",
       "\n",
       "    .dataframe thead th {\n",
       "        text-align: right;\n",
       "    }\n",
       "</style>\n",
       "<table border=\"1\" class=\"dataframe\">\n",
       "  <thead>\n",
       "    <tr style=\"text-align: right;\">\n",
       "      <th></th>\n",
       "      <th>x013</th>\n",
       "      <th>x025</th>\n",
       "    </tr>\n",
       "  </thead>\n",
       "  <tbody>\n",
       "    <tr>\n",
       "      <th>0</th>\n",
       "      <td>0</td>\n",
       "      <td>0</td>\n",
       "    </tr>\n",
       "    <tr>\n",
       "      <th>1</th>\n",
       "      <td>2</td>\n",
       "      <td>0</td>\n",
       "    </tr>\n",
       "    <tr>\n",
       "      <th>2</th>\n",
       "      <td>0</td>\n",
       "      <td>0</td>\n",
       "    </tr>\n",
       "    <tr>\n",
       "      <th>3</th>\n",
       "      <td>0</td>\n",
       "      <td>0</td>\n",
       "    </tr>\n",
       "    <tr>\n",
       "      <th>4</th>\n",
       "      <td>0</td>\n",
       "      <td>0</td>\n",
       "    </tr>\n",
       "    <tr>\n",
       "      <th>5</th>\n",
       "      <td>0</td>\n",
       "      <td>0</td>\n",
       "    </tr>\n",
       "    <tr>\n",
       "      <th>6</th>\n",
       "      <td>0</td>\n",
       "      <td>0</td>\n",
       "    </tr>\n",
       "    <tr>\n",
       "      <th>7</th>\n",
       "      <td>1</td>\n",
       "      <td>0</td>\n",
       "    </tr>\n",
       "    <tr>\n",
       "      <th>8</th>\n",
       "      <td>2</td>\n",
       "      <td>1</td>\n",
       "    </tr>\n",
       "    <tr>\n",
       "      <th>9</th>\n",
       "      <td>0</td>\n",
       "      <td>0</td>\n",
       "    </tr>\n",
       "  </tbody>\n",
       "</table>\n",
       "</div>"
      ],
      "text/plain": [
       "   x013  x025\n",
       "0     0     0\n",
       "1     2     0\n",
       "2     0     0\n",
       "3     0     0\n",
       "4     0     0\n",
       "5     0     0\n",
       "6     0     0\n",
       "7     1     0\n",
       "8     2     1\n",
       "9     0     0"
      ]
     },
     "execution_count": 17,
     "metadata": {},
     "output_type": "execute_result"
    }
   ],
   "source": [
    "df.head(10)"
   ]
  },
  {
   "cell_type": "code",
   "execution_count": 18,
   "metadata": {},
   "outputs": [
    {
     "data": {
      "text/html": [
       "<div>\n",
       "<style scoped>\n",
       "    .dataframe tbody tr th:only-of-type {\n",
       "        vertical-align: middle;\n",
       "    }\n",
       "\n",
       "    .dataframe tbody tr th {\n",
       "        vertical-align: top;\n",
       "    }\n",
       "\n",
       "    .dataframe thead th {\n",
       "        text-align: right;\n",
       "    }\n",
       "</style>\n",
       "<table border=\"1\" class=\"dataframe\">\n",
       "  <thead>\n",
       "    <tr style=\"text-align: right;\">\n",
       "      <th></th>\n",
       "      <th>x013</th>\n",
       "      <th>x025</th>\n",
       "    </tr>\n",
       "  </thead>\n",
       "  <tbody>\n",
       "    <tr>\n",
       "      <th>0</th>\n",
       "      <td>0</td>\n",
       "      <td>0</td>\n",
       "    </tr>\n",
       "    <tr>\n",
       "      <th>1</th>\n",
       "      <td>2</td>\n",
       "      <td>0</td>\n",
       "    </tr>\n",
       "    <tr>\n",
       "      <th>2</th>\n",
       "      <td>0</td>\n",
       "      <td>0</td>\n",
       "    </tr>\n",
       "    <tr>\n",
       "      <th>3</th>\n",
       "      <td>0</td>\n",
       "      <td>0</td>\n",
       "    </tr>\n",
       "    <tr>\n",
       "      <th>4</th>\n",
       "      <td>0</td>\n",
       "      <td>0</td>\n",
       "    </tr>\n",
       "    <tr>\n",
       "      <th>5</th>\n",
       "      <td>0</td>\n",
       "      <td>0</td>\n",
       "    </tr>\n",
       "    <tr>\n",
       "      <th>6</th>\n",
       "      <td>0</td>\n",
       "      <td>0</td>\n",
       "    </tr>\n",
       "    <tr>\n",
       "      <th>7</th>\n",
       "      <td>1</td>\n",
       "      <td>0</td>\n",
       "    </tr>\n",
       "    <tr>\n",
       "      <th>8</th>\n",
       "      <td>2</td>\n",
       "      <td>1</td>\n",
       "    </tr>\n",
       "    <tr>\n",
       "      <th>9</th>\n",
       "      <td>0</td>\n",
       "      <td>0</td>\n",
       "    </tr>\n",
       "  </tbody>\n",
       "</table>\n",
       "</div>"
      ],
      "text/plain": [
       "   x013  x025\n",
       "0     0     0\n",
       "1     2     0\n",
       "2     0     0\n",
       "3     0     0\n",
       "4     0     0\n",
       "5     0     0\n",
       "6     0     0\n",
       "7     1     0\n",
       "8     2     1\n",
       "9     0     0"
      ]
     },
     "execution_count": 18,
     "metadata": {},
     "output_type": "execute_result"
    }
   ],
   "source": [
    "data = {'x013': train['x013'], 'x025': train['x025']}\n",
    "df = pd.DataFrame(data)\n",
    "\n",
    "df[['x013', 'x025']] = df[['x013', 'x025']].clip(p25,p75,axis=1).astype('int')\n",
    "df.head(10)"
   ]
  },
  {
   "cell_type": "markdown",
   "metadata": {},
   "source": [
    "### Binning\n",
    "\n",
    "En Binning se agrupan los valores a intervalos distintos, y se utiliza un índice de grupo representativa de cada intervalo como una variable categórica. Se puede usar como una variable categórica ordinal o una variable numérica discreta tipo rango (discretizada). Como variable categórica también se puede trasnformar a numérica, mediante una codificación de un solo golpe (one-hot encoding) u otras transformaciones de variables categóricas.\n",
    "\n",
    "La determinación de los intervalos es el parámetro del método, y puede ser por intervalos regulares, puntos de percentil, u otra configuración manual basada en el conocimiento del dominio sobre los datos. El binning puede hacerse mediante la función de cut de pandas o la función de digitize de numpy."
   ]
  },
  {
   "cell_type": "code",
   "execution_count": 20,
   "metadata": {},
   "outputs": [
    {
     "data": {
      "text/html": [
       "<div>\n",
       "<style scoped>\n",
       "    .dataframe tbody tr th:only-of-type {\n",
       "        vertical-align: middle;\n",
       "    }\n",
       "\n",
       "    .dataframe tbody tr th {\n",
       "        vertical-align: top;\n",
       "    }\n",
       "\n",
       "    .dataframe thead th {\n",
       "        text-align: right;\n",
       "    }\n",
       "</style>\n",
       "<table border=\"1\" class=\"dataframe\">\n",
       "  <thead>\n",
       "    <tr style=\"text-align: right;\">\n",
       "      <th></th>\n",
       "      <th>x005</th>\n",
       "      <th>x005_binned</th>\n",
       "    </tr>\n",
       "  </thead>\n",
       "  <tbody>\n",
       "    <tr>\n",
       "      <th>0</th>\n",
       "      <td>44.0</td>\n",
       "      <td>0.0</td>\n",
       "    </tr>\n",
       "    <tr>\n",
       "      <th>1</th>\n",
       "      <td>156.0</td>\n",
       "      <td>1.0</td>\n",
       "    </tr>\n",
       "    <tr>\n",
       "      <th>2</th>\n",
       "      <td>218.0</td>\n",
       "      <td>2.0</td>\n",
       "    </tr>\n",
       "    <tr>\n",
       "      <th>3</th>\n",
       "      <td>146.0</td>\n",
       "      <td>1.0</td>\n",
       "    </tr>\n",
       "    <tr>\n",
       "      <th>4</th>\n",
       "      <td>230.0</td>\n",
       "      <td>2.0</td>\n",
       "    </tr>\n",
       "    <tr>\n",
       "      <th>5</th>\n",
       "      <td>23.0</td>\n",
       "      <td>0.0</td>\n",
       "    </tr>\n",
       "    <tr>\n",
       "      <th>6</th>\n",
       "      <td>NaN</td>\n",
       "      <td>NaN</td>\n",
       "    </tr>\n",
       "    <tr>\n",
       "      <th>7</th>\n",
       "      <td>85.0</td>\n",
       "      <td>1.0</td>\n",
       "    </tr>\n",
       "    <tr>\n",
       "      <th>8</th>\n",
       "      <td>279.0</td>\n",
       "      <td>3.0</td>\n",
       "    </tr>\n",
       "    <tr>\n",
       "      <th>9</th>\n",
       "      <td>58.0</td>\n",
       "      <td>0.0</td>\n",
       "    </tr>\n",
       "  </tbody>\n",
       "</table>\n",
       "</div>"
      ],
      "text/plain": [
       "    x005  x005_binned\n",
       "0   44.0          0.0\n",
       "1  156.0          1.0\n",
       "2  218.0          2.0\n",
       "3  146.0          1.0\n",
       "4  230.0          2.0\n",
       "5   23.0          0.0\n",
       "6    NaN          NaN\n",
       "7   85.0          1.0\n",
       "8  279.0          3.0\n",
       "9   58.0          0.0"
      ]
     },
     "execution_count": 20,
     "metadata": {},
     "output_type": "execute_result"
    }
   ],
   "source": [
    "#when bins is integer, it will be the number of bins and bin widths are to be equal.\n",
    "\n",
    "df= pd.DataFrame(train['x005'], columns=['x005'])\n",
    "\n",
    "df['x005_binned'] = pd.cut(df['x005'], bins=10, labels=False) \n",
    "df[['x005','x005_binned']].head(10)"
   ]
  },
  {
   "cell_type": "markdown",
   "metadata": {},
   "source": [
    "### Rango\n",
    "\n",
    "Este método funciona convirtiendo los valores numéricos en rangos de valores. Cuando se analiza el número de clientes en una tienda, es probable que el número de clientes en días festivos sea mucho mayor que el de los días de semana. Cambiar los números a rangos puede neutralizar el impacto del número absoluto de clientes.\n",
    "\n",
    "La función rank de pandas o la función argsort de numpy puede manejar esta transformación."
   ]
  },
  {
   "cell_type": "code",
   "execution_count": 21,
   "metadata": {},
   "outputs": [
    {
     "data": {
      "text/html": [
       "<div>\n",
       "<style scoped>\n",
       "    .dataframe tbody tr th:only-of-type {\n",
       "        vertical-align: middle;\n",
       "    }\n",
       "\n",
       "    .dataframe tbody tr th {\n",
       "        vertical-align: top;\n",
       "    }\n",
       "\n",
       "    .dataframe thead th {\n",
       "        text-align: right;\n",
       "    }\n",
       "</style>\n",
       "<table border=\"1\" class=\"dataframe\">\n",
       "  <thead>\n",
       "    <tr style=\"text-align: right;\">\n",
       "      <th></th>\n",
       "      <th>x018</th>\n",
       "      <th>x018_rank</th>\n",
       "    </tr>\n",
       "  </thead>\n",
       "  <tbody>\n",
       "    <tr>\n",
       "      <th>0</th>\n",
       "      <td>3</td>\n",
       "      <td>7296</td>\n",
       "    </tr>\n",
       "    <tr>\n",
       "      <th>1</th>\n",
       "      <td>6</td>\n",
       "      <td>15821</td>\n",
       "    </tr>\n",
       "    <tr>\n",
       "      <th>2</th>\n",
       "      <td>4</td>\n",
       "      <td>10357</td>\n",
       "    </tr>\n",
       "    <tr>\n",
       "      <th>3</th>\n",
       "      <td>6</td>\n",
       "      <td>15821</td>\n",
       "    </tr>\n",
       "    <tr>\n",
       "      <th>4</th>\n",
       "      <td>3</td>\n",
       "      <td>7296</td>\n",
       "    </tr>\n",
       "    <tr>\n",
       "      <th>5</th>\n",
       "      <td>4</td>\n",
       "      <td>10357</td>\n",
       "    </tr>\n",
       "    <tr>\n",
       "      <th>6</th>\n",
       "      <td>0</td>\n",
       "      <td>622</td>\n",
       "    </tr>\n",
       "    <tr>\n",
       "      <th>7</th>\n",
       "      <td>2</td>\n",
       "      <td>4543</td>\n",
       "    </tr>\n",
       "    <tr>\n",
       "      <th>8</th>\n",
       "      <td>5</td>\n",
       "      <td>13294</td>\n",
       "    </tr>\n",
       "    <tr>\n",
       "      <th>9</th>\n",
       "      <td>4</td>\n",
       "      <td>10357</td>\n",
       "    </tr>\n",
       "  </tbody>\n",
       "</table>\n",
       "</div>"
      ],
      "text/plain": [
       "   x018  x018_rank\n",
       "0     3       7296\n",
       "1     6      15821\n",
       "2     4      10357\n",
       "3     6      15821\n",
       "4     3       7296\n",
       "5     4      10357\n",
       "6     0        622\n",
       "7     2       4543\n",
       "8     5      13294\n",
       "9     4      10357"
      ]
     },
     "execution_count": 21,
     "metadata": {},
     "output_type": "execute_result"
    }
   ],
   "source": [
    "df = pd.DataFrame(train['x018'], columns=['x018'])\n",
    "df['x018_rank'] = df.x018.rank().astype('int')  #the rank of values starting from 1\n",
    "df.head(10)"
   ]
  },
  {
   "cell_type": "markdown",
   "metadata": {},
   "source": [
    "### RankGauss\n",
    "\n",
    "RankGauss es un enfoque para convertir los valores a rangos, y después convierte estos rangos a otro valor numérico siguiendo una distribución Gaussiana (ver el gráfico a continuación.)"
   ]
  },
  {
   "cell_type": "markdown",
   "metadata": {},
   "source": [
    "![alt text](8.png \"Title\")"
   ]
  },
  {
   "cell_type": "markdown",
   "metadata": {},
   "source": [
    "Esto se utilizó en la solución de primer lugar de la Predicción de Conductores Seguros de Porto Segro Porto Segro’s Safe Driver Prediction first place solution para su modelo de red neural. El ganador del primer lugar, Michael Jahrer, afirmó que funcionaba mejor que la estandarización o el escalamiento mín-máx para su modelo de red neuronal.\n",
    "\n",
    "La función QuantileTransformer en sklearn.preprocessing puede manejar esta transformación estableciendo los parámetros n_quantiles (se recomiendan valores grandes) y output_distribution = 'normal'."
   ]
  },
  {
   "cell_type": "code",
   "execution_count": 22,
   "metadata": {},
   "outputs": [
    {
     "data": {
      "text/html": [
       "<div>\n",
       "<style scoped>\n",
       "    .dataframe tbody tr th:only-of-type {\n",
       "        vertical-align: middle;\n",
       "    }\n",
       "\n",
       "    .dataframe tbody tr th {\n",
       "        vertical-align: top;\n",
       "    }\n",
       "\n",
       "    .dataframe thead th {\n",
       "        text-align: right;\n",
       "    }\n",
       "</style>\n",
       "<table border=\"1\" class=\"dataframe\">\n",
       "  <thead>\n",
       "    <tr style=\"text-align: right;\">\n",
       "      <th></th>\n",
       "      <th>x018</th>\n",
       "      <th>x018_RankGauss</th>\n",
       "    </tr>\n",
       "  </thead>\n",
       "  <tbody>\n",
       "    <tr>\n",
       "      <th>0</th>\n",
       "      <td>3</td>\n",
       "      <td>-0.430727</td>\n",
       "    </tr>\n",
       "    <tr>\n",
       "      <th>1</th>\n",
       "      <td>6</td>\n",
       "      <td>0.764710</td>\n",
       "    </tr>\n",
       "    <tr>\n",
       "      <th>2</th>\n",
       "      <td>4</td>\n",
       "      <td>0.000000</td>\n",
       "    </tr>\n",
       "    <tr>\n",
       "      <th>3</th>\n",
       "      <td>6</td>\n",
       "      <td>0.764710</td>\n",
       "    </tr>\n",
       "    <tr>\n",
       "      <th>4</th>\n",
       "      <td>3</td>\n",
       "      <td>-0.430727</td>\n",
       "    </tr>\n",
       "    <tr>\n",
       "      <th>5</th>\n",
       "      <td>4</td>\n",
       "      <td>0.000000</td>\n",
       "    </tr>\n",
       "    <tr>\n",
       "      <th>6</th>\n",
       "      <td>0</td>\n",
       "      <td>-5.199338</td>\n",
       "    </tr>\n",
       "    <tr>\n",
       "      <th>7</th>\n",
       "      <td>2</td>\n",
       "      <td>-0.764710</td>\n",
       "    </tr>\n",
       "    <tr>\n",
       "      <th>8</th>\n",
       "      <td>5</td>\n",
       "      <td>0.430727</td>\n",
       "    </tr>\n",
       "    <tr>\n",
       "      <th>9</th>\n",
       "      <td>4</td>\n",
       "      <td>0.000000</td>\n",
       "    </tr>\n",
       "  </tbody>\n",
       "</table>\n",
       "</div>"
      ],
      "text/plain": [
       "   x018  x018_RankGauss\n",
       "0     3       -0.430727\n",
       "1     6        0.764710\n",
       "2     4        0.000000\n",
       "3     6        0.764710\n",
       "4     3       -0.430727\n",
       "5     4        0.000000\n",
       "6     0       -5.199338\n",
       "7     2       -0.764710\n",
       "8     5        0.430727\n",
       "9     4        0.000000"
      ]
     },
     "execution_count": 22,
     "metadata": {},
     "output_type": "execute_result"
    }
   ],
   "source": [
    "from sklearn.preprocessing import QuantileTransformer\n",
    "\n",
    "data = {'x018': train['x018'], 'x019': train['x019']}\n",
    "df = pd.DataFrame(data)\n",
    "    \n",
    "transformer = QuantileTransformer(n_quantiles=10, random_state=1111, output_distribution='normal')\n",
    "transformer.fit(df[['x018']])\n",
    "df['x018_RankGauss'] = transformer.transform(df[['x018']])\n",
    "df[['x018','x018_RankGauss']].head(10)"
   ]
  },
  {
   "cell_type": "code",
   "execution_count": 23,
   "metadata": {
    "scrolled": true
   },
   "outputs": [
    {
     "data": {
      "image/png": "[encoded data removed]",
      "text/plain": [
       "<Figure size 864x360 with 2 Axes>"
      ]
     },
     "metadata": {
      "needs_background": "light"
     },
     "output_type": "display_data"
    }
   ],
   "source": [
    "fig, (ax1, ax2) = plt.subplots(1,2, figsize=[12,5])\n",
    "ax1.hist(df['x018'],bins=100)\n",
    "ax1.title.set_text('Original Data')\n",
    "ax2.hist(df['x018_RankGauss'],bins=100)\n",
    "ax2.title.set_text('RankGauss-ed Data')\n",
    "plt.show()"
   ]
  }
 ],
 "metadata": {
  "kernelspec": {
   "display_name": "Python 3",
   "language": "python",
   "name": "python3"
  },
  "language_info": {
   "codemirror_mode": {
    "name": "ipython",
    "version": 3
   },
   "file_extension": ".py",
   "mimetype": "text/x-python",
   "name": "python",
   "nbconvert_exporter": "python",
   "pygments_lexer": "ipython3",
   "version": "3.7.3"
  }
 },
 "nbformat": 4,
 "nbformat_minor": 2
}
