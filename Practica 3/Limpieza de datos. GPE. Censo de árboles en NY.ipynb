{
 "cells": [
  {
   "cell_type": "markdown",
   "metadata": {},
   "source": [
    "# Práctica 3"
   ]
  },
  {
   "cell_type": "markdown",
   "metadata": {},
   "source": [
    "# Dataset 2"
   ]
  },
  {
   "cell_type": "markdown",
   "metadata": {},
   "source": [
    "# Limpieza de datos"
   ]
  },
  {
   "cell_type": "markdown",
   "metadata": {},
   "source": [
    "Se propone hacer el EDA del dataset Tree Census in New York City. Un censo que describe la especie y características físicas y ubicación geTCráfica de los árboles ubicados en NYC. Consultado en: https://www.kaggle.com/nycparks/tree-census"
   ]
  },
  {
   "cell_type": "markdown",
   "metadata": {},
   "source": [
    "## Data Exploration"
   ]
  },
  {
   "cell_type": "markdown",
   "metadata": {},
   "source": [
    "Importamos los módulos necesarios."
   ]
  },
  {
   "cell_type": "code",
   "execution_count": 1,
   "metadata": {},
   "outputs": [],
   "source": [
    "import pandas as pd\n",
    "import numpy as np\n",
    "import seaborn as sns\n",
    "import matplotlib.pyplot as plt\n",
    "import matplotlib.mlab as mlab\n",
    "import matplotlib\n",
    "plt.style.use('ggplot')\n",
    "from matplotlib.pyplot import figure\n",
    "%matplotlib inline\n",
    "matplotlib.rcParams['figure.figsize'] = (12,8)\n",
    "\n",
    "pd.options.mode.chained_assignment = None #silence"
   ]
  },
  {
   "cell_type": "code",
   "execution_count": 2,
   "metadata": {},
   "outputs": [
    {
     "data": {
      "text/html": [
       "<div>\n",
       "<style scoped>\n",
       "    .dataframe tbody tr th:only-of-type {\n",
       "        vertical-align: middle;\n",
       "    }\n",
       "\n",
       "    .dataframe tbody tr th {\n",
       "        vertical-align: top;\n",
       "    }\n",
       "\n",
       "    .dataframe thead th {\n",
       "        text-align: right;\n",
       "    }\n",
       "</style>\n",
       "<table border=\"1\" class=\"dataframe\">\n",
       "  <thead>\n",
       "    <tr style=\"text-align: right;\">\n",
       "      <th></th>\n",
       "      <th>tree_id</th>\n",
       "      <th>block_id</th>\n",
       "      <th>created_at</th>\n",
       "      <th>tree_dbh</th>\n",
       "      <th>stump_diam</th>\n",
       "      <th>curb_loc</th>\n",
       "      <th>status</th>\n",
       "      <th>health</th>\n",
       "      <th>spc_latin</th>\n",
       "      <th>spc_common</th>\n",
       "      <th>...</th>\n",
       "      <th>st_assem</th>\n",
       "      <th>st_senate</th>\n",
       "      <th>nta</th>\n",
       "      <th>nta_name</th>\n",
       "      <th>boro_ct</th>\n",
       "      <th>state</th>\n",
       "      <th>latitude</th>\n",
       "      <th>longitude</th>\n",
       "      <th>x_sp</th>\n",
       "      <th>y_sp</th>\n",
       "    </tr>\n",
       "  </thead>\n",
       "  <tbody>\n",
       "    <tr>\n",
       "      <th>0</th>\n",
       "      <td>606945</td>\n",
       "      <td>305778</td>\n",
       "      <td>2016-06-28</td>\n",
       "      <td>10</td>\n",
       "      <td>0</td>\n",
       "      <td>OnCurb</td>\n",
       "      <td>Alive</td>\n",
       "      <td>Good</td>\n",
       "      <td>Fraxinus pennsylvanica</td>\n",
       "      <td>green ash</td>\n",
       "      <td>...</td>\n",
       "      <td>25</td>\n",
       "      <td>14</td>\n",
       "      <td>QN37</td>\n",
       "      <td>Kew Gardens Hills</td>\n",
       "      <td>4125700</td>\n",
       "      <td>New York</td>\n",
       "      <td>40.724339</td>\n",
       "      <td>-73.805180</td>\n",
       "      <td>1.038250e+06</td>\n",
       "      <td>203232.9417</td>\n",
       "    </tr>\n",
       "    <tr>\n",
       "      <th>1</th>\n",
       "      <td>160321</td>\n",
       "      <td>341273</td>\n",
       "      <td>2015-08-19</td>\n",
       "      <td>9</td>\n",
       "      <td>0</td>\n",
       "      <td>OnCurb</td>\n",
       "      <td>Alive</td>\n",
       "      <td>Good</td>\n",
       "      <td>Gleditsia triacanthos var. inermis</td>\n",
       "      <td>honeylocust</td>\n",
       "      <td>...</td>\n",
       "      <td>34</td>\n",
       "      <td>13</td>\n",
       "      <td>QN28</td>\n",
       "      <td>Jackson Heights</td>\n",
       "      <td>4030902</td>\n",
       "      <td>New York</td>\n",
       "      <td>40.756626</td>\n",
       "      <td>-73.894167</td>\n",
       "      <td>1.013571e+06</td>\n",
       "      <td>214953.6472</td>\n",
       "    </tr>\n",
       "    <tr>\n",
       "      <th>2</th>\n",
       "      <td>541347</td>\n",
       "      <td>325281</td>\n",
       "      <td>2015-12-30</td>\n",
       "      <td>7</td>\n",
       "      <td>0</td>\n",
       "      <td>OnCurb</td>\n",
       "      <td>Alive</td>\n",
       "      <td>Good</td>\n",
       "      <td>Pyrus calleryana</td>\n",
       "      <td>Callery pear</td>\n",
       "      <td>...</td>\n",
       "      <td>32</td>\n",
       "      <td>10</td>\n",
       "      <td>QN76</td>\n",
       "      <td>Baisley Park</td>\n",
       "      <td>4028800</td>\n",
       "      <td>New York</td>\n",
       "      <td>40.679777</td>\n",
       "      <td>-73.788463</td>\n",
       "      <td>1.042923e+06</td>\n",
       "      <td>187008.2671</td>\n",
       "    </tr>\n",
       "    <tr>\n",
       "      <th>3</th>\n",
       "      <td>613930</td>\n",
       "      <td>203822</td>\n",
       "      <td>2016-07-05</td>\n",
       "      <td>10</td>\n",
       "      <td>0</td>\n",
       "      <td>OnCurb</td>\n",
       "      <td>Alive</td>\n",
       "      <td>Good</td>\n",
       "      <td>Pyrus calleryana</td>\n",
       "      <td>Callery pear</td>\n",
       "      <td>...</td>\n",
       "      <td>46</td>\n",
       "      <td>22</td>\n",
       "      <td>BK31</td>\n",
       "      <td>Bay Ridge</td>\n",
       "      <td>3005000</td>\n",
       "      <td>New York</td>\n",
       "      <td>40.622743</td>\n",
       "      <td>-74.037543</td>\n",
       "      <td>9.738279e+05</td>\n",
       "      <td>166160.5847</td>\n",
       "    </tr>\n",
       "    <tr>\n",
       "      <th>4</th>\n",
       "      <td>18353</td>\n",
       "      <td>338911</td>\n",
       "      <td>2015-06-13</td>\n",
       "      <td>4</td>\n",
       "      <td>0</td>\n",
       "      <td>OnCurb</td>\n",
       "      <td>Alive</td>\n",
       "      <td>Good</td>\n",
       "      <td>Prunus virginiana</td>\n",
       "      <td>'Schubert' chokecherry</td>\n",
       "      <td>...</td>\n",
       "      <td>31</td>\n",
       "      <td>10</td>\n",
       "      <td>QN12</td>\n",
       "      <td>Hammels-Arverne-Edgemere</td>\n",
       "      <td>4095400</td>\n",
       "      <td>New York</td>\n",
       "      <td>40.596514</td>\n",
       "      <td>-73.797622</td>\n",
       "      <td>1.040452e+06</td>\n",
       "      <td>156667.5017</td>\n",
       "    </tr>\n",
       "  </tbody>\n",
       "</table>\n",
       "<p>5 rows × 41 columns</p>\n",
       "</div>"
      ],
      "text/plain": [
       "   tree_id  block_id  created_at  tree_dbh  stump_diam curb_loc status health  \\\n",
       "0   606945    305778  2016-06-28        10           0   OnCurb  Alive   Good   \n",
       "1   160321    341273  2015-08-19         9           0   OnCurb  Alive   Good   \n",
       "2   541347    325281  2015-12-30         7           0   OnCurb  Alive   Good   \n",
       "3   613930    203822  2016-07-05        10           0   OnCurb  Alive   Good   \n",
       "4    18353    338911  2015-06-13         4           0   OnCurb  Alive   Good   \n",
       "\n",
       "                            spc_latin              spc_common  ... st_assem  \\\n",
       "0              Fraxinus pennsylvanica               green ash  ...       25   \n",
       "1  Gleditsia triacanthos var. inermis             honeylocust  ...       34   \n",
       "2                    Pyrus calleryana            Callery pear  ...       32   \n",
       "3                    Pyrus calleryana            Callery pear  ...       46   \n",
       "4                   Prunus virginiana  'Schubert' chokecherry  ...       31   \n",
       "\n",
       "  st_senate   nta                  nta_name  boro_ct     state   latitude  \\\n",
       "0        14  QN37         Kew Gardens Hills  4125700  New York  40.724339   \n",
       "1        13  QN28           Jackson Heights  4030902  New York  40.756626   \n",
       "2        10  QN76              Baisley Park  4028800  New York  40.679777   \n",
       "3        22  BK31                 Bay Ridge  3005000  New York  40.622743   \n",
       "4        10  QN12  Hammels-Arverne-Edgemere  4095400  New York  40.596514   \n",
       "\n",
       "   longitude          x_sp         y_sp  \n",
       "0 -73.805180  1.038250e+06  203232.9417  \n",
       "1 -73.894167  1.013571e+06  214953.6472  \n",
       "2 -73.788463  1.042923e+06  187008.2671  \n",
       "3 -74.037543  9.738279e+05  166160.5847  \n",
       "4 -73.797622  1.040452e+06  156667.5017  \n",
       "\n",
       "[5 rows x 41 columns]"
      ]
     },
     "execution_count": 2,
     "metadata": {},
     "output_type": "execute_result"
    }
   ],
   "source": [
    "TC = pd.read_csv('new_york_tree_census_2015.csv')\n",
    "TC.head()"
   ]
  },
  {
   "cell_type": "code",
   "execution_count": 3,
   "metadata": {},
   "outputs": [
    {
     "name": "stdout",
     "output_type": "stream",
     "text": [
      "El número de registros en el dataset es: 683788 y el número de atributos es: 41.\n"
     ]
    }
   ],
   "source": [
    "# shape and data types of the data\n",
    "print('El número de registros en el dataset es: '+ str(TC.shape[0]) + ' y el número de atributos es: ' + str(TC.shape[1])+'.')"
   ]
  },
  {
   "cell_type": "code",
   "execution_count": 4,
   "metadata": {},
   "outputs": [
    {
     "data": {
      "text/html": [
       "<div>\n",
       "<style scoped>\n",
       "    .dataframe tbody tr th:only-of-type {\n",
       "        vertical-align: middle;\n",
       "    }\n",
       "\n",
       "    .dataframe tbody tr th {\n",
       "        vertical-align: top;\n",
       "    }\n",
       "\n",
       "    .dataframe thead th {\n",
       "        text-align: right;\n",
       "    }\n",
       "</style>\n",
       "<table border=\"1\" class=\"dataframe\">\n",
       "  <thead>\n",
       "    <tr style=\"text-align: right;\">\n",
       "      <th></th>\n",
       "      <th>Type</th>\n",
       "    </tr>\n",
       "  </thead>\n",
       "  <tbody>\n",
       "    <tr>\n",
       "      <th>tree_id</th>\n",
       "      <td>int64</td>\n",
       "    </tr>\n",
       "    <tr>\n",
       "      <th>block_id</th>\n",
       "      <td>int64</td>\n",
       "    </tr>\n",
       "    <tr>\n",
       "      <th>created_at</th>\n",
       "      <td>object</td>\n",
       "    </tr>\n",
       "    <tr>\n",
       "      <th>tree_dbh</th>\n",
       "      <td>int64</td>\n",
       "    </tr>\n",
       "    <tr>\n",
       "      <th>stump_diam</th>\n",
       "      <td>int64</td>\n",
       "    </tr>\n",
       "    <tr>\n",
       "      <th>curb_loc</th>\n",
       "      <td>object</td>\n",
       "    </tr>\n",
       "    <tr>\n",
       "      <th>status</th>\n",
       "      <td>object</td>\n",
       "    </tr>\n",
       "    <tr>\n",
       "      <th>health</th>\n",
       "      <td>object</td>\n",
       "    </tr>\n",
       "    <tr>\n",
       "      <th>spc_latin</th>\n",
       "      <td>object</td>\n",
       "    </tr>\n",
       "    <tr>\n",
       "      <th>spc_common</th>\n",
       "      <td>object</td>\n",
       "    </tr>\n",
       "    <tr>\n",
       "      <th>steward</th>\n",
       "      <td>object</td>\n",
       "    </tr>\n",
       "    <tr>\n",
       "      <th>guards</th>\n",
       "      <td>object</td>\n",
       "    </tr>\n",
       "    <tr>\n",
       "      <th>sidewalk</th>\n",
       "      <td>object</td>\n",
       "    </tr>\n",
       "    <tr>\n",
       "      <th>user_type</th>\n",
       "      <td>object</td>\n",
       "    </tr>\n",
       "    <tr>\n",
       "      <th>problems</th>\n",
       "      <td>object</td>\n",
       "    </tr>\n",
       "    <tr>\n",
       "      <th>root_stone</th>\n",
       "      <td>object</td>\n",
       "    </tr>\n",
       "    <tr>\n",
       "      <th>root_grate</th>\n",
       "      <td>object</td>\n",
       "    </tr>\n",
       "    <tr>\n",
       "      <th>root_other</th>\n",
       "      <td>object</td>\n",
       "    </tr>\n",
       "    <tr>\n",
       "      <th>trunk_wire</th>\n",
       "      <td>object</td>\n",
       "    </tr>\n",
       "    <tr>\n",
       "      <th>trnk_light</th>\n",
       "      <td>object</td>\n",
       "    </tr>\n",
       "    <tr>\n",
       "      <th>trnk_other</th>\n",
       "      <td>object</td>\n",
       "    </tr>\n",
       "    <tr>\n",
       "      <th>brch_light</th>\n",
       "      <td>object</td>\n",
       "    </tr>\n",
       "    <tr>\n",
       "      <th>brch_shoe</th>\n",
       "      <td>object</td>\n",
       "    </tr>\n",
       "    <tr>\n",
       "      <th>brch_other</th>\n",
       "      <td>object</td>\n",
       "    </tr>\n",
       "    <tr>\n",
       "      <th>address</th>\n",
       "      <td>object</td>\n",
       "    </tr>\n",
       "    <tr>\n",
       "      <th>zipcode</th>\n",
       "      <td>int64</td>\n",
       "    </tr>\n",
       "    <tr>\n",
       "      <th>zip_city</th>\n",
       "      <td>object</td>\n",
       "    </tr>\n",
       "    <tr>\n",
       "      <th>cb_num</th>\n",
       "      <td>int64</td>\n",
       "    </tr>\n",
       "    <tr>\n",
       "      <th>borocode</th>\n",
       "      <td>int64</td>\n",
       "    </tr>\n",
       "    <tr>\n",
       "      <th>boroname</th>\n",
       "      <td>object</td>\n",
       "    </tr>\n",
       "    <tr>\n",
       "      <th>cncldist</th>\n",
       "      <td>int64</td>\n",
       "    </tr>\n",
       "    <tr>\n",
       "      <th>st_assem</th>\n",
       "      <td>int64</td>\n",
       "    </tr>\n",
       "    <tr>\n",
       "      <th>st_senate</th>\n",
       "      <td>int64</td>\n",
       "    </tr>\n",
       "    <tr>\n",
       "      <th>nta</th>\n",
       "      <td>object</td>\n",
       "    </tr>\n",
       "    <tr>\n",
       "      <th>nta_name</th>\n",
       "      <td>object</td>\n",
       "    </tr>\n",
       "    <tr>\n",
       "      <th>boro_ct</th>\n",
       "      <td>int64</td>\n",
       "    </tr>\n",
       "    <tr>\n",
       "      <th>state</th>\n",
       "      <td>object</td>\n",
       "    </tr>\n",
       "    <tr>\n",
       "      <th>latitude</th>\n",
       "      <td>float64</td>\n",
       "    </tr>\n",
       "    <tr>\n",
       "      <th>longitude</th>\n",
       "      <td>float64</td>\n",
       "    </tr>\n",
       "    <tr>\n",
       "      <th>x_sp</th>\n",
       "      <td>float64</td>\n",
       "    </tr>\n",
       "    <tr>\n",
       "      <th>y_sp</th>\n",
       "      <td>float64</td>\n",
       "    </tr>\n",
       "  </tbody>\n",
       "</table>\n",
       "</div>"
      ],
      "text/plain": [
       "               Type\n",
       "tree_id       int64\n",
       "block_id      int64\n",
       "created_at   object\n",
       "tree_dbh      int64\n",
       "stump_diam    int64\n",
       "curb_loc     object\n",
       "status       object\n",
       "health       object\n",
       "spc_latin    object\n",
       "spc_common   object\n",
       "steward      object\n",
       "guards       object\n",
       "sidewalk     object\n",
       "user_type    object\n",
       "problems     object\n",
       "root_stone   object\n",
       "root_grate   object\n",
       "root_other   object\n",
       "trunk_wire   object\n",
       "trnk_light   object\n",
       "trnk_other   object\n",
       "brch_light   object\n",
       "brch_shoe    object\n",
       "brch_other   object\n",
       "address      object\n",
       "zipcode       int64\n",
       "zip_city     object\n",
       "cb_num        int64\n",
       "borocode      int64\n",
       "boroname     object\n",
       "cncldist      int64\n",
       "st_assem      int64\n",
       "st_senate     int64\n",
       "nta          object\n",
       "nta_name     object\n",
       "boro_ct       int64\n",
       "state        object\n",
       "latitude    float64\n",
       "longitude   float64\n",
       "x_sp        float64\n",
       "y_sp        float64"
      ]
     },
     "execution_count": 4,
     "metadata": {},
     "output_type": "execute_result"
    }
   ],
   "source": [
    "pd.DataFrame(TC.dtypes, columns=['Type'])"
   ]
  },
  {
   "cell_type": "markdown",
   "metadata": {},
   "source": [
    "Selección de columnas con variables numéricas"
   ]
  },
  {
   "cell_type": "code",
   "execution_count": 5,
   "metadata": {},
   "outputs": [
    {
     "name": "stdout",
     "output_type": "stream",
     "text": [
      "['tree_id' 'block_id' 'tree_dbh' 'stump_diam' 'zipcode' 'cb_num'\n",
      " 'borocode' 'cncldist' 'st_assem' 'st_senate' 'boro_ct' 'latitude'\n",
      " 'longitude' 'x_sp' 'y_sp']\n"
     ]
    }
   ],
   "source": [
    "TC_numericas = TC.select_dtypes(include=[np.number])\n",
    "cols_numericas = TC_numericas.columns.values\n",
    "print(cols_numericas)"
   ]
  },
  {
   "cell_type": "markdown",
   "metadata": {},
   "source": [
    "Selección de columnas con variables categóricas"
   ]
  },
  {
   "cell_type": "code",
   "execution_count": 6,
   "metadata": {},
   "outputs": [
    {
     "name": "stdout",
     "output_type": "stream",
     "text": [
      "['created_at' 'curb_loc' 'status' 'health' 'spc_latin' 'spc_common'\n",
      " 'steward' 'guards' 'sidewalk' 'user_type' 'problems' 'root_stone'\n",
      " 'root_grate' 'root_other' 'trunk_wire' 'trnk_light' 'trnk_other'\n",
      " 'brch_light' 'brch_shoe' 'brch_other' 'address' 'zip_city' 'boroname'\n",
      " 'nta' 'nta_name' 'state']\n"
     ]
    }
   ],
   "source": [
    "TC_no_numericas = TC.select_dtypes(exclude=[np.number])\n",
    "cols_no_numericas = TC_no_numericas.columns.values\n",
    "print(cols_no_numericas)"
   ]
  },
  {
   "cell_type": "markdown",
   "metadata": {},
   "source": [
    "## Datos faltantes"
   ]
  },
  {
   "cell_type": "markdown",
   "metadata": {},
   "source": [
    "### Técnica #1: mapa de calor de los datos faltantes"
   ]
  },
  {
   "cell_type": "code",
   "execution_count": 7,
   "metadata": {},
   "outputs": [
    {
     "data": {
      "text/plain": [
       "<matplotlib.axes._subplots.AxesSubplot at 0x1fd0bd60b70>"
      ]
     },
     "execution_count": 7,
     "metadata": {},
     "output_type": "execute_result"
    },
    {
     "data": {
      "image/png": "[encoded data removed]",
      "text/plain": [
       "<Figure size 432x288 with 2 Axes>"
      ]
     },
     "metadata": {
      "needs_background": "light"
     },
     "output_type": "display_data"
    }
   ],
   "source": [
    "columnas = TC.columns\n",
    "colores = ['#1EA48A', '#E65352'] #Red is missing. Blue is not missing.\n",
    "sns.heatmap(TC[columnas].isnull(), cmap=sns.color_palette(colores))"
   ]
  },
  {
   "cell_type": "markdown",
   "metadata": {},
   "source": [
    "Observación: Podemos observar que, casi en su mayoría, tenemos un dataset casi completo con excepción de algunos valores faltantes en los atributos de health, spc_latin, spc_common, steward, guards, sidewalk y problems. "
   ]
  },
  {
   "cell_type": "markdown",
   "metadata": {},
   "source": [
    "### Técnica #2: Lista de porcentaje de datos faltantes"
   ]
  },
  {
   "cell_type": "code",
   "execution_count": 8,
   "metadata": {},
   "outputs": [
    {
     "data": {
      "text/html": [
       "<div>\n",
       "<style scoped>\n",
       "    .dataframe tbody tr th:only-of-type {\n",
       "        vertical-align: middle;\n",
       "    }\n",
       "\n",
       "    .dataframe tbody tr th {\n",
       "        vertical-align: top;\n",
       "    }\n",
       "\n",
       "    .dataframe thead th {\n",
       "        text-align: right;\n",
       "    }\n",
       "</style>\n",
       "<table border=\"1\" class=\"dataframe\">\n",
       "  <thead>\n",
       "    <tr style=\"text-align: right;\">\n",
       "      <th></th>\n",
       "      <th>Atributo</th>\n",
       "      <th>Porcentaje valores faltantes</th>\n",
       "    </tr>\n",
       "  </thead>\n",
       "  <tbody>\n",
       "    <tr>\n",
       "      <th>0</th>\n",
       "      <td>health</td>\n",
       "      <td>5.0%</td>\n",
       "    </tr>\n",
       "    <tr>\n",
       "      <th>1</th>\n",
       "      <td>spc_latin</td>\n",
       "      <td>5.0%</td>\n",
       "    </tr>\n",
       "    <tr>\n",
       "      <th>2</th>\n",
       "      <td>spc_common</td>\n",
       "      <td>5.0%</td>\n",
       "    </tr>\n",
       "    <tr>\n",
       "      <th>3</th>\n",
       "      <td>steward</td>\n",
       "      <td>5.0%</td>\n",
       "    </tr>\n",
       "    <tr>\n",
       "      <th>4</th>\n",
       "      <td>guards</td>\n",
       "      <td>5.0%</td>\n",
       "    </tr>\n",
       "    <tr>\n",
       "      <th>5</th>\n",
       "      <td>sidewalk</td>\n",
       "      <td>5.0%</td>\n",
       "    </tr>\n",
       "    <tr>\n",
       "      <th>6</th>\n",
       "      <td>problems</td>\n",
       "      <td>5.0%</td>\n",
       "    </tr>\n",
       "  </tbody>\n",
       "</table>\n",
       "</div>"
      ],
      "text/plain": [
       "     Atributo Porcentaje valores faltantes\n",
       "0      health                         5.0%\n",
       "1   spc_latin                         5.0%\n",
       "2  spc_common                         5.0%\n",
       "3     steward                         5.0%\n",
       "4      guards                         5.0%\n",
       "5    sidewalk                         5.0%\n",
       "6    problems                         5.0%"
      ]
     },
     "execution_count": 8,
     "metadata": {},
     "output_type": "execute_result"
    }
   ],
   "source": [
    "columnas_missing=[]\n",
    "porcentaje_missing=[]\n",
    "for col in columnas:\n",
    "    porcentaje_missing_values = np.mean(TC[col].isnull())\n",
    "    if (porcentaje_missing_values > 0):\n",
    "        columnas_missing.append(col)\n",
    "        porcentaje_missing.append(str(round(porcentaje_missing_values*100))+'%')\n",
    "        \n",
    "TC_faltantes = pd.DataFrame(data=np.c_[columnas_missing, porcentaje_missing], columns=['Atributo', 'Porcentaje valores faltantes'])\n",
    "TC_faltantes"
   ]
  },
  {
   "cell_type": "markdown",
   "metadata": {},
   "source": [
    "### Técnica #3: Histograma de datos faltantes"
   ]
  },
  {
   "cell_type": "code",
   "execution_count": 9,
   "metadata": {},
   "outputs": [
    {
     "name": "stdout",
     "output_type": "stream",
     "text": [
      "Indicador faltante creado para: health\n",
      "Indicador faltante creado para: spc_latin\n",
      "Indicador faltante creado para: spc_common\n",
      "Indicador faltante creado para: steward\n",
      "Indicador faltante creado para: guards\n",
      "Indicador faltante creado para: sidewalk\n",
      "Indicador faltante creado para: problems\n"
     ]
    },
    {
     "data": {
      "image/png": "[encoded data removed]",
      "text/plain": [
       "<Figure size 432x288 with 1 Axes>"
      ]
     },
     "metadata": {
      "needs_background": "light"
     },
     "output_type": "display_data"
    }
   ],
   "source": [
    "# first create missing indicator for features with missing data\n",
    "for col in TC.columns:\n",
    "    #Crea un arreglo con T/F donde T es que hay un nulo, después lo suma.\n",
    "    missing = TC[col].isnull()\n",
    "    num_missing = np.sum(missing)\n",
    "    \n",
    "    if num_missing > 0:  \n",
    "        print('Indicador faltante creado para: {}'.format(col))\n",
    "        TC['{}_tiene_faltantes'.format(col)] = missing\n",
    "        \n",
    "# Basado en el indicador anterior, se crea la gráfica \n",
    "ismissing_cols = [col for col in TC.columns if 'tiene_faltantes' in col]\n",
    "TC['num_missing'] = TC[ismissing_cols].sum(axis=1)\n",
    "\n",
    "TC['num_missing'].value_counts().reset_index().sort_values(by='index').plot.bar(x='index', y='num_missing')\n",
    "plt.show()"
   ]
  },
  {
   "cell_type": "markdown",
   "metadata": {},
   "source": [
    "## Técnicas para tratar con los valores atípicos"
   ]
  },
  {
   "cell_type": "markdown",
   "metadata": {},
   "source": [
    "### Técnica #1: Histograma y Box Plot"
   ]
  },
  {
   "cell_type": "code",
   "execution_count": 10,
   "metadata": {},
   "outputs": [
    {
     "data": {
      "image/png": "[encoded data removed]",
      "text/plain": [
       "<Figure size 432x288 with 1 Axes>"
      ]
     },
     "metadata": {
      "needs_background": "light"
     },
     "output_type": "display_data"
    }
   ],
   "source": [
    "TC['tree_dbh'].hist(bins=100)\n",
    "plt.show()"
   ]
  },
  {
   "cell_type": "code",
   "execution_count": 11,
   "metadata": {},
   "outputs": [
    {
     "data": {
      "image/png": "[encoded data removed]",
      "text/plain": [
       "<Figure size 432x288 with 1 Axes>"
      ]
     },
     "metadata": {
      "needs_background": "light"
     },
     "output_type": "display_data"
    }
   ],
   "source": [
    "TC['stump_diam'].hist(bins=100)\n",
    "plt.show()"
   ]
  },
  {
   "cell_type": "markdown",
   "metadata": {},
   "source": [
    "En la figura siguiente se puede ver que los datos parecen muy sesgados con la posible existencia de valores atípicos. Para analizar la característica más de cerca, se usan los box plot."
   ]
  },
  {
   "cell_type": "code",
   "execution_count": 12,
   "metadata": {},
   "outputs": [
    {
     "data": {
      "image/png": "[encoded data removed]",
      "text/plain": [
       "<Figure size 432x288 with 1 Axes>"
      ]
     },
     "metadata": {
      "needs_background": "light"
     },
     "output_type": "display_data"
    }
   ],
   "source": [
    "TC.boxplot(column=['tree_dbh'])\n",
    "plt.show()"
   ]
  },
  {
   "cell_type": "code",
   "execution_count": 13,
   "metadata": {},
   "outputs": [
    {
     "data": {
      "image/png": "[encoded data removed]",
      "text/plain": [
       "<Figure size 432x288 with 1 Axes>"
      ]
     },
     "metadata": {
      "needs_background": "light"
     },
     "output_type": "display_data"
    }
   ],
   "source": [
    "TC.boxplot(column=['stump_diam'])\n",
    "plt.show()"
   ]
  },
  {
   "cell_type": "markdown",
   "metadata": {},
   "source": [
    "Podemos observar que hay observaciones que toman valores en tree_dbh mayoes a los que hay antes del cuantil 75%, es decir que se alejan demasiado de donde se concetra la mayoría de la información, es por eso que en el histograma como en el boxplot podemos visualizar como tenemos una distribución cargada hacia la izquierda y una gráfica con muchos valores atípicos."
   ]
  },
  {
   "cell_type": "markdown",
   "metadata": {},
   "source": [
    "### Técnica #2: Estadística descriptiva"
   ]
  },
  {
   "cell_type": "code",
   "execution_count": 14,
   "metadata": {},
   "outputs": [
    {
     "data": {
      "text/plain": [
       "count    683788.000000\n",
       "mean         11.279787\n",
       "std           8.723042\n",
       "min           0.000000\n",
       "25%           4.000000\n",
       "50%           9.000000\n",
       "75%          16.000000\n",
       "max         450.000000\n",
       "Name: tree_dbh, dtype: float64"
      ]
     },
     "execution_count": 14,
     "metadata": {},
     "output_type": "execute_result"
    }
   ],
   "source": [
    "TC['tree_dbh'].describe()"
   ]
  },
  {
   "cell_type": "markdown",
   "metadata": {},
   "source": [
    "El dato que se posiciona en el cuartil 75% es de 16, mientras que el máximo es de 450. "
   ]
  },
  {
   "cell_type": "code",
   "execution_count": 15,
   "metadata": {},
   "outputs": [
    {
     "data": {
      "text/plain": [
       "count    683788.000000\n",
       "mean          0.432463\n",
       "std           3.290241\n",
       "min           0.000000\n",
       "25%           0.000000\n",
       "50%           0.000000\n",
       "75%           0.000000\n",
       "max         140.000000\n",
       "Name: stump_diam, dtype: float64"
      ]
     },
     "execution_count": 15,
     "metadata": {},
     "output_type": "execute_result"
    }
   ],
   "source": [
    "TC['stump_diam'].describe()"
   ]
  },
  {
   "cell_type": "markdown",
   "metadata": {},
   "source": [
    "El dato que se posiciona en el cuartil 75% es de 0, mientras que el máximo es de 140."
   ]
  },
  {
   "cell_type": "markdown",
   "metadata": {},
   "source": [
    "### Técnica #3: Gráfico de barras"
   ]
  },
  {
   "cell_type": "markdown",
   "metadata": {},
   "source": [
    "Este es el ejemplo de una variable categórica."
   ]
  },
  {
   "cell_type": "code",
   "execution_count": 16,
   "metadata": {},
   "outputs": [
    {
     "data": {
      "image/png": "[encoded data removed]",
      "text/plain": [
       "<Figure size 432x288 with 1 Axes>"
      ]
     },
     "metadata": {
      "needs_background": "light"
     },
     "output_type": "display_data"
    }
   ],
   "source": [
    "TC['status'].value_counts().plot.bar()\n",
    "plt.show()"
   ]
  },
  {
   "cell_type": "code",
   "execution_count": 17,
   "metadata": {},
   "outputs": [
    {
     "data": {
      "image/png": "[encoded data removed]",
      "text/plain": [
       "<Figure size 432x288 with 1 Axes>"
      ]
     },
     "metadata": {
      "needs_background": "light"
     },
     "output_type": "display_data"
    }
   ],
   "source": [
    "TC['health'].value_counts().plot.bar()\n",
    "plt.show()"
   ]
  },
  {
   "cell_type": "markdown",
   "metadata": {},
   "source": [
    "## ¿Qué hacer con los valores atípicos?\n"
   ]
  },
  {
   "cell_type": "markdown",
   "metadata": {},
   "source": [
    "Aunque los valores atípicos no son difíciles de detectar, tenemos que determinar las soluciones adecuadas para manejarlos. Depende en gran medida del conjunto de datos y del objetivo del proyecto. Los métodos para manejar los valores atípicos son algo similar a los datos que faltan. O bien los eliminamos, los ajustamos o los conservamos."
   ]
  },
  {
   "cell_type": "markdown",
   "metadata": {},
   "source": [
    "## Datos innecesarios"
   ]
  },
  {
   "cell_type": "markdown",
   "metadata": {},
   "source": [
    "Todos los datos que se introduzcan en el modelo deberían servir para el propósito del proyecto. Los datos innecesarios son cuando los datos no añaden valor. Cubrimos tres tipos principales de datos innecesarios debido a diferentes razones."
   ]
  },
  {
   "cell_type": "markdown",
   "metadata": {},
   "source": [
    "### Tipo innecesario #1: Desinformativo / Repetitivo"
   ]
  },
  {
   "cell_type": "markdown",
   "metadata": {},
   "source": [
    "A veces una característica no es informativa porque tiene demasiadas observaciones que tienen el mismo valor"
   ]
  },
  {
   "cell_type": "code",
   "execution_count": 18,
   "metadata": {},
   "outputs": [
    {
     "name": "stdout",
     "output_type": "stream",
     "text": [
      "stump_diam: 97.41821%\n",
      "0      666134\n",
      "4         966\n",
      "5         939\n",
      "3         779\n",
      "6         754\n",
      "12        717\n",
      "10        716\n",
      "14        660\n",
      "8         660\n",
      "15        648\n",
      "7         612\n",
      "13        609\n",
      "20        572\n",
      "18        567\n",
      "16        557\n",
      "9         530\n",
      "17        526\n",
      "11        525\n",
      "22        426\n",
      "19        410\n",
      "24        404\n",
      "25        398\n",
      "2         363\n",
      "21        349\n",
      "30        338\n",
      "23        330\n",
      "28        308\n",
      "26        273\n",
      "27        272\n",
      "32        204\n",
      "        ...  \n",
      "56          4\n",
      "66          3\n",
      "76          3\n",
      "64          3\n",
      "79          3\n",
      "90          2\n",
      "89          2\n",
      "87          2\n",
      "84          2\n",
      "100         2\n",
      "74          2\n",
      "71          2\n",
      "69          2\n",
      "125         1\n",
      "120         1\n",
      "104         1\n",
      "118         1\n",
      "115         1\n",
      "109         1\n",
      "107         1\n",
      "131         1\n",
      "134         1\n",
      "99          1\n",
      "98          1\n",
      "96          1\n",
      "92          1\n",
      "86          1\n",
      "82          1\n",
      "72          1\n",
      "140         1\n",
      "Name: stump_diam, Length: 100, dtype: int64\n",
      "\n",
      "curb_loc: 96.06720%\n",
      "OnCurb            656896\n",
      "OffsetFromCurb     26892\n",
      "Name: curb_loc, dtype: int64\n",
      "\n",
      "status: 95.37649%\n",
      "Alive    652173\n",
      "Stump     17654\n",
      "Dead      13961\n",
      "Name: status, dtype: int64\n",
      "\n",
      "root_grate: 99.48288%\n",
      "No     680252\n",
      "Yes      3536\n",
      "Name: root_grate, dtype: int64\n",
      "\n",
      "root_other: 95.56558%\n",
      "No     653466\n",
      "Yes     30322\n",
      "Name: root_other, dtype: int64\n",
      "\n",
      "trunk_wire: 98.05876%\n",
      "No     670514\n",
      "Yes     13274\n",
      "Name: trunk_wire, dtype: int64\n",
      "\n",
      "trnk_light: 99.84922%\n",
      "No     682757\n",
      "Yes      1031\n",
      "Name: trnk_light, dtype: int64\n",
      "\n",
      "trnk_other: 95.23639%\n",
      "No     651215\n",
      "Yes     32573\n",
      "Name: trnk_other, dtype: int64\n",
      "\n",
      "brch_shoe: 99.93989%\n",
      "No     683377\n",
      "Yes       411\n",
      "Name: brch_shoe, dtype: int64\n",
      "\n",
      "brch_other: 96.43822%\n",
      "No     659433\n",
      "Yes     24355\n",
      "Name: brch_other, dtype: int64\n",
      "\n",
      "state: 100.00000%\n",
      "New York    683788\n",
      "Name: state, dtype: int64\n",
      "\n",
      "health_tiene_faltantes: 95.37634%\n",
      "False    652172\n",
      "True      31616\n",
      "Name: health_tiene_faltantes, dtype: int64\n",
      "\n",
      "spc_latin_tiene_faltantes: 95.37591%\n",
      "False    652169\n",
      "True      31619\n",
      "Name: spc_latin_tiene_faltantes, dtype: int64\n",
      "\n",
      "spc_common_tiene_faltantes: 95.37591%\n",
      "False    652169\n",
      "True      31619\n",
      "Name: spc_common_tiene_faltantes, dtype: int64\n",
      "\n",
      "steward_tiene_faltantes: 95.37649%\n",
      "False    652173\n",
      "True      31615\n",
      "Name: steward_tiene_faltantes, dtype: int64\n",
      "\n",
      "guards_tiene_faltantes: 95.37634%\n",
      "False    652172\n",
      "True      31616\n",
      "Name: guards_tiene_faltantes, dtype: int64\n",
      "\n",
      "sidewalk_tiene_faltantes: 95.37634%\n",
      "False    652172\n",
      "True      31616\n",
      "Name: sidewalk_tiene_faltantes, dtype: int64\n",
      "\n",
      "problems_tiene_faltantes: 95.36932%\n",
      "False    652124\n",
      "True      31664\n",
      "Name: problems_tiene_faltantes, dtype: int64\n",
      "\n",
      "num_missing: 95.36845%\n",
      "0    652118\n",
      "7     31614\n",
      "1        50\n",
      "2         4\n",
      "5         1\n",
      "4         1\n",
      "Name: num_missing, dtype: int64\n",
      "\n"
     ]
    }
   ],
   "source": [
    "num_filas = len(TC.index)\n",
    "low_information_cols = [] #\n",
    "\n",
    "for col in TC.columns:\n",
    "    cnts = TC[col].value_counts(dropna=False)\n",
    "    top_pct = (cnts/num_filas).iloc[0]\n",
    "    \n",
    "    if top_pct > 0.95:\n",
    "        low_information_cols.append(col)\n",
    "        print('{0}: {1:.5f}%'.format(col, top_pct*100))\n",
    "        print(cnts)\n",
    "        print()"
   ]
  },
  {
   "cell_type": "markdown",
   "metadata": {},
   "source": [
    "¿Qué hacer?\n",
    "Necesitamos entender las razones detrás de la característica repetitiva. Cuando son genuinamente desinformativas, podemos descartarlas. En este aso, todas nos aportan información."
   ]
  },
  {
   "cell_type": "markdown",
   "metadata": {},
   "source": [
    "### Tipo innecesario #2: Irrelevante"
   ]
  },
  {
   "cell_type": "markdown",
   "metadata": {},
   "source": [
    "Una vez más, los datos deben proporcionar información valiosa para el proyecto. Si las características no están relacionadas con la cuestión que estamos tratando de resolver en el proyecto, son irrelevantes."
   ]
  },
  {
   "cell_type": "markdown",
   "metadata": {},
   "source": [
    "¿Cómo averiguarlo?\n",
    "Necesitamos hojear las características para identificar las irrelevantes. Por ejemplo, un rasgo que registra la temperatura en Toronto no proporciona ninguna información útil para predecir los precios de las viviendas en Rusia."
   ]
  },
  {
   "cell_type": "markdown",
   "metadata": {},
   "source": [
    "¿Qué hacer?\n",
    "Cuando las características no sirven al objetivo del proyecto, podemos eliminarlas.\n",
    "\n",
    "feature selection"
   ]
  },
  {
   "cell_type": "markdown",
   "metadata": {},
   "source": [
    "## Tipo innecesario #3: Duplicados"
   ]
  },
  {
   "cell_type": "markdown",
   "metadata": {},
   "source": [
    "Los datos duplicados son cuando existen copias de la misma observación. Hay dos tipos principales de datos duplicados."
   ]
  },
  {
   "cell_type": "markdown",
   "metadata": {},
   "source": [
    "## Duplicados tipo #1: todas las características"
   ]
  },
  {
   "cell_type": "markdown",
   "metadata": {},
   "source": [
    "¿Cómo averiguarlo? \n",
    "\n",
    "Este duplicado ocurre cuando todos los valores de las características dentro de las observaciones son los mismos. Es fácil de encontrar. Primero quitamos el identificador único del conjunto de datos. Luego creamos un conjunto de datos llamado TC_dedupped eliminando los duplicados. Comparamos las formas de los dos conjuntos de datos (TC y TC_dedupped) para averiguar el número de filas duplicadas."
   ]
  },
  {
   "cell_type": "code",
   "execution_count": 19,
   "metadata": {},
   "outputs": [
    {
     "name": "stdout",
     "output_type": "stream",
     "text": [
      "(683788, 49)\n",
      "(683699, 48)\n"
     ]
    }
   ],
   "source": [
    "TC_dedupped = TC.drop('tree_id', axis=1).drop_duplicates()\n",
    "\n",
    "# there were duplicate rows\n",
    "print(TC.shape)\n",
    "print(TC_dedupped.shape)"
   ]
  },
  {
   "cell_type": "markdown",
   "metadata": {},
   "source": [
    "## Duplicados tipo #2: características claves"
   ]
  },
  {
   "cell_type": "markdown",
   "metadata": {},
   "source": [
    "¿Cómo averiguarlo?\n",
    "A veces es mejor eliminar los datos duplicados basándose en un conjunto de identificadores únicos. Podemos establecer un grupo de características críticas como identificadores únicos para las transacciones. Incluimos tree_id, block_id, created_at, latitude, longitude. Comprobamos si hay duplicados basados en ellos."
   ]
  },
  {
   "cell_type": "code",
   "execution_count": 20,
   "metadata": {},
   "outputs": [
    {
     "data": {
      "text/plain": [
       "tree_id  block_id  created_at  latitude   longitude \n",
       "722694   999999    2016-10-05  40.642404  -73.889086    1\n",
       "246539   414410    2015-09-22  40.555112  -74.146283    1\n",
       "246537   414410    2015-09-22  40.554797  -74.146179    1\n",
       "246536   335034    2015-09-22  40.727327  -73.730773    1\n",
       "246535   335034    2015-09-22  40.727429  -73.730734    1\n",
       "246534   335034    2015-09-22  40.727480  -73.730715    1\n",
       "246533   335034    2015-09-22  40.727549  -73.730689    1\n",
       "246532   335034    2015-09-22  40.727616  -73.730663    1\n",
       "246531   335034    2015-09-22  40.727758  -73.730609    1\n",
       "246530   335034    2015-09-22  40.727831  -73.730581    1\n",
       "246529   335034    2015-09-22  40.727990  -73.730521    1\n",
       "246528   335034    2015-09-22  40.728079  -73.730487    1\n",
       "246527   335034    2015-09-22  40.728152  -73.730459    1\n",
       "246526   335034    2015-09-22  40.728324  -73.730394    1\n",
       "246525   335034    2015-09-22  40.728402  -73.730364    1\n",
       "246524   335034    2015-09-22  40.728469  -73.730338    1\n",
       "246523   335034    2015-09-22  40.728556  -73.730305    1\n",
       "246522   509971    2015-09-22  40.837024  -73.829456    1\n",
       "246521   509972    2015-09-22  40.836860  -73.829597    1\n",
       "246538   414410    2015-09-22  40.554999  -74.146246    1\n",
       "Name: tree_id, dtype: int64"
      ]
     },
     "execution_count": 20,
     "metadata": {},
     "output_type": "execute_result"
    }
   ],
   "source": [
    "key = ['tree_id', 'block_id', 'created_at', 'latitude', 'longitude']\n",
    "TC.fillna(-999).groupby(key)['tree_id'].count().sort_values(ascending=False).head(20)"
   ]
  },
  {
   "cell_type": "markdown",
   "metadata": {},
   "source": [
    "¿Qué hacer?\n",
    "Podemos eliminar estos duplicados basándonos en las características principales."
   ]
  },
  {
   "cell_type": "code",
   "execution_count": 22,
   "metadata": {},
   "outputs": [
    {
     "name": "stdout",
     "output_type": "stream",
     "text": [
      "(683788, 49)\n",
      "(683788, 49)\n"
     ]
    }
   ],
   "source": [
    "# drop duplicates based on an subset of variables.\n",
    "\n",
    "key = ['tree_id', 'block_id', 'created_at', 'latitude', 'longitude']\n",
    "TC_dedupped2 = TC.drop_duplicates(subset=key)\n",
    "\n",
    "print(TC.shape)\n",
    "print(TC_dedupped2.shape)"
   ]
  },
  {
   "cell_type": "markdown",
   "metadata": {},
   "source": [
    "En este dataset no tenemos datos duplicados."
   ]
  },
  {
   "cell_type": "markdown",
   "metadata": {},
   "source": [
    "## Datos inconsistentes"
   ]
  },
  {
   "cell_type": "markdown",
   "metadata": {},
   "source": [
    "También es crucial que el conjunto de datos siga estándares específicos para ajustarse a un modelo. Necesitamos explorar los datos de diferentes maneras para encontrar los datos inconsistentes. La mayor parte del tiempo, depende de las observaciones y la experiencia. No hay un código establecido para ejecutarlo y arreglarlo todo. A continuación cubrimos cuatro tipos de datos inconsistentes.\n",
    "\n",
    "Tipo inconsistente #1: Capitalización\n",
    "El uso inconsistente de las mayúsculas y minúsculas en los valores categóricos es un error común. Podría causar problemas ya que los análisis en Python son sensibles a las mayúsculas y minúsculas.\n",
    "\n",
    "¿Cómo averiguarlo?"
   ]
  },
  {
   "cell_type": "markdown",
   "metadata": {},
   "source": [
    "Veamos la característica spc_common"
   ]
  },
  {
   "cell_type": "code",
   "execution_count": 23,
   "metadata": {},
   "outputs": [
    {
     "data": {
      "text/plain": [
       "London planetree          87014\n",
       "honeylocust               64264\n",
       "Callery pear              58931\n",
       "pin oak                   53185\n",
       "Norway maple              34189\n",
       "NaN                       31619\n",
       "littleleaf linden         29742\n",
       "cherry                    29279\n",
       "Japanese zelkova          29258\n",
       "ginkgo                    21024\n",
       "Sophora                   19338\n",
       "red maple                 17246\n",
       "green ash                 16251\n",
       "American linden           13530\n",
       "silver maple              12277\n",
       "sweetgum                  10657\n",
       "northern red oak           8400\n",
       "silver linden              7995\n",
       "American elm               7975\n",
       "maple                      7080\n",
       "purple-leaf plum           6879\n",
       "swamp white oak            6598\n",
       "crimson king maple         5923\n",
       "Chinese elm                5345\n",
       "'Schubert' chokecherry     4888\n",
       "Japanese tree lilac        4568\n",
       "eastern redbud             3801\n",
       "golden raintree            3719\n",
       "crab apple                 3527\n",
       "Kentucky coffeetree        3364\n",
       "                          ...  \n",
       "mimosa                      163\n",
       "tartar maple                153\n",
       "holly                       138\n",
       "southern magnolia           132\n",
       "blue spruce                 126\n",
       "European beech              125\n",
       "red horse chestnut          116\n",
       "black maple                 114\n",
       "trident maple               110\n",
       "false cypress               108\n",
       "red pine                    106\n",
       "pignut hickory               99\n",
       "bigtooth aspen               94\n",
       "eastern hemlock              88\n",
       "Atlas cedar                  87\n",
       "Douglas-fir                  85\n",
       "quaking aspen                83\n",
       "southern red oak             83\n",
       "Ohio buckeye                 75\n",
       "Himalayan cedar              72\n",
       "boxelder                     64\n",
       "Shantung maple               59\n",
       "smoketree                    58\n",
       "European alder               47\n",
       "American larch               46\n",
       "black pine                   37\n",
       "pitch pine                   33\n",
       "Osage-orange                 29\n",
       "Scots pine                   25\n",
       "Virginia pine                10\n",
       "Name: spc_common, Length: 133, dtype: int64"
      ]
     },
     "execution_count": 23,
     "metadata": {},
     "output_type": "execute_result"
    }
   ],
   "source": [
    "TC['spc_common'].value_counts(dropna=False)"
   ]
  },
  {
   "cell_type": "markdown",
   "metadata": {},
   "source": [
    "¿Qué hacer?\n",
    "Para evitarlo, podemos poner todas las letras en minúsculas (o mayúsculas)."
   ]
  },
  {
   "cell_type": "code",
   "execution_count": 24,
   "metadata": {},
   "outputs": [
    {
     "data": {
      "text/plain": [
       "london planetree          87014\n",
       "honeylocust               64264\n",
       "callery pear              58931\n",
       "pin oak                   53185\n",
       "norway maple              34189\n",
       "NaN                       31619\n",
       "littleleaf linden         29742\n",
       "cherry                    29279\n",
       "japanese zelkova          29258\n",
       "ginkgo                    21024\n",
       "sophora                   19338\n",
       "red maple                 17246\n",
       "green ash                 16251\n",
       "american linden           13530\n",
       "silver maple              12277\n",
       "sweetgum                  10657\n",
       "northern red oak           8400\n",
       "silver linden              7995\n",
       "american elm               7975\n",
       "maple                      7080\n",
       "purple-leaf plum           6879\n",
       "swamp white oak            6598\n",
       "crimson king maple         5923\n",
       "chinese elm                5345\n",
       "'schubert' chokecherry     4888\n",
       "japanese tree lilac        4568\n",
       "eastern redbud             3801\n",
       "golden raintree            3719\n",
       "crab apple                 3527\n",
       "kentucky coffeetree        3364\n",
       "                          ...  \n",
       "mimosa                      163\n",
       "tartar maple                153\n",
       "holly                       138\n",
       "southern magnolia           132\n",
       "blue spruce                 126\n",
       "european beech              125\n",
       "red horse chestnut          116\n",
       "black maple                 114\n",
       "trident maple               110\n",
       "false cypress               108\n",
       "red pine                    106\n",
       "pignut hickory               99\n",
       "bigtooth aspen               94\n",
       "eastern hemlock              88\n",
       "atlas cedar                  87\n",
       "douglas-fir                  85\n",
       "southern red oak             83\n",
       "quaking aspen                83\n",
       "ohio buckeye                 75\n",
       "himalayan cedar              72\n",
       "boxelder                     64\n",
       "shantung maple               59\n",
       "smoketree                    58\n",
       "european alder               47\n",
       "american larch               46\n",
       "black pine                   37\n",
       "pitch pine                   33\n",
       "osage-orange                 29\n",
       "scots pine                   25\n",
       "virginia pine                10\n",
       "Name: sub_spc_common_lower, Length: 133, dtype: int64"
      ]
     },
     "execution_count": 24,
     "metadata": {},
     "output_type": "execute_result"
    }
   ],
   "source": [
    "# make everything lower case.\n",
    "TC['sub_spc_common_lower'] = TC['spc_common'].str.lower()\n",
    "TC['sub_spc_common_lower'].value_counts(dropna=False)"
   ]
  },
  {
   "cell_type": "markdown",
   "metadata": {},
   "source": [
    "## Tipo inconsistente #2: Formatos"
   ]
  },
  {
   "cell_type": "markdown",
   "metadata": {},
   "source": [
    "Otra estandarización que debemos realizar es la de los formatos de datos. Un ejemplo es convertir la característica timestamp al formato DateTime."
   ]
  },
  {
   "cell_type": "code",
   "execution_count": 27,
   "metadata": {},
   "outputs": [
    {
     "data": {
      "text/plain": [
       "2015-10-27    6852\n",
       "2015-10-13    6676\n",
       "2015-10-26    6258\n",
       "2015-10-29    6223\n",
       "2015-10-15    6085\n",
       "2015-11-03    6028\n",
       "2015-10-14    6010\n",
       "2015-10-30    5834\n",
       "2015-10-20    5677\n",
       "2015-10-22    5368\n",
       "2015-11-02    5322\n",
       "2015-10-16    5151\n",
       "2015-10-23    5069\n",
       "2015-11-04    5065\n",
       "2015-10-07    5027\n",
       "2015-10-10    4919\n",
       "2015-11-05    4780\n",
       "2015-10-21    4542\n",
       "2015-09-25    4362\n",
       "2015-10-19    4319\n",
       "2015-10-28    4316\n",
       "2015-11-18    4248\n",
       "2015-10-12    4219\n",
       "2015-09-23    4169\n",
       "2015-10-08    4164\n",
       "2015-11-11    4074\n",
       "2015-10-06    3987\n",
       "2015-11-17    3956\n",
       "2015-11-06    3869\n",
       "2015-11-19    3810\n",
       "              ... \n",
       "2016-04-07      40\n",
       "2016-01-28      38\n",
       "2016-03-27      37\n",
       "2016-02-11      37\n",
       "2016-03-30      35\n",
       "2016-09-29      34\n",
       "2016-04-01      32\n",
       "2016-04-12      32\n",
       "2016-02-28      31\n",
       "2016-03-12      31\n",
       "2016-05-01      30\n",
       "2016-01-19      29\n",
       "2016-04-10      29\n",
       "2016-03-24      26\n",
       "2016-01-09      24\n",
       "2016-04-09      21\n",
       "2016-02-18      20\n",
       "2016-03-08      19\n",
       "2016-04-26      17\n",
       "2016-01-26      16\n",
       "2016-02-16      13\n",
       "2016-03-19      12\n",
       "2016-02-13      10\n",
       "2016-04-04      10\n",
       "2016-10-05      10\n",
       "2016-10-03       9\n",
       "2016-10-04       7\n",
       "2016-03-02       6\n",
       "2016-04-03       4\n",
       "2016-03-14       2\n",
       "Name: created_at, Length: 483, dtype: int64"
      ]
     },
     "execution_count": 27,
     "metadata": {},
     "output_type": "execute_result"
    }
   ],
   "source": [
    "TC.created_at.value_counts()"
   ]
  },
  {
   "cell_type": "markdown",
   "metadata": {},
   "source": [
    "### ¿Cómo averiguarlo?\n",
    "\n",
    "La característica timestamp está en formato objeto siendo que representa fechas."
   ]
  },
  {
   "cell_type": "code",
   "execution_count": 28,
   "metadata": {},
   "outputs": [
    {
     "data": {
      "text/plain": [
       "count         683788\n",
       "unique           483\n",
       "top       2015-10-27\n",
       "freq            6852\n",
       "Name: created_at, dtype: object"
      ]
     },
     "execution_count": 28,
     "metadata": {},
     "output_type": "execute_result"
    }
   ],
   "source": [
    "TC.created_at.describe()"
   ]
  },
  {
   "cell_type": "markdown",
   "metadata": {},
   "source": [
    "### ¿Qué hacer?\n",
    "\n",
    "Podemos convertirlo y extraer los valores de fecha u hora usando el código que se muestra a continuación. Después de esto, es más fácil analizar el grupo de volumen de transacciones por año o mes."
   ]
  },
  {
   "cell_type": "code",
   "execution_count": 29,
   "metadata": {},
   "outputs": [
    {
     "name": "stdout",
     "output_type": "stream",
     "text": [
      "2015    509525\n",
      "2016    174263\n",
      "Name: year, dtype: int64\n",
      "\n",
      "10    130540\n",
      "8     121704\n",
      "9     106028\n",
      "7      95107\n",
      "11     76089\n",
      "6      70790\n",
      "12     49842\n",
      "5      21213\n",
      "3       3651\n",
      "2       3147\n",
      "4       3003\n",
      "1       2674\n",
      "Name: month, dtype: int64\n"
     ]
    }
   ],
   "source": [
    "TC['timestamp_dt'] = pd.to_datetime(TC['created_at'], format='%Y-%m-%d')\n",
    "TC['year'] = TC['timestamp_dt'].dt.year\n",
    "TC['month'] = TC['timestamp_dt'].dt.month\n",
    "TC['weekday'] = TC['timestamp_dt'].dt.weekday\n",
    "\n",
    "print(TC['year'].value_counts(dropna=False))\n",
    "print()\n",
    "print(TC['month'].value_counts(dropna=False))"
   ]
  },
  {
   "cell_type": "markdown",
   "metadata": {},
   "source": [
    "## Tipo inconsistente #3: Valores categóricos"
   ]
  },
  {
   "cell_type": "markdown",
   "metadata": {},
   "source": [
    "Una característica categórica tiene un número limitado de valores (símbolos). A veces puede haber otros valores debido a razones como los errores ortográficos."
   ]
  },
  {
   "cell_type": "markdown",
   "metadata": {},
   "source": [
    "¿Cómo averiguarlo?\n",
    "\n",
    "Necesitamos observar la característica para descubrir esta inconsistencia. Mostrémoslo con un ejemplo. Creamos un nuevo conjunto de datos a continuación.  Una forma sencilla de identificarlos es la distancia edit. Mide cuántas letras (distancia) necesitamos para cambiar la ortografía de un valor para que coincida con otro valor."
   ]
  },
  {
   "cell_type": "code",
   "execution_count": 44,
   "metadata": {},
   "outputs": [
    {
     "data": {
      "text/html": [
       "<div>\n",
       "<style scoped>\n",
       "    .dataframe tbody tr th:only-of-type {\n",
       "        vertical-align: middle;\n",
       "    }\n",
       "\n",
       "    .dataframe tbody tr th {\n",
       "        vertical-align: top;\n",
       "    }\n",
       "\n",
       "    .dataframe thead th {\n",
       "        text-align: right;\n",
       "    }\n",
       "</style>\n",
       "<table border=\"1\" class=\"dataframe\">\n",
       "  <thead>\n",
       "    <tr style=\"text-align: right;\">\n",
       "      <th></th>\n",
       "      <th>nta_name</th>\n",
       "      <th>nta_name_distance_Jackson_Heights</th>\n",
       "      <th>nta_name_distance_Bay_Ridge</th>\n",
       "    </tr>\n",
       "  </thead>\n",
       "  <tbody>\n",
       "    <tr>\n",
       "      <th>0</th>\n",
       "      <td>Jackson Heights</td>\n",
       "      <td>0</td>\n",
       "      <td>12</td>\n",
       "    </tr>\n",
       "    <tr>\n",
       "      <th>1</th>\n",
       "      <td>jackson heights</td>\n",
       "      <td>2</td>\n",
       "      <td>12</td>\n",
       "    </tr>\n",
       "    <tr>\n",
       "      <th>2</th>\n",
       "      <td>jackson heights</td>\n",
       "      <td>3</td>\n",
       "      <td>13</td>\n",
       "    </tr>\n",
       "    <tr>\n",
       "      <th>3</th>\n",
       "      <td>jackson heights</td>\n",
       "      <td>3</td>\n",
       "      <td>13</td>\n",
       "    </tr>\n",
       "    <tr>\n",
       "      <th>4</th>\n",
       "      <td>Bay Ridge</td>\n",
       "      <td>12</td>\n",
       "      <td>0</td>\n",
       "    </tr>\n",
       "    <tr>\n",
       "      <th>5</th>\n",
       "      <td>bay ridge</td>\n",
       "      <td>12</td>\n",
       "      <td>2</td>\n",
       "    </tr>\n",
       "    <tr>\n",
       "      <th>6</th>\n",
       "      <td>bay ridge</td>\n",
       "      <td>12</td>\n",
       "      <td>3</td>\n",
       "    </tr>\n",
       "    <tr>\n",
       "      <th>7</th>\n",
       "      <td>bay ridge</td>\n",
       "      <td>13</td>\n",
       "      <td>3</td>\n",
       "    </tr>\n",
       "  </tbody>\n",
       "</table>\n",
       "</div>"
      ],
      "text/plain": [
       "           nta_name  nta_name_distance_Jackson_Heights  \\\n",
       "0   Jackson Heights                                  0   \n",
       "1   jackson heights                                  2   \n",
       "2  jackson heights                                   3   \n",
       "3   jackson heights                                  3   \n",
       "4         Bay Ridge                                 12   \n",
       "5         bay ridge                                 12   \n",
       "6        bay ridge                                  12   \n",
       "7         bay ridge                                 13   \n",
       "\n",
       "   nta_name_distance_Bay_Ridge  \n",
       "0                           12  \n",
       "1                           12  \n",
       "2                           13  \n",
       "3                           13  \n",
       "4                            0  \n",
       "5                            2  \n",
       "6                            3  \n",
       "7                            3  "
      ]
     },
     "execution_count": 44,
     "metadata": {},
     "output_type": "execute_result"
    }
   ],
   "source": [
    "from nltk.metrics import edit_distance\n",
    "\n",
    "TC_nta_name_ex = pd.DataFrame(data={'nta_name': ['Jackson Heights', 'jackson heights', 'jackson heights ', ' jackson heights', 'Bay Ridge', 'bay ridge', 'bay ridge ', ' bay ridge']})\n",
    "\n",
    "TC_nta_name_ex['nta_name_distance_Jackson_Heights'] = TC_nta_name_ex['nta_name'].map(lambda x: edit_distance(x, 'Jackson Heights'))\n",
    "TC_nta_name_ex['nta_name_distance_Bay_Ridge'] = TC_nta_name_ex['nta_name'].map(lambda x: edit_distance(x, 'Bay Ridge'))\n",
    "TC_nta_name_ex"
   ]
  },
  {
   "cell_type": "markdown",
   "metadata": {},
   "source": [
    "¿Qué hacer?\n",
    "Podemos establecer criterios para convertir estos errores tipográficos a los valores correctos. Por ejemplo, el siguiente código establece que todos los valores dentro de una distancia de 2 letras de \"Basketball\" sean \"Basketball\" y \"Judo\" sean \"Judo\"."
   ]
  },
  {
   "cell_type": "code",
   "execution_count": 47,
   "metadata": {},
   "outputs": [
    {
     "data": {
      "text/html": [
       "<div>\n",
       "<style scoped>\n",
       "    .dataframe tbody tr th:only-of-type {\n",
       "        vertical-align: middle;\n",
       "    }\n",
       "\n",
       "    .dataframe tbody tr th {\n",
       "        vertical-align: top;\n",
       "    }\n",
       "\n",
       "    .dataframe thead th {\n",
       "        text-align: right;\n",
       "    }\n",
       "</style>\n",
       "<table border=\"1\" class=\"dataframe\">\n",
       "  <thead>\n",
       "    <tr style=\"text-align: right;\">\n",
       "      <th></th>\n",
       "      <th>nta_name</th>\n",
       "      <th>nta_name_distance_Jackson_Heights</th>\n",
       "      <th>nta_name_distance_Bay_Ridge</th>\n",
       "    </tr>\n",
       "  </thead>\n",
       "  <tbody>\n",
       "    <tr>\n",
       "      <th>0</th>\n",
       "      <td>Jackson Heights</td>\n",
       "      <td>0</td>\n",
       "      <td>12</td>\n",
       "    </tr>\n",
       "    <tr>\n",
       "      <th>1</th>\n",
       "      <td>Jackson Heights</td>\n",
       "      <td>2</td>\n",
       "      <td>12</td>\n",
       "    </tr>\n",
       "    <tr>\n",
       "      <th>2</th>\n",
       "      <td>jackson heights</td>\n",
       "      <td>3</td>\n",
       "      <td>13</td>\n",
       "    </tr>\n",
       "    <tr>\n",
       "      <th>3</th>\n",
       "      <td>jackson heights</td>\n",
       "      <td>3</td>\n",
       "      <td>13</td>\n",
       "    </tr>\n",
       "    <tr>\n",
       "      <th>4</th>\n",
       "      <td>Bay Ridge</td>\n",
       "      <td>12</td>\n",
       "      <td>0</td>\n",
       "    </tr>\n",
       "    <tr>\n",
       "      <th>5</th>\n",
       "      <td>Bay Ridge</td>\n",
       "      <td>12</td>\n",
       "      <td>2</td>\n",
       "    </tr>\n",
       "    <tr>\n",
       "      <th>6</th>\n",
       "      <td>bay ridge</td>\n",
       "      <td>12</td>\n",
       "      <td>3</td>\n",
       "    </tr>\n",
       "    <tr>\n",
       "      <th>7</th>\n",
       "      <td>bay ridge</td>\n",
       "      <td>13</td>\n",
       "      <td>3</td>\n",
       "    </tr>\n",
       "  </tbody>\n",
       "</table>\n",
       "</div>"
      ],
      "text/plain": [
       "           nta_name  nta_name_distance_Jackson_Heights  \\\n",
       "0   Jackson Heights                                  0   \n",
       "1   Jackson Heights                                  2   \n",
       "2  jackson heights                                   3   \n",
       "3   jackson heights                                  3   \n",
       "4         Bay Ridge                                 12   \n",
       "5         Bay Ridge                                 12   \n",
       "6        bay ridge                                  12   \n",
       "7         bay ridge                                 13   \n",
       "\n",
       "   nta_name_distance_Bay_Ridge  \n",
       "0                           12  \n",
       "1                           12  \n",
       "2                           13  \n",
       "3                           13  \n",
       "4                            0  \n",
       "5                            2  \n",
       "6                            3  \n",
       "7                            3  "
      ]
     },
     "execution_count": 47,
     "metadata": {},
     "output_type": "execute_result"
    }
   ],
   "source": [
    "msk = TC_nta_name_ex['nta_name_distance_Jackson_Heights'] <= 2\n",
    "TC_nta_name_ex.loc[msk, 'nta_name'] = 'Jackson Heights'\n",
    "\n",
    "msk = TC_nta_name_ex['nta_name_distance_Bay_Ridge'] <= 2\n",
    "TC_nta_name_ex.loc[msk, 'nta_name'] = 'Bay Ridge'\n",
    "\n",
    "TC_nta_name_ex"
   ]
  },
  {
   "cell_type": "markdown",
   "metadata": {},
   "source": [
    "## Tipo inconsistente #4: Direcciones\n",
    "La característica de la dirección podría ser un dolor de cabeza para muchos de nosotros. Porque la gente que introduce los datos en la base de datos a menudo no sigue un formato estándar."
   ]
  },
  {
   "cell_type": "markdown",
   "metadata": {},
   "source": [
    "### ¿Qué hacer?\n",
    "\n",
    "Ejecutamos el siguiente código para poner las letras en minúsculas, eliminar los espacios en blanco, eliminar los puntos y estandarizar las palabras."
   ]
  },
  {
   "cell_type": "code",
   "execution_count": 40,
   "metadata": {},
   "outputs": [
    {
     "data": {
      "text/html": [
       "<div>\n",
       "<style scoped>\n",
       "    .dataframe tbody tr th:only-of-type {\n",
       "        vertical-align: middle;\n",
       "    }\n",
       "\n",
       "    .dataframe tbody tr th {\n",
       "        vertical-align: top;\n",
       "    }\n",
       "\n",
       "    .dataframe thead th {\n",
       "        text-align: right;\n",
       "    }\n",
       "</style>\n",
       "<table border=\"1\" class=\"dataframe\">\n",
       "  <thead>\n",
       "    <tr style=\"text-align: right;\">\n",
       "      <th></th>\n",
       "      <th>address</th>\n",
       "    </tr>\n",
       "  </thead>\n",
       "  <tbody>\n",
       "    <tr>\n",
       "      <th>0</th>\n",
       "      <td>76-046 164 STREET</td>\n",
       "    </tr>\n",
       "    <tr>\n",
       "      <th>1</th>\n",
       "      <td>72-020 32 AVENUE</td>\n",
       "    </tr>\n",
       "    <tr>\n",
       "      <th>2</th>\n",
       "      <td>153-026 119 AVENUE</td>\n",
       "    </tr>\n",
       "    <tr>\n",
       "      <th>3</th>\n",
       "      <td>89 89 STREET</td>\n",
       "    </tr>\n",
       "    <tr>\n",
       "      <th>4</th>\n",
       "      <td>559 BEACH 68 STREET</td>\n",
       "    </tr>\n",
       "    <tr>\n",
       "      <th>5</th>\n",
       "      <td>3554 BROADWAY</td>\n",
       "    </tr>\n",
       "    <tr>\n",
       "      <th>6</th>\n",
       "      <td>2030 PITKIN AVENUE</td>\n",
       "    </tr>\n",
       "    <tr>\n",
       "      <th>7</th>\n",
       "      <td>5008 FT HAMILTON PARKWAY</td>\n",
       "    </tr>\n",
       "    <tr>\n",
       "      <th>8</th>\n",
       "      <td>85-006 WOODHAVEN BOULEVARD</td>\n",
       "    </tr>\n",
       "    <tr>\n",
       "      <th>9</th>\n",
       "      <td>1340 EAST BAY AVENUE</td>\n",
       "    </tr>\n",
       "    <tr>\n",
       "      <th>10</th>\n",
       "      <td>97-016 116 STREET</td>\n",
       "    </tr>\n",
       "    <tr>\n",
       "      <th>11</th>\n",
       "      <td>234 CORBIN AVENUE</td>\n",
       "    </tr>\n",
       "    <tr>\n",
       "      <th>12</th>\n",
       "      <td>311 10 AVENUE</td>\n",
       "    </tr>\n",
       "    <tr>\n",
       "      <th>13</th>\n",
       "      <td>73 MACON AVENUE</td>\n",
       "    </tr>\n",
       "    <tr>\n",
       "      <th>14</th>\n",
       "      <td>176 SUYDAM STREET</td>\n",
       "    </tr>\n",
       "    <tr>\n",
       "      <th>15</th>\n",
       "      <td>152-002 BAISLEY BOULEVARD</td>\n",
       "    </tr>\n",
       "    <tr>\n",
       "      <th>16</th>\n",
       "      <td>345 CITY ISLAND AVENUE</td>\n",
       "    </tr>\n",
       "    <tr>\n",
       "      <th>17</th>\n",
       "      <td>3919 AVENUE P</td>\n",
       "    </tr>\n",
       "    <tr>\n",
       "      <th>18</th>\n",
       "      <td>197 HOPE AVENUE</td>\n",
       "    </tr>\n",
       "    <tr>\n",
       "      <th>19</th>\n",
       "      <td>283 ADAMS STREET</td>\n",
       "    </tr>\n",
       "    <tr>\n",
       "      <th>20</th>\n",
       "      <td>1360 HERKIMER STREET</td>\n",
       "    </tr>\n",
       "    <tr>\n",
       "      <th>21</th>\n",
       "      <td>221-006 114 ROAD</td>\n",
       "    </tr>\n",
       "    <tr>\n",
       "      <th>22</th>\n",
       "      <td>6833 BLISS TERRACE</td>\n",
       "    </tr>\n",
       "    <tr>\n",
       "      <th>23</th>\n",
       "      <td>229 EAST 2 STREET</td>\n",
       "    </tr>\n",
       "    <tr>\n",
       "      <th>24</th>\n",
       "      <td>34-042 80 STREET</td>\n",
       "    </tr>\n",
       "    <tr>\n",
       "      <th>25</th>\n",
       "      <td>87-023 178 STREET</td>\n",
       "    </tr>\n",
       "    <tr>\n",
       "      <th>26</th>\n",
       "      <td>90 ROOSEVELT AVENUE</td>\n",
       "    </tr>\n",
       "    <tr>\n",
       "      <th>27</th>\n",
       "      <td>3221 BRUCKNER BOULEVARD</td>\n",
       "    </tr>\n",
       "    <tr>\n",
       "      <th>28</th>\n",
       "      <td>260 CHRISTOPHER LANE</td>\n",
       "    </tr>\n",
       "    <tr>\n",
       "      <th>29</th>\n",
       "      <td>949 ROSSVILLE AVENUE</td>\n",
       "    </tr>\n",
       "    <tr>\n",
       "      <th>...</th>\n",
       "      <td>...</td>\n",
       "    </tr>\n",
       "    <tr>\n",
       "      <th>683758</th>\n",
       "      <td>659 WOODROW ROAD</td>\n",
       "    </tr>\n",
       "    <tr>\n",
       "      <th>683759</th>\n",
       "      <td>1314 EAST 66 STREET</td>\n",
       "    </tr>\n",
       "    <tr>\n",
       "      <th>683760</th>\n",
       "      <td>24-011 42 STREET</td>\n",
       "    </tr>\n",
       "    <tr>\n",
       "      <th>683761</th>\n",
       "      <td>1356 AMSTERDAM AVENUE</td>\n",
       "    </tr>\n",
       "    <tr>\n",
       "      <th>683762</th>\n",
       "      <td>1185 EAST 27 STREET</td>\n",
       "    </tr>\n",
       "    <tr>\n",
       "      <th>683763</th>\n",
       "      <td>210-010 NASHVILLE BOULEVARD</td>\n",
       "    </tr>\n",
       "    <tr>\n",
       "      <th>683764</th>\n",
       "      <td>2513 BEDFORD AVENUE</td>\n",
       "    </tr>\n",
       "    <tr>\n",
       "      <th>683765</th>\n",
       "      <td>1056 5 AVENUE</td>\n",
       "    </tr>\n",
       "    <tr>\n",
       "      <th>683766</th>\n",
       "      <td>645 PROSPECT AVENUE</td>\n",
       "    </tr>\n",
       "    <tr>\n",
       "      <th>683767</th>\n",
       "      <td>252 ABINGDON AVENUE</td>\n",
       "    </tr>\n",
       "    <tr>\n",
       "      <th>683768</th>\n",
       "      <td>141-012 224 STREET</td>\n",
       "    </tr>\n",
       "    <tr>\n",
       "      <th>683769</th>\n",
       "      <td>1113 JEFFERSON AVENUE</td>\n",
       "    </tr>\n",
       "    <tr>\n",
       "      <th>683770</th>\n",
       "      <td>47-025 208 STREET</td>\n",
       "    </tr>\n",
       "    <tr>\n",
       "      <th>683771</th>\n",
       "      <td>86-002 135 STREET</td>\n",
       "    </tr>\n",
       "    <tr>\n",
       "      <th>683772</th>\n",
       "      <td>1201 VIELE AVENUE</td>\n",
       "    </tr>\n",
       "    <tr>\n",
       "      <th>683773</th>\n",
       "      <td>205-012 33 AVENUE</td>\n",
       "    </tr>\n",
       "    <tr>\n",
       "      <th>683774</th>\n",
       "      <td>152-028 10 AVENUE</td>\n",
       "    </tr>\n",
       "    <tr>\n",
       "      <th>683775</th>\n",
       "      <td>111-021 76 DRIVE</td>\n",
       "    </tr>\n",
       "    <tr>\n",
       "      <th>683776</th>\n",
       "      <td>212 OCEAN PARKWAY</td>\n",
       "    </tr>\n",
       "    <tr>\n",
       "      <th>683777</th>\n",
       "      <td>1573 79 STREET</td>\n",
       "    </tr>\n",
       "    <tr>\n",
       "      <th>683778</th>\n",
       "      <td>610 RIVER AVENUE</td>\n",
       "    </tr>\n",
       "    <tr>\n",
       "      <th>683779</th>\n",
       "      <td>28-048 46 STREET</td>\n",
       "    </tr>\n",
       "    <tr>\n",
       "      <th>683780</th>\n",
       "      <td>114-016 150 AVENUE</td>\n",
       "    </tr>\n",
       "    <tr>\n",
       "      <th>683781</th>\n",
       "      <td>310 KINGHORN STREET</td>\n",
       "    </tr>\n",
       "    <tr>\n",
       "      <th>683782</th>\n",
       "      <td>205 AVENUE C</td>\n",
       "    </tr>\n",
       "    <tr>\n",
       "      <th>683783</th>\n",
       "      <td>1 BEARD STREET</td>\n",
       "    </tr>\n",
       "    <tr>\n",
       "      <th>683784</th>\n",
       "      <td>87-015 LITTLE NECK PARKWAY</td>\n",
       "    </tr>\n",
       "    <tr>\n",
       "      <th>683785</th>\n",
       "      <td>644 EAST 8 STREET</td>\n",
       "    </tr>\n",
       "    <tr>\n",
       "      <th>683786</th>\n",
       "      <td>116-019 125 STREET</td>\n",
       "    </tr>\n",
       "    <tr>\n",
       "      <th>683787</th>\n",
       "      <td>209 SOUTH 2 STREET</td>\n",
       "    </tr>\n",
       "  </tbody>\n",
       "</table>\n",
       "<p>683788 rows × 1 columns</p>\n",
       "</div>"
      ],
      "text/plain": [
       "                            address\n",
       "0                 76-046 164 STREET\n",
       "1                  72-020 32 AVENUE\n",
       "2                153-026 119 AVENUE\n",
       "3                      89 89 STREET\n",
       "4               559 BEACH 68 STREET\n",
       "5                     3554 BROADWAY\n",
       "6                2030 PITKIN AVENUE\n",
       "7          5008 FT HAMILTON PARKWAY\n",
       "8        85-006 WOODHAVEN BOULEVARD\n",
       "9              1340 EAST BAY AVENUE\n",
       "10                97-016 116 STREET\n",
       "11                234 CORBIN AVENUE\n",
       "12                    311 10 AVENUE\n",
       "13                  73 MACON AVENUE\n",
       "14                176 SUYDAM STREET\n",
       "15        152-002 BAISLEY BOULEVARD\n",
       "16           345 CITY ISLAND AVENUE\n",
       "17                    3919 AVENUE P\n",
       "18                  197 HOPE AVENUE\n",
       "19                 283 ADAMS STREET\n",
       "20             1360 HERKIMER STREET\n",
       "21                 221-006 114 ROAD\n",
       "22               6833 BLISS TERRACE\n",
       "23                229 EAST 2 STREET\n",
       "24                 34-042 80 STREET\n",
       "25                87-023 178 STREET\n",
       "26              90 ROOSEVELT AVENUE\n",
       "27          3221 BRUCKNER BOULEVARD\n",
       "28             260 CHRISTOPHER LANE\n",
       "29             949 ROSSVILLE AVENUE\n",
       "...                             ...\n",
       "683758             659 WOODROW ROAD\n",
       "683759          1314 EAST 66 STREET\n",
       "683760             24-011 42 STREET\n",
       "683761        1356 AMSTERDAM AVENUE\n",
       "683762          1185 EAST 27 STREET\n",
       "683763  210-010 NASHVILLE BOULEVARD\n",
       "683764          2513 BEDFORD AVENUE\n",
       "683765                1056 5 AVENUE\n",
       "683766          645 PROSPECT AVENUE\n",
       "683767          252 ABINGDON AVENUE\n",
       "683768           141-012 224 STREET\n",
       "683769        1113 JEFFERSON AVENUE\n",
       "683770            47-025 208 STREET\n",
       "683771            86-002 135 STREET\n",
       "683772            1201 VIELE AVENUE\n",
       "683773            205-012 33 AVENUE\n",
       "683774            152-028 10 AVENUE\n",
       "683775             111-021 76 DRIVE\n",
       "683776            212 OCEAN PARKWAY\n",
       "683777               1573 79 STREET\n",
       "683778             610 RIVER AVENUE\n",
       "683779             28-048 46 STREET\n",
       "683780           114-016 150 AVENUE\n",
       "683781          310 KINGHORN STREET\n",
       "683782                 205 AVENUE C\n",
       "683783               1 BEARD STREET\n",
       "683784   87-015 LITTLE NECK PARKWAY\n",
       "683785            644 EAST 8 STREET\n",
       "683786           116-019 125 STREET\n",
       "683787           209 SOUTH 2 STREET\n",
       "\n",
       "[683788 rows x 1 columns]"
      ]
     },
     "execution_count": 40,
     "metadata": {},
     "output_type": "execute_result"
    }
   ],
   "source": [
    "# no address column in the housing dataset. So create one to show the code.\n",
    "TC_add_ex = TC[['address']]\n",
    "TC_add_ex"
   ]
  },
  {
   "cell_type": "code",
   "execution_count": 42,
   "metadata": {},
   "outputs": [
    {
     "data": {
      "text/html": [
       "<div>\n",
       "<style scoped>\n",
       "    .dataframe tbody tr th:only-of-type {\n",
       "        vertical-align: middle;\n",
       "    }\n",
       "\n",
       "    .dataframe tbody tr th {\n",
       "        vertical-align: top;\n",
       "    }\n",
       "\n",
       "    .dataframe thead th {\n",
       "        text-align: right;\n",
       "    }\n",
       "</style>\n",
       "<table border=\"1\" class=\"dataframe\">\n",
       "  <thead>\n",
       "    <tr style=\"text-align: right;\">\n",
       "      <th></th>\n",
       "      <th>address</th>\n",
       "      <th>address_std</th>\n",
       "    </tr>\n",
       "  </thead>\n",
       "  <tbody>\n",
       "    <tr>\n",
       "      <th>0</th>\n",
       "      <td>76-046 164 STREET</td>\n",
       "      <td>76-046 164 st</td>\n",
       "    </tr>\n",
       "    <tr>\n",
       "      <th>1</th>\n",
       "      <td>72-020 32 AVENUE</td>\n",
       "      <td>72-020 32 ave</td>\n",
       "    </tr>\n",
       "    <tr>\n",
       "      <th>2</th>\n",
       "      <td>153-026 119 AVENUE</td>\n",
       "      <td>153-026 119 ave</td>\n",
       "    </tr>\n",
       "    <tr>\n",
       "      <th>3</th>\n",
       "      <td>89 89 STREET</td>\n",
       "      <td>89 89 st</td>\n",
       "    </tr>\n",
       "    <tr>\n",
       "      <th>4</th>\n",
       "      <td>559 BEACH 68 STREET</td>\n",
       "      <td>559 beach 68 st</td>\n",
       "    </tr>\n",
       "    <tr>\n",
       "      <th>5</th>\n",
       "      <td>3554 BROADWAY</td>\n",
       "      <td>3554 broadway</td>\n",
       "    </tr>\n",
       "    <tr>\n",
       "      <th>6</th>\n",
       "      <td>2030 PITKIN AVENUE</td>\n",
       "      <td>2030 pitkin ave</td>\n",
       "    </tr>\n",
       "    <tr>\n",
       "      <th>7</th>\n",
       "      <td>5008 FT HAMILTON PARKWAY</td>\n",
       "      <td>5008 ft hamilton parkway</td>\n",
       "    </tr>\n",
       "    <tr>\n",
       "      <th>8</th>\n",
       "      <td>85-006 WOODHAVEN BOULEVARD</td>\n",
       "      <td>85-006 woodhaven boulevard</td>\n",
       "    </tr>\n",
       "    <tr>\n",
       "      <th>9</th>\n",
       "      <td>1340 EAST BAY AVENUE</td>\n",
       "      <td>1340 east bay ave</td>\n",
       "    </tr>\n",
       "    <tr>\n",
       "      <th>10</th>\n",
       "      <td>97-016 116 STREET</td>\n",
       "      <td>97-016 116 st</td>\n",
       "    </tr>\n",
       "    <tr>\n",
       "      <th>11</th>\n",
       "      <td>234 CORBIN AVENUE</td>\n",
       "      <td>234 corbin ave</td>\n",
       "    </tr>\n",
       "    <tr>\n",
       "      <th>12</th>\n",
       "      <td>311 10 AVENUE</td>\n",
       "      <td>311 10 ave</td>\n",
       "    </tr>\n",
       "    <tr>\n",
       "      <th>13</th>\n",
       "      <td>73 MACON AVENUE</td>\n",
       "      <td>73 macon ave</td>\n",
       "    </tr>\n",
       "    <tr>\n",
       "      <th>14</th>\n",
       "      <td>176 SUYDAM STREET</td>\n",
       "      <td>176 suydam st</td>\n",
       "    </tr>\n",
       "    <tr>\n",
       "      <th>15</th>\n",
       "      <td>152-002 BAISLEY BOULEVARD</td>\n",
       "      <td>152-002 baisley boulevard</td>\n",
       "    </tr>\n",
       "    <tr>\n",
       "      <th>16</th>\n",
       "      <td>345 CITY ISLAND AVENUE</td>\n",
       "      <td>345 city island ave</td>\n",
       "    </tr>\n",
       "    <tr>\n",
       "      <th>17</th>\n",
       "      <td>3919 AVENUE P</td>\n",
       "      <td>3919 ave p</td>\n",
       "    </tr>\n",
       "    <tr>\n",
       "      <th>18</th>\n",
       "      <td>197 HOPE AVENUE</td>\n",
       "      <td>197 hope ave</td>\n",
       "    </tr>\n",
       "    <tr>\n",
       "      <th>19</th>\n",
       "      <td>283 ADAMS STREET</td>\n",
       "      <td>283 adams st</td>\n",
       "    </tr>\n",
       "    <tr>\n",
       "      <th>20</th>\n",
       "      <td>1360 HERKIMER STREET</td>\n",
       "      <td>1360 herkimer st</td>\n",
       "    </tr>\n",
       "    <tr>\n",
       "      <th>21</th>\n",
       "      <td>221-006 114 ROAD</td>\n",
       "      <td>221-006 114 road</td>\n",
       "    </tr>\n",
       "    <tr>\n",
       "      <th>22</th>\n",
       "      <td>6833 BLISS TERRACE</td>\n",
       "      <td>6833 bliss terrace</td>\n",
       "    </tr>\n",
       "    <tr>\n",
       "      <th>23</th>\n",
       "      <td>229 EAST 2 STREET</td>\n",
       "      <td>229 east 2 st</td>\n",
       "    </tr>\n",
       "    <tr>\n",
       "      <th>24</th>\n",
       "      <td>34-042 80 STREET</td>\n",
       "      <td>34-042 80 st</td>\n",
       "    </tr>\n",
       "    <tr>\n",
       "      <th>25</th>\n",
       "      <td>87-023 178 STREET</td>\n",
       "      <td>87-023 178 st</td>\n",
       "    </tr>\n",
       "    <tr>\n",
       "      <th>26</th>\n",
       "      <td>90 ROOSEVELT AVENUE</td>\n",
       "      <td>90 roosevelt ave</td>\n",
       "    </tr>\n",
       "    <tr>\n",
       "      <th>27</th>\n",
       "      <td>3221 BRUCKNER BOULEVARD</td>\n",
       "      <td>3221 bruckner boulevard</td>\n",
       "    </tr>\n",
       "    <tr>\n",
       "      <th>28</th>\n",
       "      <td>260 CHRISTOPHER LANE</td>\n",
       "      <td>260 christopher lane</td>\n",
       "    </tr>\n",
       "    <tr>\n",
       "      <th>29</th>\n",
       "      <td>949 ROSSVILLE AVENUE</td>\n",
       "      <td>949 rossville ave</td>\n",
       "    </tr>\n",
       "    <tr>\n",
       "      <th>...</th>\n",
       "      <td>...</td>\n",
       "      <td>...</td>\n",
       "    </tr>\n",
       "    <tr>\n",
       "      <th>683758</th>\n",
       "      <td>659 WOODROW ROAD</td>\n",
       "      <td>659 woodrow road</td>\n",
       "    </tr>\n",
       "    <tr>\n",
       "      <th>683759</th>\n",
       "      <td>1314 EAST 66 STREET</td>\n",
       "      <td>1314 east 66 st</td>\n",
       "    </tr>\n",
       "    <tr>\n",
       "      <th>683760</th>\n",
       "      <td>24-011 42 STREET</td>\n",
       "      <td>24-011 42 st</td>\n",
       "    </tr>\n",
       "    <tr>\n",
       "      <th>683761</th>\n",
       "      <td>1356 AMSTERDAM AVENUE</td>\n",
       "      <td>1356 amsterdam ave</td>\n",
       "    </tr>\n",
       "    <tr>\n",
       "      <th>683762</th>\n",
       "      <td>1185 EAST 27 STREET</td>\n",
       "      <td>1185 east 27 st</td>\n",
       "    </tr>\n",
       "    <tr>\n",
       "      <th>683763</th>\n",
       "      <td>210-010 NASHVILLE BOULEVARD</td>\n",
       "      <td>210-010 nashville boulevard</td>\n",
       "    </tr>\n",
       "    <tr>\n",
       "      <th>683764</th>\n",
       "      <td>2513 BEDFORD AVENUE</td>\n",
       "      <td>2513 bedford ave</td>\n",
       "    </tr>\n",
       "    <tr>\n",
       "      <th>683765</th>\n",
       "      <td>1056 5 AVENUE</td>\n",
       "      <td>1056 5 ave</td>\n",
       "    </tr>\n",
       "    <tr>\n",
       "      <th>683766</th>\n",
       "      <td>645 PROSPECT AVENUE</td>\n",
       "      <td>645 prospect ave</td>\n",
       "    </tr>\n",
       "    <tr>\n",
       "      <th>683767</th>\n",
       "      <td>252 ABINGDON AVENUE</td>\n",
       "      <td>252 abingdon ave</td>\n",
       "    </tr>\n",
       "    <tr>\n",
       "      <th>683768</th>\n",
       "      <td>141-012 224 STREET</td>\n",
       "      <td>141-012 224 st</td>\n",
       "    </tr>\n",
       "    <tr>\n",
       "      <th>683769</th>\n",
       "      <td>1113 JEFFERSON AVENUE</td>\n",
       "      <td>1113 jefferson ave</td>\n",
       "    </tr>\n",
       "    <tr>\n",
       "      <th>683770</th>\n",
       "      <td>47-025 208 STREET</td>\n",
       "      <td>47-025 208 st</td>\n",
       "    </tr>\n",
       "    <tr>\n",
       "      <th>683771</th>\n",
       "      <td>86-002 135 STREET</td>\n",
       "      <td>86-002 135 st</td>\n",
       "    </tr>\n",
       "    <tr>\n",
       "      <th>683772</th>\n",
       "      <td>1201 VIELE AVENUE</td>\n",
       "      <td>1201 viele ave</td>\n",
       "    </tr>\n",
       "    <tr>\n",
       "      <th>683773</th>\n",
       "      <td>205-012 33 AVENUE</td>\n",
       "      <td>205-012 33 ave</td>\n",
       "    </tr>\n",
       "    <tr>\n",
       "      <th>683774</th>\n",
       "      <td>152-028 10 AVENUE</td>\n",
       "      <td>152-028 10 ave</td>\n",
       "    </tr>\n",
       "    <tr>\n",
       "      <th>683775</th>\n",
       "      <td>111-021 76 DRIVE</td>\n",
       "      <td>111-021 76 drive</td>\n",
       "    </tr>\n",
       "    <tr>\n",
       "      <th>683776</th>\n",
       "      <td>212 OCEAN PARKWAY</td>\n",
       "      <td>212 ocean parkway</td>\n",
       "    </tr>\n",
       "    <tr>\n",
       "      <th>683777</th>\n",
       "      <td>1573 79 STREET</td>\n",
       "      <td>1573 79 st</td>\n",
       "    </tr>\n",
       "    <tr>\n",
       "      <th>683778</th>\n",
       "      <td>610 RIVER AVENUE</td>\n",
       "      <td>610 river ave</td>\n",
       "    </tr>\n",
       "    <tr>\n",
       "      <th>683779</th>\n",
       "      <td>28-048 46 STREET</td>\n",
       "      <td>28-048 46 st</td>\n",
       "    </tr>\n",
       "    <tr>\n",
       "      <th>683780</th>\n",
       "      <td>114-016 150 AVENUE</td>\n",
       "      <td>114-016 150 ave</td>\n",
       "    </tr>\n",
       "    <tr>\n",
       "      <th>683781</th>\n",
       "      <td>310 KINGHORN STREET</td>\n",
       "      <td>310 kinghorn st</td>\n",
       "    </tr>\n",
       "    <tr>\n",
       "      <th>683782</th>\n",
       "      <td>205 AVENUE C</td>\n",
       "      <td>205 ave c</td>\n",
       "    </tr>\n",
       "    <tr>\n",
       "      <th>683783</th>\n",
       "      <td>1 BEARD STREET</td>\n",
       "      <td>1 beard st</td>\n",
       "    </tr>\n",
       "    <tr>\n",
       "      <th>683784</th>\n",
       "      <td>87-015 LITTLE NECK PARKWAY</td>\n",
       "      <td>87-015 little neck parkway</td>\n",
       "    </tr>\n",
       "    <tr>\n",
       "      <th>683785</th>\n",
       "      <td>644 EAST 8 STREET</td>\n",
       "      <td>644 east 8 st</td>\n",
       "    </tr>\n",
       "    <tr>\n",
       "      <th>683786</th>\n",
       "      <td>116-019 125 STREET</td>\n",
       "      <td>116-019 125 st</td>\n",
       "    </tr>\n",
       "    <tr>\n",
       "      <th>683787</th>\n",
       "      <td>209 SOUTH 2 STREET</td>\n",
       "      <td>209 south 2 st</td>\n",
       "    </tr>\n",
       "  </tbody>\n",
       "</table>\n",
       "<p>683788 rows × 2 columns</p>\n",
       "</div>"
      ],
      "text/plain": [
       "                            address                  address_std\n",
       "0                 76-046 164 STREET                76-046 164 st\n",
       "1                  72-020 32 AVENUE                72-020 32 ave\n",
       "2                153-026 119 AVENUE              153-026 119 ave\n",
       "3                      89 89 STREET                     89 89 st\n",
       "4               559 BEACH 68 STREET              559 beach 68 st\n",
       "5                     3554 BROADWAY                3554 broadway\n",
       "6                2030 PITKIN AVENUE              2030 pitkin ave\n",
       "7          5008 FT HAMILTON PARKWAY     5008 ft hamilton parkway\n",
       "8        85-006 WOODHAVEN BOULEVARD   85-006 woodhaven boulevard\n",
       "9              1340 EAST BAY AVENUE            1340 east bay ave\n",
       "10                97-016 116 STREET                97-016 116 st\n",
       "11                234 CORBIN AVENUE               234 corbin ave\n",
       "12                    311 10 AVENUE                   311 10 ave\n",
       "13                  73 MACON AVENUE                 73 macon ave\n",
       "14                176 SUYDAM STREET                176 suydam st\n",
       "15        152-002 BAISLEY BOULEVARD    152-002 baisley boulevard\n",
       "16           345 CITY ISLAND AVENUE          345 city island ave\n",
       "17                    3919 AVENUE P                   3919 ave p\n",
       "18                  197 HOPE AVENUE                 197 hope ave\n",
       "19                 283 ADAMS STREET                 283 adams st\n",
       "20             1360 HERKIMER STREET             1360 herkimer st\n",
       "21                 221-006 114 ROAD             221-006 114 road\n",
       "22               6833 BLISS TERRACE           6833 bliss terrace\n",
       "23                229 EAST 2 STREET                229 east 2 st\n",
       "24                 34-042 80 STREET                 34-042 80 st\n",
       "25                87-023 178 STREET                87-023 178 st\n",
       "26              90 ROOSEVELT AVENUE             90 roosevelt ave\n",
       "27          3221 BRUCKNER BOULEVARD      3221 bruckner boulevard\n",
       "28             260 CHRISTOPHER LANE         260 christopher lane\n",
       "29             949 ROSSVILLE AVENUE            949 rossville ave\n",
       "...                             ...                          ...\n",
       "683758             659 WOODROW ROAD             659 woodrow road\n",
       "683759          1314 EAST 66 STREET              1314 east 66 st\n",
       "683760             24-011 42 STREET                 24-011 42 st\n",
       "683761        1356 AMSTERDAM AVENUE           1356 amsterdam ave\n",
       "683762          1185 EAST 27 STREET              1185 east 27 st\n",
       "683763  210-010 NASHVILLE BOULEVARD  210-010 nashville boulevard\n",
       "683764          2513 BEDFORD AVENUE             2513 bedford ave\n",
       "683765                1056 5 AVENUE                   1056 5 ave\n",
       "683766          645 PROSPECT AVENUE             645 prospect ave\n",
       "683767          252 ABINGDON AVENUE             252 abingdon ave\n",
       "683768           141-012 224 STREET               141-012 224 st\n",
       "683769        1113 JEFFERSON AVENUE           1113 jefferson ave\n",
       "683770            47-025 208 STREET                47-025 208 st\n",
       "683771            86-002 135 STREET                86-002 135 st\n",
       "683772            1201 VIELE AVENUE               1201 viele ave\n",
       "683773            205-012 33 AVENUE               205-012 33 ave\n",
       "683774            152-028 10 AVENUE               152-028 10 ave\n",
       "683775             111-021 76 DRIVE             111-021 76 drive\n",
       "683776            212 OCEAN PARKWAY            212 ocean parkway\n",
       "683777               1573 79 STREET                   1573 79 st\n",
       "683778             610 RIVER AVENUE                610 river ave\n",
       "683779             28-048 46 STREET                 28-048 46 st\n",
       "683780           114-016 150 AVENUE              114-016 150 ave\n",
       "683781          310 KINGHORN STREET              310 kinghorn st\n",
       "683782                 205 AVENUE C                    205 ave c\n",
       "683783               1 BEARD STREET                   1 beard st\n",
       "683784   87-015 LITTLE NECK PARKWAY   87-015 little neck parkway\n",
       "683785            644 EAST 8 STREET                644 east 8 st\n",
       "683786           116-019 125 STREET               116-019 125 st\n",
       "683787           209 SOUTH 2 STREET               209 south 2 st\n",
       "\n",
       "[683788 rows x 2 columns]"
      ]
     },
     "execution_count": 42,
     "metadata": {},
     "output_type": "execute_result"
    }
   ],
   "source": [
    "TC_add_ex['address_std'] = TC_add_ex['address'].str.lower()\n",
    "TC_add_ex['address_std'] = TC_add_ex['address_std'].str.strip() # remove leading and trailing whitespace.\n",
    "TC_add_ex['address_std'] = TC_add_ex['address_std'].str.replace('\\\\.', '') # remove period.\n",
    "TC_add_ex['address_std'] = TC_add_ex['address_std'].str.replace('\\\\bstreet\\\\b', 'st') # replace street with st.\n",
    "TC_add_ex['address_std'] = TC_add_ex['address_std'].str.replace('\\\\bapartment\\\\b', 'apt') # replace apartment with apt.\n",
    "TC_add_ex['address_std'] = TC_add_ex['address_std'].str.replace('\\\\bavenue\\\\b', 'ave') # replace avenue with ave.\n",
    "\n",
    "TC_add_ex"
   ]
  }
 ],
 "metadata": {
  "kernelspec": {
   "display_name": "Python 3",
   "language": "python",
   "name": "python3"
  },
  "language_info": {
   "codemirror_mode": {
    "name": "ipython",
    "version": 3
   },
   "file_extension": ".py",
   "mimetype": "text/x-python",
   "name": "python",
   "nbconvert_exporter": "python",
   "pygments_lexer": "ipython3",
   "version": "3.7.3"
  }
 },
 "nbformat": 4,
 "nbformat_minor": 2
}
